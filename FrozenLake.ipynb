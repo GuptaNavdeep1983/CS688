{
  "nbformat": 4,
  "nbformat_minor": 0,
  "metadata": {
    "colab": {
      "name": "FrozenLake.ipynb",
      "provenance": [],
      "collapsed_sections": [],
      "authorship_tag": "ABX9TyPMvLI7eHdaAt8q6mdR0CrJ",
      "include_colab_link": true
    },
    "kernelspec": {
      "name": "python3",
      "display_name": "Python 3"
    },
    "language_info": {
      "name": "python"
    }
  },
  "cells": [
    {
      "cell_type": "markdown",
      "metadata": {
        "id": "view-in-github",
        "colab_type": "text"
      },
      "source": [
        "<a href=\"https://colab.research.google.com/github/GuptaNavdeep1983/CS688/blob/main/FrozenLake.ipynb\" target=\"_parent\"><img src=\"https://colab.research.google.com/assets/colab-badge.svg\" alt=\"Open In Colab\"/></a>"
      ]
    },
    {
      "cell_type": "code",
      "metadata": {
        "colab": {
          "base_uri": "https://localhost:8080/"
        },
        "id": "ZuXI3GDQ7QL7",
        "outputId": "a9285ae4-0dad-4a2b-8fa7-704632205039"
      },
      "source": [
        "pip install gym"
      ],
      "execution_count": 1,
      "outputs": [
        {
          "output_type": "stream",
          "text": [
            "Requirement already satisfied: gym in /usr/local/lib/python3.7/dist-packages (0.17.3)\n",
            "Requirement already satisfied: scipy in /usr/local/lib/python3.7/dist-packages (from gym) (1.4.1)\n",
            "Requirement already satisfied: cloudpickle<1.7.0,>=1.2.0 in /usr/local/lib/python3.7/dist-packages (from gym) (1.3.0)\n",
            "Requirement already satisfied: numpy>=1.10.4 in /usr/local/lib/python3.7/dist-packages (from gym) (1.19.5)\n",
            "Requirement already satisfied: pyglet<=1.5.0,>=1.4.0 in /usr/local/lib/python3.7/dist-packages (from gym) (1.5.0)\n",
            "Requirement already satisfied: future in /usr/local/lib/python3.7/dist-packages (from pyglet<=1.5.0,>=1.4.0->gym) (0.16.0)\n"
          ],
          "name": "stdout"
        }
      ]
    },
    {
      "cell_type": "code",
      "metadata": {
        "id": "xOdOzBzn7Xdz"
      },
      "source": [
        "import numpy as np\n",
        "import gym\n",
        "import random\n",
        "import time\n",
        "from IPython.display import clear_output"
      ],
      "execution_count": 2,
      "outputs": []
    },
    {
      "cell_type": "code",
      "metadata": {
        "id": "O5V0dhY69Cq7"
      },
      "source": [
        "env = gym.make(\"FrozenLake-v0\")"
      ],
      "execution_count": 3,
      "outputs": []
    },
    {
      "cell_type": "code",
      "metadata": {
        "colab": {
          "base_uri": "https://localhost:8080/"
        },
        "id": "wORLvY1r9INd",
        "outputId": "272a563f-48b6-4fac-d1ff-b08082b48910"
      },
      "source": [
        "action_space_size = env.action_space.n\n",
        "state_space_size = env.observation_space.n\n",
        "\n",
        "q_table = np.zeros((state_space_size, action_space_size))\n",
        "print(q_table)\n",
        "\n"
      ],
      "execution_count": 4,
      "outputs": [
        {
          "output_type": "stream",
          "text": [
            "[[0. 0. 0. 0.]\n",
            " [0. 0. 0. 0.]\n",
            " [0. 0. 0. 0.]\n",
            " [0. 0. 0. 0.]\n",
            " [0. 0. 0. 0.]\n",
            " [0. 0. 0. 0.]\n",
            " [0. 0. 0. 0.]\n",
            " [0. 0. 0. 0.]\n",
            " [0. 0. 0. 0.]\n",
            " [0. 0. 0. 0.]\n",
            " [0. 0. 0. 0.]\n",
            " [0. 0. 0. 0.]\n",
            " [0. 0. 0. 0.]\n",
            " [0. 0. 0. 0.]\n",
            " [0. 0. 0. 0.]\n",
            " [0. 0. 0. 0.]]\n"
          ],
          "name": "stdout"
        }
      ]
    },
    {
      "cell_type": "code",
      "metadata": {
        "id": "zSH_pd_m9jjK"
      },
      "source": [
        "num_episodes = 100000\n",
        "max_steps_per_episode = 1000\n",
        "\n",
        "learning_rate = 0.01\n",
        "discount_rate = 0.99\n",
        "\n",
        "exploration_rate = 1\n",
        "max_exploration_rate = 1\n",
        "min_exploration_rate = 0.01\n",
        "exploration_decay_rate = 0.001"
      ],
      "execution_count": 41,
      "outputs": []
    },
    {
      "cell_type": "code",
      "metadata": {
        "colab": {
          "base_uri": "https://localhost:8080/"
        },
        "id": "ml75-_J22xsc",
        "outputId": "06052679-0312-4f23-803d-1bcb68933ac6"
      },
      "source": [
        "rewards_all_episodes = []\n",
        "for episode in range(num_episodes):\n",
        "  state = env.reset()\n",
        "  done = False\n",
        "  rewards_current_episode = 0\n",
        "  for step in range(max_steps_per_episode):\n",
        "    exploration_rate_random = random.uniform(0, 1)\n",
        "    # decide on what action (exploitation/exploration)\n",
        "    if (exploration_rate_random > exploration_rate):\n",
        "      action = np.argmax(q_table[state, :])\n",
        "    else:\n",
        "      action = env.action_space.sample()\n",
        "    # take next action\n",
        "    new_state, reward, done, info = env.step(action)\n",
        "    # calculate the cumulative reward for this action based on previous rewards\n",
        "    q_table[state, action] = ((1 - learning_rate) * q_table[state, action]) + \\\n",
        "                        (learning_rate * (reward + discount_rate * np.max(q_table[new_state, :])))\n",
        "\n",
        "    state = new_state\n",
        "    rewards_current_episode += reward \n",
        "\n",
        "    if done:\n",
        "      break;\n",
        "\n",
        "  # Exploration rate decay\n",
        "  exploration_rate = min_exploration_rate + \\\n",
        "    (max_exploration_rate - min_exploration_rate) * np.exp(-exploration_decay_rate*episode)\n",
        "  learning_rate = \n",
        "  if (episode % 1000 == 0):\n",
        "    print(\"exploration_rate: %f\"% (exploration_rate))\n",
        "\n",
        "  rewards_all_episodes.append(rewards_current_episode)"
      ],
      "execution_count": 42,
      "outputs": [
        {
          "output_type": "stream",
          "text": [
            "exploration_rate: 1.000000\n",
            "exploration_rate: 0.374201\n",
            "exploration_rate: 0.143982\n",
            "exploration_rate: 0.059289\n",
            "exploration_rate: 0.028132\n",
            "exploration_rate: 0.016671\n",
            "exploration_rate: 0.012454\n",
            "exploration_rate: 0.010903\n",
            "exploration_rate: 0.010332\n",
            "exploration_rate: 0.010122\n",
            "exploration_rate: 0.010045\n",
            "exploration_rate: 0.010017\n",
            "exploration_rate: 0.010006\n",
            "exploration_rate: 0.010002\n",
            "exploration_rate: 0.010001\n",
            "exploration_rate: 0.010000\n",
            "exploration_rate: 0.010000\n",
            "exploration_rate: 0.010000\n",
            "exploration_rate: 0.010000\n",
            "exploration_rate: 0.010000\n",
            "exploration_rate: 0.010000\n",
            "exploration_rate: 0.010000\n",
            "exploration_rate: 0.010000\n",
            "exploration_rate: 0.010000\n",
            "exploration_rate: 0.010000\n",
            "exploration_rate: 0.010000\n",
            "exploration_rate: 0.010000\n",
            "exploration_rate: 0.010000\n",
            "exploration_rate: 0.010000\n",
            "exploration_rate: 0.010000\n",
            "exploration_rate: 0.010000\n",
            "exploration_rate: 0.010000\n",
            "exploration_rate: 0.010000\n",
            "exploration_rate: 0.010000\n",
            "exploration_rate: 0.010000\n",
            "exploration_rate: 0.010000\n",
            "exploration_rate: 0.010000\n",
            "exploration_rate: 0.010000\n",
            "exploration_rate: 0.010000\n",
            "exploration_rate: 0.010000\n",
            "exploration_rate: 0.010000\n",
            "exploration_rate: 0.010000\n",
            "exploration_rate: 0.010000\n",
            "exploration_rate: 0.010000\n",
            "exploration_rate: 0.010000\n",
            "exploration_rate: 0.010000\n",
            "exploration_rate: 0.010000\n",
            "exploration_rate: 0.010000\n",
            "exploration_rate: 0.010000\n",
            "exploration_rate: 0.010000\n",
            "exploration_rate: 0.010000\n",
            "exploration_rate: 0.010000\n",
            "exploration_rate: 0.010000\n",
            "exploration_rate: 0.010000\n",
            "exploration_rate: 0.010000\n",
            "exploration_rate: 0.010000\n",
            "exploration_rate: 0.010000\n",
            "exploration_rate: 0.010000\n",
            "exploration_rate: 0.010000\n",
            "exploration_rate: 0.010000\n",
            "exploration_rate: 0.010000\n",
            "exploration_rate: 0.010000\n",
            "exploration_rate: 0.010000\n",
            "exploration_rate: 0.010000\n",
            "exploration_rate: 0.010000\n",
            "exploration_rate: 0.010000\n",
            "exploration_rate: 0.010000\n",
            "exploration_rate: 0.010000\n",
            "exploration_rate: 0.010000\n",
            "exploration_rate: 0.010000\n",
            "exploration_rate: 0.010000\n",
            "exploration_rate: 0.010000\n",
            "exploration_rate: 0.010000\n",
            "exploration_rate: 0.010000\n",
            "exploration_rate: 0.010000\n",
            "exploration_rate: 0.010000\n",
            "exploration_rate: 0.010000\n",
            "exploration_rate: 0.010000\n",
            "exploration_rate: 0.010000\n",
            "exploration_rate: 0.010000\n",
            "exploration_rate: 0.010000\n",
            "exploration_rate: 0.010000\n",
            "exploration_rate: 0.010000\n",
            "exploration_rate: 0.010000\n",
            "exploration_rate: 0.010000\n",
            "exploration_rate: 0.010000\n",
            "exploration_rate: 0.010000\n",
            "exploration_rate: 0.010000\n",
            "exploration_rate: 0.010000\n",
            "exploration_rate: 0.010000\n",
            "exploration_rate: 0.010000\n",
            "exploration_rate: 0.010000\n",
            "exploration_rate: 0.010000\n",
            "exploration_rate: 0.010000\n",
            "exploration_rate: 0.010000\n",
            "exploration_rate: 0.010000\n",
            "exploration_rate: 0.010000\n",
            "exploration_rate: 0.010000\n",
            "exploration_rate: 0.010000\n",
            "exploration_rate: 0.010000\n"
          ],
          "name": "stdout"
        }
      ]
    },
    {
      "cell_type": "code",
      "metadata": {
        "colab": {
          "base_uri": "https://localhost:8080/"
        },
        "id": "Rfg5EXu19tjq",
        "outputId": "639f903c-f51c-48e8-a9a4-286cb532e7f2"
      },
      "source": [
        "rewards_per_thousand_episodes = np.split(np.array(rewards_all_episodes),num_episodes/1000)\n",
        "count = 1000\n",
        "print(\"********Average reward per thousand episodes********\\n\")\n",
        "for r in rewards_per_thousand_episodes:\n",
        "    print(count, \": \", str(sum(r/1000)))\n",
        "    count += 1000"
      ],
      "execution_count": 43,
      "outputs": [
        {
          "output_type": "stream",
          "text": [
            "********Average reward per thousand episodes********\n",
            "\n",
            "1000 :  0.05100000000000004\n",
            "2000 :  0.21800000000000017\n",
            "3000 :  0.4280000000000003\n",
            "4000 :  0.5940000000000004\n",
            "5000 :  0.6730000000000005\n",
            "6000 :  0.6590000000000005\n",
            "7000 :  0.6780000000000005\n",
            "8000 :  0.6880000000000005\n",
            "9000 :  0.7000000000000005\n",
            "10000 :  0.6940000000000005\n",
            "11000 :  0.7120000000000005\n",
            "12000 :  0.6940000000000005\n",
            "13000 :  0.6880000000000005\n",
            "14000 :  0.6830000000000005\n",
            "15000 :  0.7160000000000005\n",
            "16000 :  0.7130000000000005\n",
            "17000 :  0.6960000000000005\n",
            "18000 :  0.6780000000000005\n",
            "19000 :  0.6770000000000005\n",
            "20000 :  0.6470000000000005\n",
            "21000 :  0.6910000000000005\n",
            "22000 :  0.7230000000000005\n",
            "23000 :  0.7000000000000005\n",
            "24000 :  0.7060000000000005\n",
            "25000 :  0.7150000000000005\n",
            "26000 :  0.7010000000000005\n",
            "27000 :  0.7180000000000005\n",
            "28000 :  0.6610000000000005\n",
            "29000 :  0.6870000000000005\n",
            "30000 :  0.6960000000000005\n",
            "31000 :  0.6760000000000005\n",
            "32000 :  0.7150000000000005\n",
            "33000 :  0.6860000000000005\n",
            "34000 :  0.6920000000000005\n",
            "35000 :  0.6890000000000005\n",
            "36000 :  0.7000000000000005\n",
            "37000 :  0.6910000000000005\n",
            "38000 :  0.7010000000000005\n",
            "39000 :  0.6680000000000005\n",
            "40000 :  0.6760000000000005\n",
            "41000 :  0.6960000000000005\n",
            "42000 :  0.7040000000000005\n",
            "43000 :  0.6760000000000005\n",
            "44000 :  0.6920000000000005\n",
            "45000 :  0.6940000000000005\n",
            "46000 :  0.7010000000000005\n",
            "47000 :  0.6970000000000005\n",
            "48000 :  0.7070000000000005\n",
            "49000 :  0.7380000000000005\n",
            "50000 :  0.6750000000000005\n",
            "51000 :  0.7060000000000005\n",
            "52000 :  0.6950000000000005\n",
            "53000 :  0.6680000000000005\n",
            "54000 :  0.6810000000000005\n",
            "55000 :  0.6930000000000005\n",
            "56000 :  0.6980000000000005\n",
            "57000 :  0.7050000000000005\n",
            "58000 :  0.7010000000000005\n",
            "59000 :  0.6870000000000005\n",
            "60000 :  0.7080000000000005\n",
            "61000 :  0.7060000000000005\n",
            "62000 :  0.6990000000000005\n",
            "63000 :  0.6940000000000005\n",
            "64000 :  0.6580000000000005\n",
            "65000 :  0.7000000000000005\n",
            "66000 :  0.7130000000000005\n",
            "67000 :  0.6680000000000005\n",
            "68000 :  0.7200000000000005\n",
            "69000 :  0.7120000000000005\n",
            "70000 :  0.6920000000000005\n",
            "71000 :  0.6980000000000005\n",
            "72000 :  0.6910000000000005\n",
            "73000 :  0.7120000000000005\n",
            "74000 :  0.6860000000000005\n",
            "75000 :  0.6740000000000005\n",
            "76000 :  0.6700000000000005\n",
            "77000 :  0.7040000000000005\n",
            "78000 :  0.7050000000000005\n",
            "79000 :  0.7170000000000005\n",
            "80000 :  0.6960000000000005\n",
            "81000 :  0.6920000000000005\n",
            "82000 :  0.7010000000000005\n",
            "83000 :  0.6950000000000005\n",
            "84000 :  0.6880000000000005\n",
            "85000 :  0.6910000000000005\n",
            "86000 :  0.7120000000000005\n",
            "87000 :  0.7060000000000005\n",
            "88000 :  0.6870000000000005\n",
            "89000 :  0.6940000000000005\n",
            "90000 :  0.7260000000000005\n",
            "91000 :  0.6870000000000005\n",
            "92000 :  0.6960000000000005\n",
            "93000 :  0.7020000000000005\n",
            "94000 :  0.6910000000000005\n",
            "95000 :  0.7140000000000005\n",
            "96000 :  0.6690000000000005\n",
            "97000 :  0.7150000000000005\n",
            "98000 :  0.6790000000000005\n",
            "99000 :  0.7040000000000005\n",
            "100000 :  0.6730000000000005\n"
          ],
          "name": "stdout"
        }
      ]
    },
    {
      "cell_type": "code",
      "metadata": {
        "colab": {
          "base_uri": "https://localhost:8080/"
        },
        "id": "Nj0FLlaaB6eP",
        "outputId": "b9ba8735-3a04-47f4-de6e-e5afb592df81"
      },
      "source": [
        "print(q_table)\n",
        "np.exp(-exploration_decay_rate*10000)"
      ],
      "execution_count": 46,
      "outputs": [
        {
          "output_type": "stream",
          "text": [
            "[[0.53267317 0.52162734 0.52187916 0.52042261]\n",
            " [0.36729765 0.33508407 0.33049259 0.48961676]\n",
            " [0.44742024 0.43260552 0.42769357 0.46602841]\n",
            " [0.3171366  0.29856497 0.30863683 0.45371854]\n",
            " [0.54948448 0.37955835 0.40163945 0.40201585]\n",
            " [0.         0.         0.         0.        ]\n",
            " [0.36667477 0.22477512 0.29716721 0.15031508]\n",
            " [0.         0.         0.         0.        ]\n",
            " [0.38144572 0.38885271 0.38531031 0.58418705]\n",
            " [0.44905863 0.65019282 0.50572231 0.34566507]\n",
            " [0.61639283 0.51838388 0.37071892 0.32945738]\n",
            " [0.         0.         0.         0.        ]\n",
            " [0.         0.         0.         0.        ]\n",
            " [0.45002323 0.47011525 0.75183903 0.47259276]\n",
            " [0.74553306 0.86324522 0.82963559 0.76565568]\n",
            " [0.         0.         0.         0.        ]]\n"
          ],
          "name": "stdout"
        },
        {
          "output_type": "execute_result",
          "data": {
            "text/plain": [
              "4.5399929762484854e-05"
            ]
          },
          "metadata": {
            "tags": []
          },
          "execution_count": 46
        }
      ]
    }
  ]
}