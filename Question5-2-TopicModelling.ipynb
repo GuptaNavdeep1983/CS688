{
  "nbformat": 4,
  "nbformat_minor": 0,
  "metadata": {
    "colab": {
      "name": "Assignment 6.ipynb",
      "provenance": [],
      "collapsed_sections": [],
      "authorship_tag": "ABX9TyOZG9IlvNa8XwmI+5ZiLqgE",
      "include_colab_link": true
    },
    "kernelspec": {
      "name": "python3",
      "display_name": "Python 3"
    }
  },
  "cells": [
    {
      "cell_type": "markdown",
      "metadata": {
        "id": "view-in-github",
        "colab_type": "text"
      },
      "source": [
        "<a href=\"https://colab.research.google.com/github/GuptaNavdeep1983/CS688/blob/main/Question5-2-TopicModelling.ipynb\" target=\"_parent\"><img src=\"https://colab.research.google.com/assets/colab-badge.svg\" alt=\"Open In Colab\"/></a>"
      ]
    },
    {
      "cell_type": "markdown",
      "metadata": {
        "id": "G7Jw5OkD-WJl"
      },
      "source": [
        "References:\n",
        "\n",
        "https://datascience.stackexchange.com/questions/54904/how-to-avoid-tokenizing-w-sklearn-feature-extraction\n",
        "\n",
        "\n",
        "https://www.datacamp.com/community/tutorials/discovering-hidden-topics-python\n",
        "\n",
        "https://www.freecodecamp.org/news/an-introduction-to-bag-of-words-and-how-to-code-it-in-python-for-nlp-282e87a9da04/\n",
        "\n",
        "https://scikit-learn.org/stable/modules/generated/sklearn.feature_extraction.text.CountVectorizer.html#sklearn.feature_extraction.text.CountVectorizer.transform\n",
        "\n",
        "https://radimrehurek.com/gensim/auto_examples/core/run_corpora_and_vector_spaces.html\n",
        "\n",
        "https://github.com/brandomr/document_cluster/blob/master/cluster_analysis.ipynb"
      ]
    },
    {
      "cell_type": "code",
      "metadata": {
        "id": "939EWQDE89Pc",
        "colab": {
          "base_uri": "https://localhost:8080/"
        },
        "outputId": "9c26251f-cd41-473a-d477-b9a0947cd3cd"
      },
      "source": [
        "pip install gensim\r\n",
        "pip install pyLDAvis"
      ],
      "execution_count": 1,
      "outputs": [
        {
          "output_type": "stream",
          "text": [
            "Requirement already satisfied: gensim in /usr/local/lib/python3.6/dist-packages (3.6.0)\n",
            "Requirement already satisfied: scipy>=0.18.1 in /usr/local/lib/python3.6/dist-packages (from gensim) (1.4.1)\n",
            "Requirement already satisfied: six>=1.5.0 in /usr/local/lib/python3.6/dist-packages (from gensim) (1.15.0)\n",
            "Requirement already satisfied: smart-open>=1.2.1 in /usr/local/lib/python3.6/dist-packages (from gensim) (4.0.1)\n",
            "Requirement already satisfied: numpy>=1.11.3 in /usr/local/lib/python3.6/dist-packages (from gensim) (1.18.5)\n"
          ],
          "name": "stdout"
        }
      ]
    },
    {
      "cell_type": "code",
      "metadata": {
        "id": "S-_jecXwgU3_",
        "colab": {
          "base_uri": "https://localhost:8080/"
        },
        "outputId": "98de27e8-5b30-4446-89bf-41403528fb42"
      },
      "source": [
        "import statsmodels.api as sm \n",
        "import pylab as py \n",
        "import matplotlib.pyplot as plt\n",
        "import pandas as pd\n",
        "import urllib.request\n",
        "import datetime\n",
        "from zipfile import ZipFile\n",
        "from gzip import decompress\n",
        "from json import loads\n",
        "from requests import get\n",
        "import requests, zipfile, io\n",
        "from bs4 import BeautifulSoup\n",
        "import math\n",
        "import numpy as np\n",
        "from sklearn.feature_extraction.text import CountVectorizer\n",
        "import re\n",
        "import gensim\n",
        "from gensim import corpora\n",
        "from gensim.models import LsiModel, LdaModel\n",
        "from gensim.models.coherencemodel import CoherenceModel\n",
        "from gensim.test.utils import common_texts\n",
        "from gensim.parsing.preprocessing import remove_stopwords, strip_punctuation, strip_punctuation2, strip_short, strip_numeric, stem_text\n",
        "from gensim.utils import simple_preprocess\n",
        "from gensim.parsing.preprocessing import STOPWORDS\n",
        "from nltk.stem import WordNetLemmatizer, SnowballStemmer\n",
        "from nltk.stem.porter import *\n",
        "import nltk\n",
        "nltk.download('punkt')\n",
        "nltk.download('stopwords')\n",
        "nltk.download('wordnet')"
      ],
      "execution_count": 48,
      "outputs": [
        {
          "output_type": "stream",
          "text": [
            "[nltk_data] Downloading package punkt to /root/nltk_data...\n",
            "[nltk_data]   Package punkt is already up-to-date!\n",
            "[nltk_data] Downloading package stopwords to /root/nltk_data...\n",
            "[nltk_data]   Package stopwords is already up-to-date!\n"
          ],
          "name": "stdout"
        },
        {
          "output_type": "execute_result",
          "data": {
            "text/plain": [
              "True"
            ]
          },
          "metadata": {
            "tags": []
          },
          "execution_count": 48
        }
      ]
    },
    {
      "cell_type": "code",
      "metadata": {
        "id": "enaBhKy-ugkn",
        "outputId": "338aa5f7-31be-4ceb-b26a-8e19dd18b035",
        "colab": {
          "base_uri": "https://localhost:8080/",
          "height": 415
        }
      },
      "source": [
        "df = pd.read_csv(\"pubmed_results.csv\")\r\n",
        "df.dropna(inplace=True)\r\n",
        "df"
      ],
      "execution_count": 50,
      "outputs": [
        {
          "output_type": "execute_result",
          "data": {
            "text/html": [
              "<div>\n",
              "<style scoped>\n",
              "    .dataframe tbody tr th:only-of-type {\n",
              "        vertical-align: middle;\n",
              "    }\n",
              "\n",
              "    .dataframe tbody tr th {\n",
              "        vertical-align: top;\n",
              "    }\n",
              "\n",
              "    .dataframe thead th {\n",
              "        text-align: right;\n",
              "    }\n",
              "</style>\n",
              "<table border=\"1\" class=\"dataframe\">\n",
              "  <thead>\n",
              "    <tr style=\"text-align: right;\">\n",
              "      <th></th>\n",
              "      <th>year</th>\n",
              "      <th>month</th>\n",
              "      <th>title</th>\n",
              "      <th>day</th>\n",
              "      <th>abstract</th>\n",
              "    </tr>\n",
              "  </thead>\n",
              "  <tbody>\n",
              "    <tr>\n",
              "      <th>1</th>\n",
              "      <td>2012</td>\n",
              "      <td>7</td>\n",
              "      <td>Golimumab for the treatment of psoriatic arthr...</td>\n",
              "      <td>5</td>\n",
              "      <td>This paper presents a summary of the evidence ...</td>\n",
              "    </tr>\n",
              "    <tr>\n",
              "      <th>2</th>\n",
              "      <td>2012</td>\n",
              "      <td>7</td>\n",
              "      <td>Liraglutide for the treatment of type 2 diabetes.</td>\n",
              "      <td>5</td>\n",
              "      <td>This paper presents a summary of the evidence ...</td>\n",
              "    </tr>\n",
              "    <tr>\n",
              "      <th>3</th>\n",
              "      <td>2012</td>\n",
              "      <td>7</td>\n",
              "      <td>Trabectedin for the treatment of relapsed ovar...</td>\n",
              "      <td>5</td>\n",
              "      <td>The paper presents a summary of the evidence r...</td>\n",
              "    </tr>\n",
              "    <tr>\n",
              "      <th>4</th>\n",
              "      <td>2012</td>\n",
              "      <td>7</td>\n",
              "      <td>Ofatumumab for the treatment of chronic lympho...</td>\n",
              "      <td>5</td>\n",
              "      <td>This paper presents a summary of the evidence ...</td>\n",
              "    </tr>\n",
              "    <tr>\n",
              "      <th>5</th>\n",
              "      <td>2012</td>\n",
              "      <td>7</td>\n",
              "      <td>Denosumab for the prevention of osteoporotic f...</td>\n",
              "      <td>5</td>\n",
              "      <td>This paper presents a summary of the evidence ...</td>\n",
              "    </tr>\n",
              "    <tr>\n",
              "      <th>...</th>\n",
              "      <td>...</td>\n",
              "      <td>...</td>\n",
              "      <td>...</td>\n",
              "      <td>...</td>\n",
              "      <td>...</td>\n",
              "    </tr>\n",
              "    <tr>\n",
              "      <th>995</th>\n",
              "      <td>2020</td>\n",
              "      <td>12</td>\n",
              "      <td>Using Whatsapp for the Consultation of Covid-1...</td>\n",
              "      <td>4</td>\n",
              "      <td>Telephone, internet-connected devices (phablet...</td>\n",
              "    </tr>\n",
              "    <tr>\n",
              "      <th>996</th>\n",
              "      <td>2020</td>\n",
              "      <td>12</td>\n",
              "      <td>A comprehensive study on ozone pollution in a ...</td>\n",
              "      <td>4</td>\n",
              "      <td>Tropospheric ozone (O3) pollution has b</td>\n",
              "    </tr>\n",
              "    <tr>\n",
              "      <th>997</th>\n",
              "      <td>2020</td>\n",
              "      <td>12</td>\n",
              "      <td>Long-term exposure to low-level air pollution ...</td>\n",
              "      <td>4</td>\n",
              "      <td>Air pollution has been suggested as a risk fac...</td>\n",
              "    </tr>\n",
              "    <tr>\n",
              "      <th>998</th>\n",
              "      <td>2020</td>\n",
              "      <td>12</td>\n",
              "      <td>Radiation-induced lens opacities: Epidemiologi...</td>\n",
              "      <td>4</td>\n",
              "      <td>In 2011, the International Commission on Radio...</td>\n",
              "    </tr>\n",
              "    <tr>\n",
              "      <th>999</th>\n",
              "      <td>2020</td>\n",
              "      <td>12</td>\n",
              "      <td>Serum nickel is associated with craniosynostos...</td>\n",
              "      <td>4</td>\n",
              "      <td>To date, few studies have explored the effects...</td>\n",
              "    </tr>\n",
              "  </tbody>\n",
              "</table>\n",
              "<p>808 rows × 5 columns</p>\n",
              "</div>"
            ],
            "text/plain": [
              "     year  month  ... day                                           abstract\n",
              "1    2012      7  ...   5  This paper presents a summary of the evidence ...\n",
              "2    2012      7  ...   5  This paper presents a summary of the evidence ...\n",
              "3    2012      7  ...   5  The paper presents a summary of the evidence r...\n",
              "4    2012      7  ...   5  This paper presents a summary of the evidence ...\n",
              "5    2012      7  ...   5  This paper presents a summary of the evidence ...\n",
              "..    ...    ...  ...  ..                                                ...\n",
              "995  2020     12  ...   4  Telephone, internet-connected devices (phablet...\n",
              "996  2020     12  ...   4            Tropospheric ozone (O3) pollution has b\n",
              "997  2020     12  ...   4  Air pollution has been suggested as a risk fac...\n",
              "998  2020     12  ...   4  In 2011, the International Commission on Radio...\n",
              "999  2020     12  ...   4  To date, few studies have explored the effects...\n",
              "\n",
              "[808 rows x 5 columns]"
            ]
          },
          "metadata": {
            "tags": []
          },
          "execution_count": 50
        }
      ]
    },
    {
      "cell_type": "code",
      "metadata": {
        "id": "ZSuEBrnCujuI"
      },
      "source": [
        "all_sentences = df['title'].to_numpy()\r\n",
        "all_words = [nltk.word_tokenize(sent) for sent in all_sentences]\r\n",
        "all_words"
      ],
      "execution_count": null,
      "outputs": []
    },
    {
      "cell_type": "code",
      "metadata": {
        "id": "6LGU-aeMu--N"
      },
      "source": [
        "import string\r\n",
        "# @title Stopword removal \r\n",
        "from nltk.corpus import stopwords\r\n",
        "for i in range(len(all_words)):\r\n",
        "    all_words[i] = [w for w in all_words[i] if (w not in stopwords.words('english')) & (w not in string.punctuation) ]\r\n",
        "    "
      ],
      "execution_count": 53,
      "outputs": []
    },
    {
      "cell_type": "code",
      "metadata": {
        "id": "sMp6uX7KHA6T"
      },
      "source": [
        "common_dictionary = corpora.Dictionary(all_words)\n",
        "common_dictionary.filter_extremes(no_below=15, no_above=0.1, keep_n= 100000)"
      ],
      "execution_count": 55,
      "outputs": []
    },
    {
      "cell_type": "code",
      "metadata": {
        "id": "cAG0J-ufyJyO"
      },
      "source": [
        "common_corpus = [common_dictionary.doc2bow(doc) for doc in all_words]"
      ],
      "execution_count": 56,
      "outputs": []
    },
    {
      "cell_type": "code",
      "metadata": {
        "id": "aBwPMD7G8HOK"
      },
      "source": [
        "def create_gensim_lsi_model(common_corpus, common_dictionary):\n",
        "    # generate LSI model\n",
        "    lsamodel = LsiModel(common_corpus, id2word = common_dictionary, num_topics=5)  # train model\n",
        "    print(lsamodel.print_topics())\n",
        "    return lsamodel"
      ],
      "execution_count": 9,
      "outputs": []
    },
    {
      "cell_type": "code",
      "metadata": {
        "id": "2iG6F3iPuhpL"
      },
      "source": [
        "def create_gensim_lda_model(common_corpus, common_dictionary):\n",
        "    # generate LDA model\n",
        "    lsamodel = gensim.models.LdaMulticore(common_corpus, num_topics=5, id2word=common_dictionary, passes=3, workers=2)  # train model\n",
        "    print(lsamodel.print_topics())\n",
        "    return lsamodel"
      ],
      "execution_count": 13,
      "outputs": []
    },
    {
      "cell_type": "code",
      "metadata": {
        "id": "GlogTBQUJm14",
        "colab": {
          "base_uri": "https://localhost:8080/"
        },
        "outputId": "ad0f01e3-944c-4a92-b963-e08a81c7a910"
      },
      "source": [
        "lsi_model = create_gensim_lsi_model(common_corpus=common_corpus, common_dictionary=common_dictionary)\n"
      ],
      "execution_count": 37,
      "outputs": [
        {
          "output_type": "stream",
          "text": [
            "[(0, '0.696*\"(\" + 0.696*\")\" + 0.084*\";\" + 0.076*\"The\" + 0.056*\"patients\" + 0.050*\"care\" + 0.048*\"treatment\" + 0.043*\"cancer\" + 0.040*\"review\" + 0.036*\"disease\"'), (1, '0.750*\"The\" + 0.350*\"patients\" + 0.261*\"care\" + 0.241*\"disease\" + 0.207*\"cancer\" + 0.188*\";\" + 0.169*\"study\" + 0.119*\"-\" + 0.116*\"home\" + -0.100*\"(\"'), (2, '0.959*\";\" + -0.169*\"patients\" + -0.120*\"care\" + 0.082*\"Development\" + -0.074*\"The\" + -0.060*\"disease\" + -0.057*\"study\" + 0.056*\"\\'s\" + -0.048*\"cancer\" + 0.047*\"Study\"'), (3, '0.627*\"The\" + -0.538*\"patients\" + -0.317*\"disease\" + -0.283*\"cancer\" + -0.226*\"care\" + -0.142*\"?\" + -0.125*\"study\" + -0.121*\";\" + -0.078*\"home\" + -0.077*\"treatment\"'), (4, '-0.606*\"study\" + 0.475*\"patients\" + -0.375*\"cancer\" + -0.339*\"care\" + 0.275*\"disease\" + -0.131*\"among\" + -0.123*\"-\" + -0.108*\"home\" + 0.107*\"The\" + -0.077*\"case\"')]\n"
          ],
          "name": "stdout"
        }
      ]
    },
    {
      "cell_type": "code",
      "metadata": {
        "id": "6NYfambNu7XF"
      },
      "source": [
        "lda_model = create_gensim_lda_model(common_corpus, common_dictionary)"
      ],
      "execution_count": null,
      "outputs": []
    },
    {
      "cell_type": "code",
      "metadata": {
        "id": "8vw7-oy1qdp7"
      },
      "source": [
        "from collections import OrderedDict\r\n",
        "data_lda = {i: OrderedDict(lda_model.show_topic(i,25)) for i in range(5)}\r\n",
        "data_lda"
      ],
      "execution_count": null,
      "outputs": []
    },
    {
      "cell_type": "code",
      "metadata": {
        "id": "vhUsvKwzrRj9",
        "colab": {
          "base_uri": "https://localhost:8080/"
        },
        "outputId": "dd50245b-abcd-46e6-ebb7-a7ee219b0d0c"
      },
      "source": [
        "df_lda = pd.DataFrame(data_lda)\n",
        "df_lda = df_lda.fillna(0).T\n",
        "print(df_lda.shape)\n"
      ],
      "execution_count": 61,
      "outputs": [
        {
          "output_type": "stream",
          "text": [
            "(5, 23)\n"
          ],
          "name": "stdout"
        }
      ]
    },
    {
      "cell_type": "code",
      "metadata": {
        "colab": {
          "base_uri": "https://localhost:8080/",
          "height": 1000
        },
        "id": "1QVeoh2Erqkl",
        "outputId": "4ff54ea7-5067-4cc7-c261-a81e9b5db9d5"
      },
      "source": [
        "import seaborn as sns\r\n",
        "g=sns.clustermap(df_lda.corr(), center=0, standard_scale=1, cmap=\"RdBu\", metric='cosine', linewidths=.75, figsize=(15, 15))\r\n",
        "plt.setp(g.ax_heatmap.yaxis.get_majorticklabels(), rotation=0)\r\n",
        "plt.show()"
      ],
      "execution_count": 62,
      "outputs": [
        {
          "output_type": "display_data",
          "data": {
            "image/png": "[encoded data removed]",
            "text/plain": [
              "<Figure size 1080x1080 with 4 Axes>"
            ]
          },
          "metadata": {
            "tags": [],
            "needs_background": "light"
          }
        }
      ]
    },
    {
      "cell_type": "code",
      "metadata": {
        "id": "FcNydn_vsS8Q",
        "outputId": "ec114b24-1fb4-4a96-b05d-737dd8bdd390",
        "colab": {
          "base_uri": "https://localhost:8080/",
          "height": 861
        }
      },
      "source": [
        "import pyLDAvis.gensim\r\n",
        "corpus_lda = lda_model[common_corpus]\r\n",
        "pyLDAvis.enable_notebook()\r\n",
        "panel = pyLDAvis.gensim.prepare(lda_model, corpus_lda, common_dictionary, mds='tsne')\r\n",
        "panel\r\n"
      ],
      "execution_count": 64,
      "outputs": [
        {
          "output_type": "execute_result",
          "data": {
            "text/html": [
              "\n",
              "<link rel=\"stylesheet\" type=\"text/css\" href=\"https://cdn.rawgit.com/bmabey/pyLDAvis/files/ldavis.v1.0.0.css\">\n",
              "\n",
              "\n",
              "<div id=\"ldavis_el591399791572121607324635782\"></div>\n",
              "<script type=\"text/javascript\">\n",
              "\n",
              "var ldavis_el591399791572121607324635782_data = {\"mdsDat\": {\"x\": [150.22215270996094, 51.16336441040039, -73.1445541381836, -66.4101333618164, 54.41732406616211], \"y\": [-72.2695541381836, -159.968017578125, 21.523815155029297, -110.60643768310547, 12.44344425201416], \"topics\": [1, 2, 3, 4, 5], \"cluster\": [1, 1, 1, 1, 1], \"Freq\": [31.66651356409293, 28.94891256223303, 19.112629552728766, 10.267736734143865, 10.004207586801414]}, \"tinfo\": {\"Term\": [\"study\", \"The\", \"cancer\", \"using\", \"'s\", \"care\", \"treatment\", \"patients\", \"cells\", \"disease\", \"associated\", \"delivery\", \"review\", \"cell\", \"Disease\", \"Patients\", \"home\", \"Study\", \"among\", \"case\", \"chronic\", \"evaluation\", \"Development\", \"'s\", \"treatment\", \"patients\", \"disease\", \"home\", \"Disease\", \"evaluation\", \"Development\", \"chronic\", \"among\", \"cell\", \"cancer\", \"The\", \"care\", \"Study\", \"Patients\", \"delivery\", \"associated\", \"case\", \"cells\", \"review\", \"using\", \"study\", \"using\", \"study\", \"review\", \"chronic\", \"Development\", \"disease\", \"case\", \"associated\", \"cells\", \"The\", \"cell\", \"patients\", \"Study\", \"Patients\", \"delivery\", \"Disease\", \"among\", \"home\", \"care\", \"evaluation\", \"treatment\", \"'s\", \"cancer\", \"cells\", \"cancer\", \"case\", \"evaluation\", \"Disease\", \"among\", \"cell\", \"Patients\", \"patients\", \"delivery\", \"study\", \"review\", \"Development\", \"Study\", \"care\", \"associated\", \"The\", \"home\", \"treatment\", \"chronic\", \"using\", \"'s\", \"disease\", \"delivery\", \"associated\", \"care\", \"home\", \"disease\", \"evaluation\", \"case\", \"cancer\", \"patients\", \"chronic\", \"Development\", \"among\", \"The\", \"treatment\", \"cells\", \"Patients\", \"cell\", \"Study\", \"study\", \"using\", \"Disease\", \"review\", \"'s\", \"Study\", \"The\", \"Patients\", \"cell\", \"among\", \"Development\", \"review\", \"care\", \"case\", \"associated\", \"evaluation\", \"delivery\", \"Disease\", \"home\", \"treatment\", \"study\", \"'s\", \"disease\", \"cells\", \"chronic\", \"patients\", \"using\", \"cancer\"], \"Freq\": [99.0, 41.0, 57.0, 47.0, 46.0, 22.0, 52.0, 91.0, 28.0, 50.0, 14.0, 12.0, 34.0, 16.0, 31.0, 12.0, 18.0, 9.0, 18.0, 21.0, 34.0, 22.0, 24.0, 45.244980719398455, 48.66748190652653, 70.73025762841861, 29.589584666607834, 10.220414907649364, 13.024038007366586, 6.26538929639862, 6.792534965146495, 8.430661936996374, 3.4135506541388465, 1.605288731411311, 4.186894957671262, 2.5229620176611074, 1.3073481713350645, 0.4282334147078195, 0.431417131754824, 0.41782425891186276, 0.4282459548904174, 0.42381459392822607, 0.42345542641809564, 0.4251761718064456, 0.4251153474528475, 0.46074504445236114, 46.50752682851298, 89.44624735254756, 26.76619890236703, 23.446659098720655, 10.372967392648134, 9.524881652970016, 3.6784162251937165, 1.7512991742268438, 3.093909058414325, 3.69929735513299, 1.4269354129247613, 6.516858751069433, 0.5477635211606403, 0.5575507747537266, 0.5451528353105481, 1.041744855192339, 0.556929214005096, 0.537664806433635, 0.562913526608423, 0.5429273504746558, 1.218951263680995, 0.9895950751324808, 0.5748087386994059, 24.04889147103607, 47.44244168291099, 13.626402158093942, 11.976470587437415, 16.566357340132374, 6.0310724663639395, 4.309674367048915, 2.7259968486840322, 8.67850017249122, 1.0551267049457238, 8.562130868141834, 2.9327185239932216, 1.8081665152341135, 0.5924671113378143, 0.8079389426207904, 0.31688931645512247, 0.7819747207975805, 0.3053071902285496, 0.5912585926083964, 0.31463526776188294, 0.3194349327416157, 0.314057741718864, 0.3221414163868729, 10.05979175663717, 11.592991138372312, 17.723063970918464, 6.740127456957017, 10.915374230227663, 2.596496225097085, 2.2626006274328416, 5.246395347699983, 5.391719593525599, 2.0180634778767748, 1.3299670353425284, 0.9696241927751298, 1.6533843348669008, 1.792345757887951, 0.7469672725747707, 0.23128692841899498, 0.2711459182123846, 0.12853089434321807, 0.6690286813034467, 0.24060514140654726, 0.1283178923788406, 0.12878261603531796, 0.12670742599849735, 7.330911414357435, 33.09429334010292, 8.429671958335092, 8.865093453857948, 7.088688374290798, 4.225935635122264, 4.254385203651237, 2.0835826377719493, 1.6092289333663565, 0.4110547619858813, 0.6235164354700258, 0.17606375680939548, 0.3442478796006109, 0.19854208458889558, 0.40101719193871305, 0.6266156665901007, 0.2702485232937466, 0.1956824401147505, 0.09791189153070333, 0.09619195866097682, 0.21521872669301353, 0.09683655589819386, 0.09906026062586248], \"Total\": [99.0, 41.0, 57.0, 47.0, 46.0, 22.0, 52.0, 91.0, 28.0, 50.0, 14.0, 12.0, 34.0, 16.0, 31.0, 12.0, 18.0, 9.0, 18.0, 21.0, 34.0, 22.0, 24.0, 46.94558948554204, 52.67105471264259, 91.53255487219786, 50.547664406307135, 18.002056445857463, 31.104705974670754, 22.004799894877802, 24.52957154349353, 34.306211740016664, 18.05986490157381, 16.47813788345532, 57.5496009876075, 41.7519117685615, 22.484847249254692, 9.027906355906927, 12.37592364194667, 12.253959312614699, 14.500480345930576, 21.600462538015083, 28.411135119973967, 34.50726141785325, 47.58951880601218, 99.7647676130353, 47.58951880601218, 99.7647676130353, 34.50726141785325, 34.306211740016664, 24.52957154349353, 50.547664406307135, 21.600462538015083, 14.500480345930576, 28.411135119973967, 41.7519117685615, 16.47813788345532, 91.53255487219786, 9.027906355906927, 12.37592364194667, 12.253959312614699, 31.104705974670754, 18.05986490157381, 18.002056445857463, 22.484847249254692, 22.004799894877802, 52.67105471264259, 46.94558948554204, 57.5496009876075, 28.411135119973967, 57.5496009876075, 21.600462538015083, 22.004799894877802, 31.104705974670754, 18.05986490157381, 16.47813788345532, 12.37592364194667, 91.53255487219786, 12.253959312614699, 99.7647676130353, 34.50726141785325, 24.52957154349353, 9.027906355906927, 22.484847249254692, 14.500480345930576, 41.7519117685615, 18.002056445857463, 52.67105471264259, 34.306211740016664, 47.58951880601218, 46.94558948554204, 50.547664406307135, 12.253959312614699, 14.500480345930576, 22.484847249254692, 18.002056445857463, 50.547664406307135, 22.004799894877802, 21.600462538015083, 57.5496009876075, 91.53255487219786, 34.306211740016664, 24.52957154349353, 18.05986490157381, 41.7519117685615, 52.67105471264259, 28.411135119973967, 12.37592364194667, 16.47813788345532, 9.027906355906927, 99.7647676130353, 47.58951880601218, 31.104705974670754, 34.50726141785325, 46.94558948554204, 9.027906355906927, 41.7519117685615, 12.37592364194667, 16.47813788345532, 18.05986490157381, 24.52957154349353, 34.50726141785325, 22.484847249254692, 21.600462538015083, 14.500480345930576, 22.004799894877802, 12.253959312614699, 31.104705974670754, 18.002056445857463, 52.67105471264259, 99.7647676130353, 46.94558948554204, 50.547664406307135, 28.411135119973967, 34.306211740016664, 91.53255487219786, 47.58951880601218, 57.5496009876075], \"Category\": [\"Default\", \"Default\", \"Default\", \"Default\", \"Default\", \"Default\", \"Default\", \"Default\", \"Default\", \"Default\", \"Default\", \"Default\", \"Default\", \"Default\", \"Default\", \"Default\", \"Default\", \"Default\", \"Default\", \"Default\", \"Default\", \"Default\", \"Default\", \"Topic1\", \"Topic1\", \"Topic1\", \"Topic1\", \"Topic1\", \"Topic1\", \"Topic1\", \"Topic1\", \"Topic1\", \"Topic1\", \"Topic1\", \"Topic1\", \"Topic1\", \"Topic1\", \"Topic1\", \"Topic1\", \"Topic1\", \"Topic1\", \"Topic1\", \"Topic1\", \"Topic1\", \"Topic1\", \"Topic1\", \"Topic2\", \"Topic2\", \"Topic2\", \"Topic2\", \"Topic2\", \"Topic2\", \"Topic2\", \"Topic2\", \"Topic2\", \"Topic2\", \"Topic2\", \"Topic2\", \"Topic2\", \"Topic2\", \"Topic2\", \"Topic2\", \"Topic2\", \"Topic2\", \"Topic2\", \"Topic2\", \"Topic2\", \"Topic2\", \"Topic2\", \"Topic3\", \"Topic3\", \"Topic3\", \"Topic3\", \"Topic3\", \"Topic3\", \"Topic3\", \"Topic3\", \"Topic3\", \"Topic3\", \"Topic3\", \"Topic3\", \"Topic3\", \"Topic3\", \"Topic3\", \"Topic3\", \"Topic3\", \"Topic3\", \"Topic3\", \"Topic3\", \"Topic3\", \"Topic3\", \"Topic3\", \"Topic4\", \"Topic4\", \"Topic4\", \"Topic4\", \"Topic4\", \"Topic4\", \"Topic4\", \"Topic4\", \"Topic4\", \"Topic4\", \"Topic4\", \"Topic4\", \"Topic4\", \"Topic4\", \"Topic4\", \"Topic4\", \"Topic4\", \"Topic4\", \"Topic4\", \"Topic4\", \"Topic4\", \"Topic4\", \"Topic4\", \"Topic5\", \"Topic5\", \"Topic5\", \"Topic5\", \"Topic5\", \"Topic5\", \"Topic5\", \"Topic5\", \"Topic5\", \"Topic5\", \"Topic5\", \"Topic5\", \"Topic5\", \"Topic5\", \"Topic5\", \"Topic5\", \"Topic5\", \"Topic5\", \"Topic5\", \"Topic5\", \"Topic5\", \"Topic5\", \"Topic5\"], \"logprob\": [23.0, 22.0, 21.0, 20.0, 19.0, 18.0, 17.0, 16.0, 15.0, 14.0, 13.0, 12.0, 11.0, 10.0, 9.0, 8.0, 7.0, 6.0, 5.0, 4.0, 3.0, 2.0, 1.0, -1.7325999736785889, -1.659600019454956, -1.2857999801635742, -2.1572000980377197, -3.2202999591827393, -2.9779000282287598, -3.7095999717712402, -3.6287999153137207, -3.4128000736236572, -4.31689977645874, -5.071300029754639, -4.11269998550415, -4.619200229644775, -5.276700019836426, -6.3927001953125, -6.385300159454346, -6.417300224304199, -6.3927001953125, -6.40310001373291, -6.4039998054504395, -6.399899959564209, -6.400000095367432, -6.3196001052856445, -1.6153000593185425, -0.9613000154495239, -2.167799949645996, -2.3001999855041504, -3.1157000064849854, -3.2009999752044678, -4.152400016784668, -4.894599914550781, -4.325500011444092, -4.1468000411987305, -5.099400043487549, -3.5804998874664307, -6.05679988861084, -6.039100170135498, -6.061600208282471, -5.414000034332275, -6.040200233459473, -6.075399875640869, -6.029600143432617, -6.065700054168701, -5.256899833679199, -5.465400218963623, -6.008600234985352, -1.8596999645233154, -1.1801999807357788, -2.4277000427246094, -2.55679988861084, -2.2323999404907227, -3.242799997329712, -3.578900098800659, -4.036900043487549, -2.8789000511169434, -4.986100196838379, -2.892400026321411, -3.9637999534606934, -4.447400093078613, -5.563199996948242, -5.252999782562256, -6.188899993896484, -5.285699844360352, -6.226200103759766, -5.565199851989746, -6.196100234985352, -6.1809000968933105, -6.19789981842041, -6.172500133514404, -2.1098999977111816, -1.968000054359436, -1.5434999465942383, -2.5102999210357666, -2.0281999111175537, -3.464200019836426, -3.601900100708008, -2.7609000205993652, -2.7335000038146973, -3.7163000106811523, -4.133200168609619, -4.44920015335083, -3.915600061416626, -3.83489990234375, -4.710100173950195, -5.882500171661377, -5.723499774932861, -6.46999979019165, -4.820300102233887, -5.8429999351501465, -6.47160005569458, -6.4679999351501465, -6.484300136566162, -2.4003000259399414, -0.8930000066757202, -2.2606000900268555, -2.2102999687194824, -2.4339001178741455, -2.951200008392334, -2.9444000720977783, -3.6582999229431152, -3.916599988937378, -5.281400203704834, -4.864799976348877, -6.129300117492676, -5.458799839019775, -6.009200096130371, -5.306099891662598, -4.859799861907959, -5.700799942016602, -6.02370023727417, -6.716100215911865, -6.733799934387207, -5.928500175476074, -6.727099895477295, -6.704400062561035], \"loglift\": [23.0, 22.0, 21.0, 20.0, 19.0, 18.0, 17.0, 16.0, 15.0, 14.0, 13.0, 12.0, 11.0, 10.0, 9.0, 8.0, 7.0, 6.0, 5.0, 4.0, 3.0, 2.0, 1.0, 1.113, 1.0709, 0.8921, 0.6144, 0.5838, 0.2793, -0.1063, -0.1341, -0.2535, -0.516, -1.1788, -1.4708, -1.6564, -1.6949, -1.8985, -2.2065, -2.2286, -2.3723, -2.7813, -3.0562, -3.2465, -3.5681, -4.2278, 1.2166, 1.1305, 0.9856, 0.859, 0.379, -0.4294, -0.5306, -0.8742, -0.9777, -1.184, -1.2069, -1.4027, -1.5626, -1.8603, -1.8729, -2.1568, -2.2394, -2.2714, -2.4478, -2.4624, -2.5264, -2.6198, -3.3667, 1.4881, 1.4617, 1.1941, 1.0465, 1.0248, 0.5581, 0.3136, 0.1419, -0.701, -0.7974, -0.8006, -0.8104, -0.9527, -1.069, -1.6713, -2.1686, -2.3229, -2.4221, -2.8347, -3.0368, -3.349, -3.3523, -3.4009, 2.0789, 2.0524, 2.0382, 1.2938, 0.7434, 0.1391, 0.02, -0.1189, -0.5557, -0.557, -0.6386, -0.6484, -0.9528, -1.1044, -1.3624, -1.7037, -1.831, -1.9757, -2.7286, -3.011, -3.2144, -3.3146, -3.6387, 2.0939, 2.0698, 1.9182, 1.6823, 1.367, 0.5435, 0.2089, -0.0766, -0.2948, -1.261, -1.2615, -1.9406, -2.2016, -2.2051, -2.5757, -2.7681, -2.8552, -3.252, -3.3683, -3.5746, -3.7506, -3.8952, -4.0625]}, \"token.table\": {\"Topic\": [1, 2, 1, 2, 3, 4, 5, 1, 2, 3, 2, 3, 5, 2, 3, 5, 1, 2, 3, 4, 5, 1, 2, 3, 4, 5, 2, 4, 1, 2, 3, 4, 1, 2, 3, 4, 5, 2, 3, 4, 5, 1, 2, 3, 5, 2, 3, 4, 1, 2, 4, 2, 3, 4, 1, 2, 4, 1, 2, 3, 4, 5, 1, 2, 4, 1, 2, 3, 4, 2, 3, 5, 2, 3, 4, 5, 1, 2, 3, 4, 2], \"Freq\": [0.9585565011140988, 0.021301255580313306, 0.2853698438062099, 0.4076712054374427, 0.08153424108748854, 0.04076712054374427, 0.16306848217497708, 0.41794318874405006, 0.032149476057234616, 0.5465410929729885, 0.08080204992624737, 0.2424061497787421, 0.646416399409979, 0.11076765316087972, 0.11076765316087972, 0.775373572126158, 0.07185299721434434, 0.09580399628579245, 0.023950999071448112, 0.047901998142896224, 0.7903829693577877, 0.1661141994333838, 0.05537139981112793, 0.3322283988667676, 0.05537139981112793, 0.3875997986778955, 0.13792646535059655, 0.8275587921035793, 0.06950526035552086, 0.017376315088880216, 0.8166868091773702, 0.08688157544440109, 0.04447439597496697, 0.04447439597496697, 0.04447439597496697, 0.8005391275494055, 0.08894879194993394, 0.1851812197521382, 0.6481342691324837, 0.0925906098760691, 0.0925906098760691, 0.12137293753368068, 0.06068646876684034, 0.24274587506736137, 0.546178218901563, 0.10559240196956794, 0.8447392157565435, 0.03519746732318931, 0.2331939201164656, 0.6704325203348386, 0.0582984800291164, 0.08160627716223616, 0.08160627716223616, 0.8160627716223616, 0.5934992319102427, 0.19783307730341423, 0.21761638503375566, 0.2726677828775284, 0.04544463047958806, 0.5453355657550568, 0.1363338914387642, 0.04544463047958806, 0.5554920922548905, 0.05554920922548905, 0.38884446457842337, 0.7756803041183937, 0.07647552294125008, 0.09832567235303583, 0.054625373529464345, 0.7824440100607587, 0.0869382233400843, 0.1159176311201124, 0.8920985046064621, 0.09021220833099056, 0.010023578703443396, 0.010023578703443396, 0.9303022365382513, 0.01898575992935207, 0.01898575992935207, 0.03797151985870414, 0.9876124234746895], \"Term\": [\"'s\", \"'s\", \"Development\", \"Development\", \"Development\", \"Development\", \"Development\", \"Disease\", \"Disease\", \"Disease\", \"Patients\", \"Patients\", \"Patients\", \"Study\", \"Study\", \"Study\", \"The\", \"The\", \"The\", \"The\", \"The\", \"among\", \"among\", \"among\", \"among\", \"among\", \"associated\", \"associated\", \"cancer\", \"cancer\", \"cancer\", \"cancer\", \"care\", \"care\", \"care\", \"care\", \"care\", \"case\", \"case\", \"case\", \"case\", \"cell\", \"cell\", \"cell\", \"cell\", \"cells\", \"cells\", \"cells\", \"chronic\", \"chronic\", \"chronic\", \"delivery\", \"delivery\", \"delivery\", \"disease\", \"disease\", \"disease\", \"evaluation\", \"evaluation\", \"evaluation\", \"evaluation\", \"evaluation\", \"home\", \"home\", \"home\", \"patients\", \"patients\", \"patients\", \"patients\", \"review\", \"review\", \"review\", \"study\", \"study\", \"study\", \"study\", \"treatment\", \"treatment\", \"treatment\", \"treatment\", \"using\"]}, \"R\": 23, \"lambda.step\": 0.01, \"plot.opts\": {\"xlab\": \"PC1\", \"ylab\": \"PC2\"}, \"topic.order\": [2, 3, 4, 1, 5]};\n",
              "\n",
              "function LDAvis_load_lib(url, callback){\n",
              "  var s = document.createElement('script');\n",
              "  s.src = url;\n",
              "  s.async = true;\n",
              "  s.onreadystatechange = s.onload = callback;\n",
              "  s.onerror = function(){console.warn(\"failed to load library \" + url);};\n",
              "  document.getElementsByTagName(\"head\")[0].appendChild(s);\n",
              "}\n",
              "\n",
              "if(typeof(LDAvis) !== \"undefined\"){\n",
              "   // already loaded: just create the visualization\n",
              "   !function(LDAvis){\n",
              "       new LDAvis(\"#\" + \"ldavis_el591399791572121607324635782\", ldavis_el591399791572121607324635782_data);\n",
              "   }(LDAvis);\n",
              "}else if(typeof define === \"function\" && define.amd){\n",
              "   // require.js is available: use it to load d3/LDAvis\n",
              "   require.config({paths: {d3: \"https://cdnjs.cloudflare.com/ajax/libs/d3/3.5.5/d3.min\"}});\n",
              "   require([\"d3\"], function(d3){\n",
              "      window.d3 = d3;\n",
              "      LDAvis_load_lib(\"https://cdn.rawgit.com/bmabey/pyLDAvis/files/ldavis.v1.0.0.js\", function(){\n",
              "        new LDAvis(\"#\" + \"ldavis_el591399791572121607324635782\", ldavis_el591399791572121607324635782_data);\n",
              "      });\n",
              "    });\n",
              "}else{\n",
              "    // require.js not available: dynamically load d3 & LDAvis\n",
              "    LDAvis_load_lib(\"https://cdnjs.cloudflare.com/ajax/libs/d3/3.5.5/d3.min.js\", function(){\n",
              "         LDAvis_load_lib(\"https://cdn.rawgit.com/bmabey/pyLDAvis/files/ldavis.v1.0.0.js\", function(){\n",
              "                 new LDAvis(\"#\" + \"ldavis_el591399791572121607324635782\", ldavis_el591399791572121607324635782_data);\n",
              "            })\n",
              "         });\n",
              "}\n",
              "</script>"
            ],
            "text/plain": [
              "PreparedData(topic_coordinates=                x           y  topics  cluster       Freq\n",
              "topic                                                    \n",
              "1      150.222153  -72.269554       1        1  31.666514\n",
              "2       51.163364 -159.968018       2        1  28.948913\n",
              "3      -73.144554   21.523815       3        1  19.112630\n",
              "0      -66.410133 -110.606438       4        1  10.267737\n",
              "4       54.417324   12.443444       5        1  10.004208, topic_info=        Term       Freq      Total Category  logprob  loglift\n",
              "5      study  99.000000  99.000000  Default  23.0000  23.0000\n",
              "7        The  41.000000  41.000000  Default  22.0000  22.0000\n",
              "1     cancer  57.000000  57.000000  Default  21.0000  21.0000\n",
              "4      using  47.000000  47.000000  Default  20.0000  20.0000\n",
              "12        's  46.000000  46.000000  Default  19.0000  19.0000\n",
              "..       ...        ...        ...      ...      ...      ...\n",
              "22     cells   0.097912  28.411135   Topic5  -6.7161  -3.3683\n",
              "2    chronic   0.096192  34.306212   Topic5  -6.7338  -3.5746\n",
              "3   patients   0.215219  91.532555   Topic5  -5.9285  -3.7506\n",
              "4      using   0.096837  47.589519   Topic5  -6.7271  -3.8952\n",
              "1     cancer   0.099060  57.549601   Topic5  -6.7044  -4.0625\n",
              "\n",
              "[138 rows x 6 columns], token_table=      Topic      Freq         Term\n",
              "term                              \n",
              "12        1  0.958557           's\n",
              "12        2  0.021301           's\n",
              "16        1  0.285370  Development\n",
              "16        2  0.407671  Development\n",
              "16        3  0.081534  Development\n",
              "...     ...       ...          ...\n",
              "0         1  0.930302    treatment\n",
              "0         2  0.018986    treatment\n",
              "0         3  0.018986    treatment\n",
              "0         4  0.037972    treatment\n",
              "4         2  0.987612        using\n",
              "\n",
              "[81 rows x 3 columns], R=23, lambda_step=0.01, plot_opts={'xlab': 'PC1', 'ylab': 'PC2'}, topic_order=[2, 3, 4, 1, 5])"
            ]
          },
          "metadata": {
            "tags": []
          },
          "execution_count": 64
        }
      ]
    }
  ]
}