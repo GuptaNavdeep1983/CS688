{
  "nbformat": 4,
  "nbformat_minor": 0,
  "metadata": {
    "colab": {
      "name": "Untitled21.ipynb",
      "provenance": [],
      "authorship_tag": "ABX9TyOnN1LNh86OJ2FsTWR8OGRr",
      "include_colab_link": true
    },
    "kernelspec": {
      "name": "python3",
      "display_name": "Python 3"
    }
  },
  "cells": [
    {
      "cell_type": "markdown",
      "metadata": {
        "id": "view-in-github",
        "colab_type": "text"
      },
      "source": [
        "<a href=\"https://colab.research.google.com/github/GuptaNavdeep1983/CS688/blob/main/Question-5-1-Word2Vec.ipynb\" target=\"_parent\"><img src=\"https://colab.research.google.com/assets/colab-badge.svg\" alt=\"Open In Colab\"/></a>"
      ]
    },
    {
      "cell_type": "code",
      "metadata": {
        "id": "v7bDIXmPgRpr"
      },
      "source": [
        "pip install tensorflow_datasets"
      ],
      "execution_count": null,
      "outputs": []
    },
    {
      "cell_type": "code",
      "metadata": {
        "colab": {
          "base_uri": "https://localhost:8080/"
        },
        "id": "3Bg_HBI5TF_C",
        "outputId": "1703a351-b286-4cfd-eacf-3c9f959fd507"
      },
      "source": [
        "import io\n",
        "import matplotlib.pyplot as plt\n",
        "import tensorflow as tf\n",
        "import pandas as pd \n",
        "from tensorflow import keras\n",
        "from tensorflow.keras import layers\n",
        "import tensorflow_datasets as tfds\n",
        "from tensorflow.keras import losses\n",
        "from tensorflow.keras import preprocessing\n",
        "from tensorflow.keras import utils\n",
        "from tensorflow.keras.layers.experimental.preprocessing import TextVectorization\n",
        "from gensim.models import Word2Vec\n",
        "import nltk\n",
        "nltk.download('punkt')\n",
        "nltk.download('stopwords')"
      ],
      "execution_count": null,
      "outputs": [
        {
          "output_type": "stream",
          "text": [
            "[nltk_data] Downloading package punkt to /root/nltk_data...\n",
            "[nltk_data]   Package punkt is already up-to-date!\n",
            "[nltk_data] Downloading package stopwords to /root/nltk_data...\n",
            "[nltk_data]   Unzipping corpora/stopwords.zip.\n"
          ],
          "name": "stdout"
        },
        {
          "output_type": "execute_result",
          "data": {
            "text/plain": [
              "True"
            ]
          },
          "metadata": {
            "tags": []
          },
          "execution_count": 69
        }
      ]
    },
    {
      "cell_type": "code",
      "metadata": {
        "id": "cVZGaOS2Vwcn"
      },
      "source": [
        "(train_data, test_data), info = tfds.load('imdb_reviews/subwords8k', split=(tfds.Split.TRAIN, tfds.Split.TEST),\n",
        "                                          with_info=True, as_supervised=False)\n"
      ],
      "execution_count": null,
      "outputs": []
    },
    {
      "cell_type": "code",
      "metadata": {
        "colab": {
          "base_uri": "https://localhost:8080/",
          "height": 419
        },
        "id": "jZPwTwEboAFR",
        "outputId": "04b31fac-4d33-4766-baed-1648a2c5f336"
      },
      "source": [
        "df = pd.read_csv(\"pubmed_results.csv\")\n",
        "df.dropna(inplace=True)\n",
        "df"
      ],
      "execution_count": null,
      "outputs": [
        {
          "output_type": "execute_result",
          "data": {
            "text/html": [
              "<div>\n",
              "<style scoped>\n",
              "    .dataframe tbody tr th:only-of-type {\n",
              "        vertical-align: middle;\n",
              "    }\n",
              "\n",
              "    .dataframe tbody tr th {\n",
              "        vertical-align: top;\n",
              "    }\n",
              "\n",
              "    .dataframe thead th {\n",
              "        text-align: right;\n",
              "    }\n",
              "</style>\n",
              "<table border=\"1\" class=\"dataframe\">\n",
              "  <thead>\n",
              "    <tr style=\"text-align: right;\">\n",
              "      <th></th>\n",
              "      <th>year</th>\n",
              "      <th>month</th>\n",
              "      <th>title</th>\n",
              "      <th>day</th>\n",
              "      <th>abstract</th>\n",
              "    </tr>\n",
              "  </thead>\n",
              "  <tbody>\n",
              "    <tr>\n",
              "      <th>1</th>\n",
              "      <td>2012</td>\n",
              "      <td>7</td>\n",
              "      <td>Golimumab for the treatment of psoriatic arthr...</td>\n",
              "      <td>5</td>\n",
              "      <td>This paper presents a summary of the evidence ...</td>\n",
              "    </tr>\n",
              "    <tr>\n",
              "      <th>2</th>\n",
              "      <td>2012</td>\n",
              "      <td>7</td>\n",
              "      <td>Liraglutide for the treatment of type 2 diabetes.</td>\n",
              "      <td>5</td>\n",
              "      <td>This paper presents a summary of the evidence ...</td>\n",
              "    </tr>\n",
              "    <tr>\n",
              "      <th>3</th>\n",
              "      <td>2012</td>\n",
              "      <td>7</td>\n",
              "      <td>Trabectedin for the treatment of relapsed ovar...</td>\n",
              "      <td>5</td>\n",
              "      <td>The paper presents a summary of the evidence r...</td>\n",
              "    </tr>\n",
              "    <tr>\n",
              "      <th>4</th>\n",
              "      <td>2012</td>\n",
              "      <td>7</td>\n",
              "      <td>Ofatumumab for the treatment of chronic lympho...</td>\n",
              "      <td>5</td>\n",
              "      <td>This paper presents a summary of the evidence ...</td>\n",
              "    </tr>\n",
              "    <tr>\n",
              "      <th>5</th>\n",
              "      <td>2012</td>\n",
              "      <td>7</td>\n",
              "      <td>Denosumab for the prevention of osteoporotic f...</td>\n",
              "      <td>5</td>\n",
              "      <td>This paper presents a summary of the evidence ...</td>\n",
              "    </tr>\n",
              "    <tr>\n",
              "      <th>...</th>\n",
              "      <td>...</td>\n",
              "      <td>...</td>\n",
              "      <td>...</td>\n",
              "      <td>...</td>\n",
              "      <td>...</td>\n",
              "    </tr>\n",
              "    <tr>\n",
              "      <th>995</th>\n",
              "      <td>2020</td>\n",
              "      <td>12</td>\n",
              "      <td>Using Whatsapp for the Consultation of Covid-1...</td>\n",
              "      <td>4</td>\n",
              "      <td>Telephone, internet-connected devices (phablet...</td>\n",
              "    </tr>\n",
              "    <tr>\n",
              "      <th>996</th>\n",
              "      <td>2020</td>\n",
              "      <td>12</td>\n",
              "      <td>A comprehensive study on ozone pollution in a ...</td>\n",
              "      <td>4</td>\n",
              "      <td>Tropospheric ozone (O3) pollution has b</td>\n",
              "    </tr>\n",
              "    <tr>\n",
              "      <th>997</th>\n",
              "      <td>2020</td>\n",
              "      <td>12</td>\n",
              "      <td>Long-term exposure to low-level air pollution ...</td>\n",
              "      <td>4</td>\n",
              "      <td>Air pollution has been suggested as a risk fac...</td>\n",
              "    </tr>\n",
              "    <tr>\n",
              "      <th>998</th>\n",
              "      <td>2020</td>\n",
              "      <td>12</td>\n",
              "      <td>Radiation-induced lens opacities: Epidemiologi...</td>\n",
              "      <td>4</td>\n",
              "      <td>In 2011, the International Commission on Radio...</td>\n",
              "    </tr>\n",
              "    <tr>\n",
              "      <th>999</th>\n",
              "      <td>2020</td>\n",
              "      <td>12</td>\n",
              "      <td>Serum nickel is associated with craniosynostos...</td>\n",
              "      <td>4</td>\n",
              "      <td>To date, few studies have explored the effects...</td>\n",
              "    </tr>\n",
              "  </tbody>\n",
              "</table>\n",
              "<p>808 rows × 5 columns</p>\n",
              "</div>"
            ],
            "text/plain": [
              "     year  month  ... day                                           abstract\n",
              "1    2012      7  ...   5  This paper presents a summary of the evidence ...\n",
              "2    2012      7  ...   5  This paper presents a summary of the evidence ...\n",
              "3    2012      7  ...   5  The paper presents a summary of the evidence r...\n",
              "4    2012      7  ...   5  This paper presents a summary of the evidence ...\n",
              "5    2012      7  ...   5  This paper presents a summary of the evidence ...\n",
              "..    ...    ...  ...  ..                                                ...\n",
              "995  2020     12  ...   4  Telephone, internet-connected devices (phablet...\n",
              "996  2020     12  ...   4            Tropospheric ozone (O3) pollution has b\n",
              "997  2020     12  ...   4  Air pollution has been suggested as a risk fac...\n",
              "998  2020     12  ...   4  In 2011, the International Commission on Radio...\n",
              "999  2020     12  ...   4  To date, few studies have explored the effects...\n",
              "\n",
              "[808 rows x 5 columns]"
            ]
          },
          "metadata": {
            "tags": []
          },
          "execution_count": 41
        }
      ]
    },
    {
      "cell_type": "code",
      "metadata": {
        "id": "Vyzk5jq0hHou"
      },
      "source": [
        "MAX_SEQUENCE_LENGTH = 50\n",
        "VOCAB_SIZE = 10000\n",
        "int_vectorize_layer = TextVectorization(\n",
        "    max_tokens=VOCAB_SIZE,\n",
        "    output_mode='int',\n",
        "    output_sequence_length=MAX_SEQUENCE_LENGTH)\n",
        "\n",
        "def int_vectorize_text(text):\n",
        "  text = tf.expand_dims(text, -1)\n",
        "  return int_vectorize_layer(text)"
      ],
      "execution_count": null,
      "outputs": []
    },
    {
      "cell_type": "code",
      "metadata": {
        "id": "SKbkMecjUHaL"
      },
      "source": [
        "int_vectorize_layer.adapt(df['title'].to_numpy())\n"
      ],
      "execution_count": null,
      "outputs": []
    },
    {
      "cell_type": "code",
      "metadata": {
        "id": "HvLCWmsgpGOh"
      },
      "source": [
        "int_vectorize_layer.get_vocabulary()"
      ],
      "execution_count": null,
      "outputs": []
    },
    {
      "cell_type": "code",
      "metadata": {
        "id": "YOk3tdWHwO5t"
      },
      "source": [
        "int_train_ds = df['title'].map(int_vectorize_text)"
      ],
      "execution_count": null,
      "outputs": []
    },
    {
      "cell_type": "code",
      "metadata": {
        "id": "DL-sJuXpwjWr"
      },
      "source": [
        "all_sentences = df['title'].to_numpy()\n",
        "all_words = [nltk.word_tokenize(sent) for sent in all_sentences]"
      ],
      "execution_count": null,
      "outputs": []
    },
    {
      "cell_type": "code",
      "metadata": {
        "id": "dCBmzZ8YyMSU"
      },
      "source": [
        "from nltk.corpus import stopwords\n",
        "for i in range(len(all_words)):\n",
        "    all_words[i] = [w for w in all_words[i] if w not in stopwords.words('english')]"
      ],
      "execution_count": null,
      "outputs": []
    },
    {
      "cell_type": "code",
      "metadata": {
        "id": "5Zw0u6O4yv9c"
      },
      "source": [
        "all_words"
      ],
      "execution_count": null,
      "outputs": []
    },
    {
      "cell_type": "code",
      "metadata": {
        "colab": {
          "base_uri": "https://localhost:8080/"
        },
        "id": "VMmhKp_nphyt",
        "outputId": "f383f9ab-37f7-44f5-db17-c5c3de4ed96d"
      },
      "source": [
        "model = Word2Vec(all_words, min_count=2, size=50)\n",
        "\n",
        "v1 = model.wv['mediate']\n",
        "model.similarity('China', 'ozone')"
      ],
      "execution_count": null,
      "outputs": [
        {
          "output_type": "stream",
          "text": [
            "WARNING:gensim.models.base_any2vec:consider setting layer size to a multiple of 4 for greater performance\n",
            "WARNING:gensim.models.base_any2vec:under 10 jobs per worker: consider setting a smaller `batch_words' for smoother alpha decay\n",
            "/usr/local/lib/python3.6/dist-packages/ipykernel_launcher.py:4: DeprecationWarning: Call to deprecated `similarity` (Method will be removed in 4.0.0, use self.wv.similarity() instead).\n",
            "  after removing the cwd from sys.path.\n",
            "/usr/local/lib/python3.6/dist-packages/gensim/matutils.py:737: FutureWarning: Conversion of the second argument of issubdtype from `int` to `np.signedinteger` is deprecated. In future, it will be treated as `np.int64 == np.dtype(int).type`.\n",
            "  if np.issubdtype(vec.dtype, np.int):\n"
          ],
          "name": "stderr"
        },
        {
          "output_type": "execute_result",
          "data": {
            "text/plain": [
              "0.47380164"
            ]
          },
          "metadata": {
            "tags": []
          },
          "execution_count": 102
        }
      ]
    },
    {
      "cell_type": "code",
      "metadata": {
        "colab": {
          "base_uri": "https://localhost:8080/"
        },
        "id": "8nN4COmc2K5U",
        "outputId": "bab474e9-53ca-4648-f94c-da4444e187c6"
      },
      "source": [
        "model.wv.vocab['Intervention']\n"
      ],
      "execution_count": null,
      "outputs": [
        {
          "output_type": "execute_result",
          "data": {
            "text/plain": [
              "<gensim.models.keyedvectors.Vocab at 0x7fe50b84e2b0>"
            ]
          },
          "metadata": {
            "tags": []
          },
          "execution_count": 105
        }
      ]
    },
    {
      "cell_type": "code",
      "metadata": {
        "id": "n2U5NH3czhYk"
      },
      "source": [
        "out_vectors = io.open('vecs.tsv', 'w', encoding='utf-8')\n",
        "out_metadata = io.open('meta.tsv', 'w', encoding='utf-8')\n",
        "\n",
        "my_dict = dict({})\n",
        "for idx, key in enumerate(model.wv.vocab):\n",
        "    out_metadata.write(key + '\\n')\n",
        "    out_vectors.write('\\t'.join([str(x) for x in model.wv.get_vector(key)]) + '\\n')\n",
        "out_metadata.close()\n",
        "out_vectors.close()\n",
        "    # my_dict[key] = model.wv.get_vector(key)\n",
        "    # # Or my_dict[key] = model.wv.word_vec(key, use_norm=False)"
      ],
      "execution_count": null,
      "outputs": []
    }
  ]
}