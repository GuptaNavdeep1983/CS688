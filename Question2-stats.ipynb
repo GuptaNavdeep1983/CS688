{
  "nbformat": 4,
  "nbformat_minor": 0,
  "metadata": {
    "colab": {
      "name": "Untitled",
      "provenance": [],
      "authorship_tag": "ABX9TyMnM7EU6mAXJyUb6DMBHvEE",
      "include_colab_link": true
    },
    "kernelspec": {
      "name": "python3",
      "display_name": "Python 3"
    }
  },
  "cells": [
    {
      "cell_type": "markdown",
      "metadata": {
        "id": "view-in-github",
        "colab_type": "text"
      },
      "source": [
        "<a href=\"https://colab.research.google.com/github/GuptaNavdeep1983/CS688/blob/main/Question2-stats.ipynb\" target=\"_parent\"><img src=\"https://colab.research.google.com/assets/colab-badge.svg\" alt=\"Open In Colab\"/></a>"
      ]
    },
    {
      "cell_type": "code",
      "metadata": {
        "colab": {
          "base_uri": "https://localhost:8080/",
          "height": 261
        },
        "id": "ARq02ssuTTQ5",
        "outputId": "c8a28527-86c9-454d-c922-84f6d70e0bcb"
      },
      "source": [
        "import pandas as pd\r\n",
        "import matplotlib.pyplot as plt \r\n",
        "from matplotlib.font_manager import FontProperties\r\n",
        "\r\n",
        "font = FontProperties()\r\n",
        "font.set_family('arial')\r\n",
        "font.set_name('arial')\r\n",
        "font.set_style('italic')\r\n",
        "\r\n",
        "fig, ax = plt.subplots(figsize=(5, 3))\r\n",
        "\r\n",
        "ax.set_xlabel('Count', fontsize='large', fontweight='bold')\r\n",
        "ax.set_ylabel('Research words', fontproperties=font, fontsize='large', fontweight='bold')\r\n",
        "\r\n",
        "\r\n",
        "df = pd.read_csv('pubmed_results.csv')\r\n",
        "research_words = ['mental health', 'covid-19', 'cancer', 'influenza', 'obesity', 'wearable']\r\n",
        "years = [2020, 2019, 2018, 2017, 2016, 2015, 2014, 2013, 2012, 2011]\r\n",
        "stats = []\r\n",
        "for word in research_words:\r\n",
        "  stat = []\r\n",
        "  stat.append(word)\r\n",
        "  for year in years:\r\n",
        "    stat.append(len(df[(df['year'] == int(year)) & (df['title'].str.contains(word, case=False))].index))\r\n",
        "  stats.append(stat)\r\n",
        "df_stats = pd.DataFrame(stats, columns=['word', 2020, 2019, 2018, 2017, 2016, 2015, 2014, 2013, 2012, 2011])\r\n",
        "df_stats.plot( \r\n",
        "    x = 'word', \r\n",
        "    kind = 'barh', \r\n",
        "    stacked = True, \r\n",
        "    title = 'Stacked Bar Graph', \r\n",
        "    mark_right = True,\r\n",
        "    ax=ax) \r\n",
        "\r\n",
        "\r\n"
      ],
      "execution_count": 57,
      "outputs": [
        {
          "output_type": "execute_result",
          "data": {
            "text/plain": [
              "<matplotlib.axes._subplots.AxesSubplot at 0x7f9e20aac0f0>"
            ]
          },
          "metadata": {
            "tags": []
          },
          "execution_count": 57
        },
        {
          "output_type": "display_data",
          "data": {
            "image/png": "[encoded data removed]",
            "text/plain": [
              "<Figure size 360x216 with 1 Axes>"
            ]
          },
          "metadata": {
            "tags": [],
            "needs_background": "light"
          }
        }
      ]
    }
  ]
}