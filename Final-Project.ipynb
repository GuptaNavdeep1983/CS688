{
  "nbformat": 4,
  "nbformat_minor": 0,
  "metadata": {
    "colab": {
      "name": "Untitled20.ipynb",
      "provenance": [],
      "collapsed_sections": [],
      "toc_visible": true,
      "authorship_tag": "ABX9TyO0sSANbYEj8WpVgxUEEyXi",
      "include_colab_link": true
    },
    "kernelspec": {
      "name": "ir",
      "display_name": "R"
    }
  },
  "cells": [
    {
      "cell_type": "markdown",
      "metadata": {
        "id": "view-in-github",
        "colab_type": "text"
      },
      "source": [
        "<a href=\"https://colab.research.google.com/github/GuptaNavdeep1983/CS688/blob/main/Final-Project.ipynb\" target=\"_parent\"><img src=\"https://colab.research.google.com/assets/colab-badge.svg\" alt=\"Open In Colab\"/></a>"
      ]
    },
    {
      "cell_type": "markdown",
      "metadata": {
        "id": "6L0PnNzS0fAq"
      },
      "source": [
        "\n",
        "\n",
        "## References\n",
        "\n",
        "https://www.nature.com/articles/s41597-020-0543-2\n",
        "\n",
        "https://github.com/naver/biobert-pretrained\n",
        "\n",
        "https://github.com/dmis-lab/biobert\n",
        "\n",
        "https://benjamintseng.com/portfolio/nlp-pubmed-data-using-tensorflow-and-keras/\n",
        "\n",
        "https://towardsdatascience.com/easy-text-analysis-on-abc-news-headlines-b434e6e3b5b8\n",
        "\n",
        "https://colab.research.google.com/github/aneesha/googlecolab_topicmodeling/blob/master/colab_topicmodeling.ipynb#scrollTo=onfGom6U9oSq\n",
        "\n",
        "https://www.toptal.com/machine-learning/google-nlp-tutorial"
      ]
    },
    {
      "cell_type": "code",
      "metadata": {
        "colab": {
          "base_uri": "https://localhost:8080/"
        },
        "id": "J9CNZD-lzz4I",
        "outputId": "f1ea1edb-a5fe-4d3b-cfc0-27d68c211445"
      },
      "source": [
        "install.packages(\"easyPubMed\")\n",
        "install.packages(\"tm\")\n",
        "# install.packages(\"qdap\")"
      ],
      "execution_count": 41,
      "outputs": [
        {
          "output_type": "stream",
          "text": [
            "Installing package into ‘/usr/local/lib/R/site-library’\n",
            "(as ‘lib’ is unspecified)\n",
            "\n",
            "Installing package into ‘/usr/local/lib/R/site-library’\n",
            "(as ‘lib’ is unspecified)\n",
            "\n"
          ],
          "name": "stderr"
        }
      ]
    },
    {
      "cell_type": "code",
      "metadata": {
        "colab": {
          "base_uri": "https://localhost:8080/"
        },
        "id": "1XaGCpsFVNx3",
        "outputId": "8836f48a-b2b6-4454-a791-8349ec2fe8a7"
      },
      "source": [
        "install.packages(\"arules\")\n",
        "install.packages(\"arulesSequences\")"
      ],
      "execution_count": 42,
      "outputs": [
        {
          "output_type": "stream",
          "text": [
            "Installing package into ‘/usr/local/lib/R/site-library’\n",
            "(as ‘lib’ is unspecified)\n",
            "\n",
            "Installing package into ‘/usr/local/lib/R/site-library’\n",
            "(as ‘lib’ is unspecified)\n",
            "\n"
          ],
          "name": "stderr"
        }
      ]
    },
    {
      "cell_type": "code",
      "metadata": {
        "id": "_Wy0TTKgVTlv"
      },
      "source": [
        "\n",
        "library(easyPubMed)\n",
        "library(arules)\n",
        "library(arulesSequences)\n",
        "library(dplyr)"
      ],
      "execution_count": 43,
      "outputs": []
    },
    {
      "cell_type": "code",
      "metadata": {
        "id": "BCXryyo5VSOo"
      },
      "source": [
        "xx <-list()\n",
        "datalist <- list()\n",
        "years <- c(2020, 2019, 2018, 2017, 2016, 2015, 2014, 2013, 2012, 2011)\n",
        "i<-0\n",
        "words <- c(\"Obesity\", \"Cancer\", \"Covid-19\", \"wearable\", \"mental health\", \"influenza\")\n",
        "for (year in years)\n",
        "{\n",
        "    my_query <- paste(\"((\", year, \"[Date - Create]))\", sep = \"\")\n",
        "    my_entrez_id <- get_pubmed_ids(my_query)\n",
        "    my_abstracts_xml <- fetch_pubmed_data(my_entrez_id,retstart = 0,  format = \"xml\", retmax = 500)\n",
        "    my_PM_list <- articles_to_list(pubmed_data = my_abstracts_xml)\n",
        "    xx <- lapply(my_PM_list, article_to_df, autofill = TRUE, max_chars = 50)\n",
        "    full_df <- do.call(rbind, xx)\n",
        "    full_df <- unique(full_df[c(\"year\", \"month\", \"title\", \"day\", \"abstract\")])\n",
        "    datalist[[year]] <- full_df[seq(1, 100, by = 1), c(\"year\", \"month\", \"title\", \"day\", \"abstract\")] \n",
        "}\n",
        "all_years = do.call(rbind, datalist)"
      ],
      "execution_count": 55,
      "outputs": []
    },
    {
      "cell_type": "code",
      "metadata": {
        "id": "kQXVE14LMimN"
      },
      "source": [
        "all_years = unique(all_years)\n",
        "write.csv(all_years,\"pubmed_results.csv\", row.names = FALSE)"
      ],
      "execution_count": 56,
      "outputs": []
    },
    {
      "cell_type": "code",
      "metadata": {
        "id": "tZ1SLdkbOHPs",
        "outputId": "f389349f-5cfe-4fca-9fa0-10eb79f3f428",
        "colab": {
          "base_uri": "https://localhost:8080/"
        }
      },
      "source": [
        "install.packages(\"psych\")\n",
        "install.packages(\"rcompanion\")\n",
        "install.packages(\"lsr\")\n",
        "library(psych)\n",
        "library(lsr)"
      ],
      "execution_count": 47,
      "outputs": [
        {
          "output_type": "stream",
          "text": [
            "Installing package into ‘/usr/local/lib/R/site-library’\n",
            "(as ‘lib’ is unspecified)\n",
            "\n",
            "Installing package into ‘/usr/local/lib/R/site-library’\n",
            "(as ‘lib’ is unspecified)\n",
            "\n",
            "also installing the dependencies ‘rootSolve’, ‘e1071’, ‘lmom’, ‘TH.data’, ‘sandwich’, ‘mvtnorm’, ‘expm’, ‘Exact’, ‘gld’, ‘libcoin’, ‘matrixStats’, ‘modeltools’, ‘multcomp’, ‘zoo’, ‘DescTools’, ‘multcompView’, ‘EMT’, ‘coin’, ‘lmtest’, ‘nortest’\n",
            "\n",
            "\n"
          ],
          "name": "stderr"
        }
      ]
    }
  ]
}