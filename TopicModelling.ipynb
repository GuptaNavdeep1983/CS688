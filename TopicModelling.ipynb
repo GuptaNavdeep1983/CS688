{
  "nbformat": 4,
  "nbformat_minor": 0,
  "metadata": {
    "colab": {
      "name": "Untitled22.ipynb",
      "provenance": [],
      "authorship_tag": "ABX9TyO+x3iYejfviJMbtrW/Djug",
      "include_colab_link": true
    },
    "kernelspec": {
      "name": "python3",
      "display_name": "Python 3"
    }
  },
  "cells": [
    {
      "cell_type": "markdown",
      "metadata": {
        "id": "view-in-github",
        "colab_type": "text"
      },
      "source": [
        "<a href=\"https://colab.research.google.com/github/GuptaNavdeep1983/CS688/blob/main/TopicModelling.ipynb\" target=\"_parent\"><img src=\"https://colab.research.google.com/assets/colab-badge.svg\" alt=\"Open In Colab\"/></a>"
      ]
    },
    {
      "cell_type": "code",
      "metadata": {
        "colab": {
          "base_uri": "https://localhost:8080/"
        },
        "id": "PQNadAd8n3Lw",
        "outputId": "b56b0c62-1a30-4120-95f9-44fbe9707845"
      },
      "source": [
        "import io\n",
        "import matplotlib.pyplot as plt\n",
        "import tensorflow as tf\n",
        "import pandas as pd \n",
        "from tensorflow import keras\n",
        "from tensorflow.keras import layers\n",
        "import tensorflow_datasets as tfds\n",
        "from tensorflow.keras import losses\n",
        "from tensorflow.keras import preprocessing\n",
        "from tensorflow.keras import utils\n",
        "from tensorflow.keras.layers.experimental.preprocessing import TextVectorization\n",
        "from gensim.models import Word2Vec\n",
        "import nltk\n",
        "nltk.download('punkt')\n",
        "nltk.download('stopwords')\n",
        "from sklearn.feature_extraction.text import TfidfVectorizer, CountVectorizer\n",
        "from sklearn.decomposition import NMF, LatentDirichletAllocation\n",
        "import numpy as np"
      ],
      "execution_count": 10,
      "outputs": [
        {
          "output_type": "stream",
          "text": [
            "[nltk_data] Downloading package punkt to /root/nltk_data...\n",
            "[nltk_data]   Package punkt is already up-to-date!\n",
            "[nltk_data] Downloading package stopwords to /root/nltk_data...\n",
            "[nltk_data]   Package stopwords is already up-to-date!\n"
          ],
          "name": "stdout"
        }
      ]
    },
    {
      "cell_type": "code",
      "metadata": {
        "id": "L5Hcr3ROqzFs"
      },
      "source": [
        "no_topics = 5 #@param {type:\"integer\"}\n",
        "\n",
        "no_top_words = 4 #@param {type:\"integer\"}\n",
        "\n",
        "no_top_documents = 3 #@param {type:\"integer\"}"
      ],
      "execution_count": 15,
      "outputs": []
    },
    {
      "cell_type": "code",
      "metadata": {
        "id": "dGKeRpRioFym"
      },
      "source": [
        "df = pd.read_csv(\"pubmed_results.csv\")\n",
        "df.dropna(inplace=True)\n",
        "df"
      ],
      "execution_count": null,
      "outputs": []
    },
    {
      "cell_type": "code",
      "metadata": {
        "id": "eHXdTDF6oRka"
      },
      "source": [
        "all_sentences = df['title'].to_numpy()\n",
        "all_words = [nltk.word_tokenize(sent) for sent in all_sentences]"
      ],
      "execution_count": 4,
      "outputs": []
    },
    {
      "cell_type": "code",
      "metadata": {
        "id": "PsnEYpYuoNdq"
      },
      "source": [
        "from nltk.corpus import stopwords\n",
        "for i in range(len(all_words)):\n",
        "    all_words[i] = [w for w in all_words[i] if w not in stopwords.words('english')]"
      ],
      "execution_count": 5,
      "outputs": []
    },
    {
      "cell_type": "code",
      "metadata": {
        "colab": {
          "base_uri": "https://localhost:8080/"
        },
        "id": "7-HkbFeGq8Hy",
        "outputId": "2e64e0cb-aba5-411a-fad5-2cd3b36dfb6e"
      },
      "source": [
        "#@title Run NMF\n",
        "\n",
        "def display_topics(H, W, feature_names, documents, no_top_words, no_top_documents):\n",
        "    for topic_idx, topic in enumerate(H):\n",
        "        print(\"Topic %d:\" % (topic_idx))\n",
        "        print(\" \".join([feature_names[i]\n",
        "                        for i in topic.argsort()[:-no_top_words - 1:-1]]))\n",
        "        top_doc_indices = np.argsort( W[:,topic_idx] )[::-1][0:no_top_documents]\n",
        "        for doc_index in top_doc_indices:\n",
        "            print(documents[doc_index])\n",
        "\n",
        "# NMF is able to use tf-idf\n",
        "tfidf_vectorizer = TfidfVectorizer(max_df=0.95, min_df=2, stop_words='english')\n",
        "tfidf = tfidf_vectorizer.fit_transform(all_sentences)\n",
        "tfidf_feature_names = tfidf_vectorizer.get_feature_names()\n",
        "\n",
        "# Run NMF\n",
        "nmf_model = NMF(n_components=no_topics, random_state=1, alpha=.1, l1_ratio=.5, init='nndsvd').fit(tfidf)\n",
        "nmf_W = nmf_model.transform(tfidf)\n",
        "nmf_H = nmf_model.components_\n",
        "\n",
        "print(\"NMF Topics\")\n",
        "display_topics(nmf_H, nmf_W, tfidf_feature_names, all_sentences, no_top_words, no_top_documents)\n",
        "print(\"--------------\")"
      ],
      "execution_count": 16,
      "outputs": [
        {
          "output_type": "stream",
          "text": [
            "NMF Topics\n",
            "Topic 0:\n",
            "study risk factors population\n",
            "The contingent valuation study of Heiðmörk, Iceland - Willingness to pay for its preservation.\n",
            "[The magazineSaúde em Debateas a source and object of study].\n",
            "A prospective, randomized, single - blind study comparing intraplaque injection of thiocolchicine and verapamil in Peyronie's Disease: a pilot study.\n",
            "Topic 1:\n",
            "care home palliative medical\n",
            "[The change in home palliative care].\n",
            "[System for dispensing medicines in home medical care-pharmacy's function as medical care facility-].\n",
            "[The role of home palliative care by health insurance pharmacy].\n",
            "Topic 2:\n",
            "cancer cells cell breast\n",
            "Adipose stem cell crosstalk with chemo-residual breast cancer cells: implications for tumor recurrence.\n",
            "Co-expression of TIM-3 and CEACAM1 promotes T cell exhaustion in colorectal cancer patients.\n",
            "Induced cancer stem cells generated by radiochemotherapy and their therapeutic implications.\n",
            "Topic 3:\n",
            "review literature prevent interventions\n",
            "[Evidence-based and promising interventions to prevent unplanned pregnancies: a literature review].\n",
            "[Evidence-based and promising interventions to prevent drug use among youth: a literature review].\n",
            "[Evidence-based interventions to prevent tobacco use among youth: a literature review].\n",
            "Topic 4:\n",
            "valve aortic edwards medical\n",
            "Symetis ACURATE TA valve.\n",
            "Medtronic CoreValve Evolut valve.\n",
            "St Jude Medical Portico valve.\n",
            "--------------\n"
          ],
          "name": "stdout"
        }
      ]
    },
    {
      "cell_type": "code",
      "metadata": {
        "colab": {
          "base_uri": "https://localhost:8080/"
        },
        "id": "3bOaNNK7ruGg",
        "outputId": "649e90ff-f6e1-4500-e81c-06e5da7b7c0e"
      },
      "source": [
        "#@title Run LDA\n",
        "\n",
        "# LDA can only use raw term counts for LDA because it is a probabilistic graphical model\n",
        "tf_vectorizer = CountVectorizer(max_df=0.95, min_df=2, stop_words='english')\n",
        "tf = tf_vectorizer.fit_transform(all_sentences)\n",
        "tf_feature_names = tf_vectorizer.get_feature_names()\n",
        "\n",
        "# Run LDA\n",
        "lda_model = LatentDirichletAllocation(n_components=no_topics, max_iter=5, learning_method='online', learning_offset=50.,random_state=0).fit(tf)\n",
        "lda_W = lda_model.transform(tf)\n",
        "lda_H = lda_model.components_\n",
        "\n",
        "print(\"LDA Topics\")\n",
        "display_topics(lda_H, lda_W, tf_feature_names, all_sentences, no_top_words, no_top_documents)"
      ],
      "execution_count": 19,
      "outputs": [
        {
          "output_type": "stream",
          "text": [
            "LDA Topics\n",
            "Topic 0:\n",
            "patients disease care health\n",
            "Minimally Invasive Inlay Prosthesis Unicompartmental Knee Arthroplasty for the Treatment of Unicompartmental Osteoarthritis: A Prospective Observational Cohort Study with Minimum 2-Year Outcomes and up to 14-Year Survival.\n",
            "Effectiveness of the Chiari Health Index for Pediatrics instrument in measuring postoperative health-related quality of life in pediatric patients with Chiari malformation type I.\n",
            "Primary care physicians' perceived barriers, facilitators and strategies to enhance conservative care for older adults with chronic kidney disease: a qualitative descriptive study.\n",
            "Topic 1:\n",
            "cell based potential evidence\n",
            "Prediction of Areal Bone Mineral Density and Bone Mineral Content in Children and Adolescents Living With HIV Based on Anthropometric Variables.\n",
            "[A current status of the support for patient leaving hospital that was strengthened by the regional alliances: the evaluation of analysis done by the patient, family and regional staff based on the guideline].\n",
            "Prognostic impact of immune microenvironment in laryngeal and pharyngeal squamous cell carcinoma: Immune cell subtypes, immuno-suppressive pathways and clinicopathologic characteristics.\n",
            "Topic 2:\n",
            "study development novel evaluation\n",
            "Novel rivaroxaban - loaded poly (lactic-<i>co</i>-glycolic acid) /poloxamer nanoparticles: preparation, physicochemical characterization,<i>in vitro</i>evaluation of time-dependent anticoagulant activity and toxicological profile.\n",
            "Separating the genetics of childhood and adult obesity: a validation study of genetic scores for body mass index in adolescence and adulthood in the HUNT Study.\n",
            "Sex- and Subtype-Related Differences of Personality Disorders (Axis II) and Personality Traits in Persistent ADHD.\n",
            "Topic 3:\n",
            "sub women sup protein\n",
            "Computational simulation of <sup>nat</sup>UO<sub>2</sub>, <sup>232</sup>ThO<sub>2</sub> and U<sub>3</sub>O<sub>8</sub>-Al pills to estimate (p,fission) <sup>99</sup>Mo yield in the modeled targets irradiated by CYCLONE30 accelerator.\n",
            "Minimizing sedentary behavior (without increasing medium-to-vigorous exercise) associated functional improvement in older women is somewhat dependent on a measurable increase in muscle size.\n",
            "Improving computational efficiency and tractability of protein design using a piecemeal approach. A strategy for parallel and distributed protein design.\n",
            "Topic 4:\n",
            "treatment based using cancer\n",
            "Reactive oxygen species mediate heat stress-induced apoptosis via ERK dephosphorylation and Bcl-2 ubiquitination in human umbilical vein endothelial cells.\n",
            "Multicenter assessment of surgical outcomes in adult spinal deformity patients with severe global coronal malalignment: determination of target coronal realignment threshold.\n",
            "A randomized controlled pilot trial of a Web-based resource to improve cancer knowledge in adolescent and young adult survivors of childhood cancer.\n"
          ],
          "name": "stdout"
        }
      ]
    },
    {
      "cell_type": "code",
      "metadata": {
        "id": "DKVpYaW5rE_n"
      },
      "source": [
        ""
      ],
      "execution_count": null,
      "outputs": []
    }
  ]
}