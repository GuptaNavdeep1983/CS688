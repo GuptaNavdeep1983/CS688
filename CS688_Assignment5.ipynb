{
  "nbformat": 4,
  "nbformat_minor": 0,
  "metadata": {
    "colab": {
      "name": "CS688 - Assignment5.ipynb",
      "provenance": [],
      "collapsed_sections": [],
      "authorship_tag": "ABX9TyOfDMGCg+BgpQDP4XkgPD2Q",
      "include_colab_link": true
    },
    "kernelspec": {
      "name": "ir",
      "display_name": "R"
    }
  },
  "cells": [
    {
      "cell_type": "markdown",
      "metadata": {
        "id": "view-in-github",
        "colab_type": "text"
      },
      "source": [
        "<a href=\"https://colab.research.google.com/github/GuptaNavdeep1983/CS688/blob/main/CS688_Assignment5.ipynb\" target=\"_parent\"><img src=\"https://colab.research.google.com/assets/colab-badge.svg\" alt=\"Open In Colab\"/></a>"
      ]
    },
    {
      "cell_type": "markdown",
      "metadata": {
        "id": "8ozgwTRgIy6N"
      },
      "source": [
        "References:\n",
        "\n",
        "https://cran.r-project.org/web/packages/httr/vignettes/quickstart.html\n",
        "\n"
      ]
    },
    {
      "cell_type": "code",
      "metadata": {
        "id": "rOLpfKVBkntw",
        "outputId": "d3d4d024-c35b-4535-e621-f366c077a19a",
        "colab": {
          "base_uri": "https://localhost:8080/",
          "height": 218
        }
      },
      "source": [
        "install.packages(\"hash\")\n",
        "install.packages(\"syuzhet\")\n",
        "install.packages(c(\"httr\", \"jsonlite\"))\n",
        "install.packages(\"\")"
      ],
      "execution_count": null,
      "outputs": [
        {
          "output_type": "stream",
          "text": [
            "Installing package into ‘/usr/local/lib/R/site-library’\n",
            "(as ‘lib’ is unspecified)\n",
            "\n",
            "Installing package into ‘/usr/local/lib/R/site-library’\n",
            "(as ‘lib’ is unspecified)\n",
            "\n",
            "also installing the dependencies ‘data.table’, ‘slam’, ‘textshape’, ‘NLP’, ‘zoo’, ‘dtt’\n",
            "\n",
            "\n",
            "Installing packages into ‘/usr/local/lib/R/site-library’\n",
            "(as ‘lib’ is unspecified)\n",
            "\n"
          ],
          "name": "stderr"
        }
      ]
    },
    {
      "cell_type": "code",
      "metadata": {
        "id": "4ZPzHVa8IEJW",
        "outputId": "7936c549-0f38-49e8-c74c-49a7bab9881a",
        "colab": {
          "base_uri": "https://localhost:8080/",
          "height": 825
        }
      },
      "source": [
        "library(dplyr) # for pipes and the data_frame function\n",
        "library(rvest) # webscraping\n",
        "library(stringr) # to deal with strings and to clean up our data\n",
        "library(curl)\n",
        "library(hash)\n",
        "library(syuzhet)\t\n",
        "library(httr)\n",
        "library(jsonlite)\n",
        "\n",
        "\n",
        "r <- GET(\"https://api.cognitive.microsoft.com/bing/v7.0/news/search?q=category=Coronavirus&count=20\", add_headers(\"Ocp-Apim-Subscription-Key\" = \"XXX\"))\n",
        "\n",
        "\n",
        "jsonRespParsed<-content(r,as=\"parsed\")\n",
        "value<-jsonRespParsed$value\n",
        "df<-as.data.frame(value%>%bind_rows%>%select(name,url,description))\n",
        "df"
      ],
      "execution_count": null,
      "outputs": [
        {
          "output_type": "display_data",
          "data": {
            "text/plain": [
              "   name                               \n",
              "1  Category: Coronavirus and Education\n",
              "2  Coronavirus | Vancouver Sun        \n",
              "3  Coronavirus | National Post        \n",
              "4  Coronavirus | The Star Phoenix     \n",
              "5  Coronavirus | Ottawa Citizen       \n",
              "6  Coronavirus | The Province         \n",
              "7  Coronavirus | Toronto Sun          \n",
              "8  Coronavirus | Montreal Gazette     \n",
              "9  Coronavirus | Calgary Herald       \n",
              "10 Coronavirus | Windsor Star         \n",
              "11 Coronavirus | London Free Press    \n",
              "12 Coronavirus | Calgary Sun          \n",
              "13 Category: Coronavirus and Education\n",
              "14 Coronavirus | National Post        \n",
              "15 Coronavirus | The Star Phoenix     \n",
              "16 Coronavirus | London Free Press    \n",
              "17 Coronavirus | Ottawa Citizen       \n",
              "18 Category: Coronavirus Coverage     \n",
              "19 Category: Coronavirus              \n",
              "   url                                                                                                    \n",
              "1  https://hechingerreport.org/special-reports/coronavirus/                                               \n",
              "2  https://vancouversun.com/tag/coronavirus/coronavirus/coronavirus/coronavirus/?more=coronavirus&from=100\n",
              "3  https://nationalpost.com/tag/coronavirus/?from=25                                                      \n",
              "4  https://thestarphoenix.com/tag/coronavirus/coronavirus/?from=25                                        \n",
              "5  https://ottawacitizen.com/tag/coronavirus/?from=25                                                     \n",
              "6  https://theprovince.com/tag/coronavirus/?from=25                                                       \n",
              "7  https://torontosun.com/tag/coronavirus/?from=50                                                        \n",
              "8  https://montrealgazette.com/tag/coronavirus/?from=25                                                   \n",
              "9  https://calgaryherald.com/en/tag/tag/coronavirus/tag/coronavirus/?more=coronavirus&from=75             \n",
              "10 https://windsorstar.com/tag/coronavirus/?from=25                                                       \n",
              "11 https://lfpress.com/tag/coronavirus/?from=50                                                           \n",
              "12 https://calgarysun.com/tag/coronavirus/?from=50                                                        \n",
              "13 https://hechingerreport.org/special-reports/coronavirus/page/2/                                        \n",
              "14 https://nationalpost.com/tag/coronavirus/coronavirus/?more=coronavirus&from=50                         \n",
              "15 https://thestarphoenix.com/tag/coronavirus/?from=25                                                    \n",
              "16 https://lfpress.com/tag/coronavirus/?from=25                                                           \n",
              "17 https://ottawacitizen.com/tag/coronavirus/coronavirus/?more=coronavirus&from=125                       \n",
              "18 https://kvoa.com/category/coronavirus-coverage/page/3/                                                 \n",
              "19 https://wkow.com/category/news/coronavirus/page/2/                                                     \n",
              "   description                                                                                                                                                                                                                                                      \n",
              "1  When the coronavirus pandemic first struck and classes shifted online last spring, Sophia Joffe was in 11th grade. Her private school in Toronto, Ontario, had made the transition admirably well, she thought, but she wondered what online tools existed to ...\n",
              "2  COVID-19 update for Sept. 23: Here's the latest on coronavirus in B.C. Here's your daily update with everything you need to know on the novel coronavirus situation in B.C. for Sept. 23, 2020. B.C ...                                                          \n",
              "3  Donald Trump calls distinguished COVID-19 expert Anthony Fauci a 'disaster' Trump aired his frustration with the scientist during a call meant to reassure campaign staff he still has a path to ...                                                             \n",
              "4  The southeastern city of Yorkton is reporting COVID-19 diagnoses at its hospital, a local gym and its RCMP detachment. The former provincial politician says more needs to be done to stimulate the ...                                                          \n",
              "5  WHO: Letting virus spread through herd immunity is 'scientifically and ethically problematic' Imagine the moral implications of allowing large parts of the population to become ill to get immunity ...                                                         \n",
              "6  “Everyone wants the best for their pets if they have to leave them during a vacation,\" says owner Tatiana Custode. A panel at the UBCM convention brought together large and small municipalities ...                                                            \n",
              "7  Ontario hospitals are calling on the Doug Ford government to return all of the GTA and Ottawa regions to Stage 2. Hidden in the donated tents, among the bikes, tarps, coolers, signs, drug ...                                                                  \n",
              "8  Three latest cases were recorded at 12090 Sherbrooke St. E. and 1275 Rosemont Blvd. in Montreal, and at 1400 Moody Blvd. in Terrebonne. Italy was the first country in Europe to be slammed by COVID ...                                                         \n",
              "9  Ottawa cannot afford to follow through on its throne speech promises without Alberta’s energy sector, Premier Jason Kenney warned Thursday, taking another swipe at the federal government’s ...                                                                 \n",
              "10 Employment numbers in rural Ontario are almost back to pre-pandemic levels, new data show. While Ontario residents have had a sneak peek at what the school year will look like, they’ll have to ...                                                             \n",
              "11 OTTAWA — Canada’s chief public health officer says trick-or-treating should be possible this Halloween as long as little goblins take precautions to prevent the spread of COVID-19. The London ...                                                              \n",
              "12 Three Foothills Hospital units now under 'outbreak watch' Three additional units at Foothills Medical Centre are under an “outbreak watch” as cases continue to spread at the Calgary hospital ...                                                               \n",
              "13 When schools in northern California shut down in mid-March due to the coronavirus, Casino Fajardo and his wife did their best to balance watching their children while working full-time. For several months, they switched off supervising their children, 5 ...\n",
              "14 The province said the website will be updated every weekday Lou Rankin says he has sympathy for officials who are implementing new policies but believes communication can be improved Emerging ...                                                              \n",
              "15 Effective 12:01 a.m. on Friday, the maximum number of people allowed at private gatherings in the home is being reduced from 30 to 15. \"People downtown and having a great time in normal times is ...                                                           \n",
              "16 The London-area's public school board is reporting on Monday a new COVID-19 case, at an elementary school in Dorchester. Exactly seven months since the COVID-19 crisis began, its second wave is in ...                                                         \n",
              "17 TORONTO — A region west of Toronto comprising roughly three per cent of Ontario’s population currently accounts for nearly half of the province’s new COVID-19 diagnoses, Premier Doug Ford ...                                                                  \n",
              "18 With its health officials reporting “26 active cases with just 1 to 5 cases or 0 cases in each of the Sierra Vista zip codes” as of Thursday…                                                                                                                    \n",
              "19 As the COVID-19 pandemic continues to highlight the work healthcare professionals do, experts say the industry is facing another battle: staffing.…                                                                                                              "
            ],
            "text/latex": "A data.frame: 19 × 3\n\\begin{tabular}{lll}\n name & url & description\\\\\n <chr> & <chr> & <chr>\\\\\n\\hline\n\t Category: Coronavirus and Education & https://hechingerreport.org/special-reports/coronavirus/                                                & When the coronavirus pandemic first struck and classes shifted online last spring, Sophia Joffe was in 11th grade. Her private school in Toronto, Ontario, had made the transition admirably well, she thought, but she wondered what online tools existed to ...\\\\\n\t Coronavirus \\textbar{} Vancouver Sun         & https://vancouversun.com/tag/coronavirus/coronavirus/coronavirus/coronavirus/?more=coronavirus\\&from=100 & COVID-19 update for Sept. 23: Here's the latest on coronavirus in B.C. Here's your daily update with everything you need to know on the novel coronavirus situation in B.C. for Sept. 23, 2020. B.C ...                                                          \\\\\n\t Coronavirus \\textbar{} National Post         & https://nationalpost.com/tag/coronavirus/?from=25                                                       & Donald Trump calls distinguished COVID-19 expert Anthony Fauci a 'disaster' Trump aired his frustration with the scientist during a call meant to reassure campaign staff he still has a path to ...                                                             \\\\\n\t Coronavirus \\textbar{} The Star Phoenix      & https://thestarphoenix.com/tag/coronavirus/coronavirus/?from=25                                         & The southeastern city of Yorkton is reporting COVID-19 diagnoses at its hospital, a local gym and its RCMP detachment. The former provincial politician says more needs to be done to stimulate the ...                                                          \\\\\n\t Coronavirus \\textbar{} Ottawa Citizen        & https://ottawacitizen.com/tag/coronavirus/?from=25                                                      & WHO: Letting virus spread through herd immunity is 'scientifically and ethically problematic' Imagine the moral implications of allowing large parts of the population to become ill to get immunity ...                                                         \\\\\n\t Coronavirus \\textbar{} The Province          & https://theprovince.com/tag/coronavirus/?from=25                                                        & “Everyone wants the best for their pets if they have to leave them during a vacation,\" says owner Tatiana Custode. A panel at the UBCM convention brought together large and small municipalities ...                                                            \\\\\n\t Coronavirus \\textbar{} Toronto Sun           & https://torontosun.com/tag/coronavirus/?from=50                                                         & Ontario hospitals are calling on the Doug Ford government to return all of the GTA and Ottawa regions to Stage 2. Hidden in the donated tents, among the bikes, tarps, coolers, signs, drug ...                                                                  \\\\\n\t Coronavirus \\textbar{} Montreal Gazette      & https://montrealgazette.com/tag/coronavirus/?from=25                                                    & Three latest cases were recorded at 12090 Sherbrooke St. E. and 1275 Rosemont Blvd. in Montreal, and at 1400 Moody Blvd. in Terrebonne. Italy was the first country in Europe to be slammed by COVID ...                                                         \\\\\n\t Coronavirus \\textbar{} Calgary Herald        & https://calgaryherald.com/en/tag/tag/coronavirus/tag/coronavirus/?more=coronavirus\\&from=75              & Ottawa cannot afford to follow through on its throne speech promises without Alberta’s energy sector, Premier Jason Kenney warned Thursday, taking another swipe at the federal government’s ...                                                                 \\\\\n\t Coronavirus \\textbar{} Windsor Star          & https://windsorstar.com/tag/coronavirus/?from=25                                                        & Employment numbers in rural Ontario are almost back to pre-pandemic levels, new data show. While Ontario residents have had a sneak peek at what the school year will look like, they’ll have to ...                                                             \\\\\n\t Coronavirus \\textbar{} London Free Press     & https://lfpress.com/tag/coronavirus/?from=50                                                            & OTTAWA — Canada’s chief public health officer says trick-or-treating should be possible this Halloween as long as little goblins take precautions to prevent the spread of COVID-19. The London ...                                                              \\\\\n\t Coronavirus \\textbar{} Calgary Sun           & https://calgarysun.com/tag/coronavirus/?from=50                                                         & Three Foothills Hospital units now under 'outbreak watch' Three additional units at Foothills Medical Centre are under an “outbreak watch” as cases continue to spread at the Calgary hospital ...                                                               \\\\\n\t Category: Coronavirus and Education & https://hechingerreport.org/special-reports/coronavirus/page/2/                                         & When schools in northern California shut down in mid-March due to the coronavirus, Casino Fajardo and his wife did their best to balance watching their children while working full-time. For several months, they switched off supervising their children, 5 ...\\\\\n\t Coronavirus \\textbar{} National Post         & https://nationalpost.com/tag/coronavirus/coronavirus/?more=coronavirus\\&from=50                          & The province said the website will be updated every weekday Lou Rankin says he has sympathy for officials who are implementing new policies but believes communication can be improved Emerging ...                                                              \\\\\n\t Coronavirus \\textbar{} The Star Phoenix      & https://thestarphoenix.com/tag/coronavirus/?from=25                                                     & Effective 12:01 a.m. on Friday, the maximum number of people allowed at private gatherings in the home is being reduced from 30 to 15. \"People downtown and having a great time in normal times is ...                                                           \\\\\n\t Coronavirus \\textbar{} London Free Press     & https://lfpress.com/tag/coronavirus/?from=25                                                            & The London-area's public school board is reporting on Monday a new COVID-19 case, at an elementary school in Dorchester. Exactly seven months since the COVID-19 crisis began, its second wave is in ...                                                         \\\\\n\t Coronavirus \\textbar{} Ottawa Citizen        & https://ottawacitizen.com/tag/coronavirus/coronavirus/?more=coronavirus\\&from=125                        & TORONTO — A region west of Toronto comprising roughly three per cent of Ontario’s population currently accounts for nearly half of the province’s new COVID-19 diagnoses, Premier Doug Ford ...                                                                  \\\\\n\t Category: Coronavirus Coverage      & https://kvoa.com/category/coronavirus-coverage/page/3/                                                  & With its health officials reporting “26 active cases with just 1 to 5 cases or 0 cases in each of the Sierra Vista zip codes” as of Thursday…                                                                                                                    \\\\\n\t Category: Coronavirus               & https://wkow.com/category/news/coronavirus/page/2/                                                      & As the COVID-19 pandemic continues to highlight the work healthcare professionals do, experts say the industry is facing another battle: staffing.…                                                                                                              \\\\\n\\end{tabular}\n",
            "text/markdown": "\nA data.frame: 19 × 3\n\n| name &lt;chr&gt; | url &lt;chr&gt; | description &lt;chr&gt; |\n|---|---|---|\n| Category: Coronavirus and Education | https://hechingerreport.org/special-reports/coronavirus/                                                | When the coronavirus pandemic first struck and classes shifted online last spring, Sophia Joffe was in 11th grade. Her private school in Toronto, Ontario, had made the transition admirably well, she thought, but she wondered what online tools existed to ... |\n| Coronavirus | Vancouver Sun         | https://vancouversun.com/tag/coronavirus/coronavirus/coronavirus/coronavirus/?more=coronavirus&amp;from=100 | COVID-19 update for Sept. 23: Here's the latest on coronavirus in B.C. Here's your daily update with everything you need to know on the novel coronavirus situation in B.C. for Sept. 23, 2020. B.C ...                                                           |\n| Coronavirus | National Post         | https://nationalpost.com/tag/coronavirus/?from=25                                                       | Donald Trump calls distinguished COVID-19 expert Anthony Fauci a 'disaster' Trump aired his frustration with the scientist during a call meant to reassure campaign staff he still has a path to ...                                                              |\n| Coronavirus | The Star Phoenix      | https://thestarphoenix.com/tag/coronavirus/coronavirus/?from=25                                         | The southeastern city of Yorkton is reporting COVID-19 diagnoses at its hospital, a local gym and its RCMP detachment. The former provincial politician says more needs to be done to stimulate the ...                                                           |\n| Coronavirus | Ottawa Citizen        | https://ottawacitizen.com/tag/coronavirus/?from=25                                                      | WHO: Letting virus spread through herd immunity is 'scientifically and ethically problematic' Imagine the moral implications of allowing large parts of the population to become ill to get immunity ...                                                          |\n| Coronavirus | The Province          | https://theprovince.com/tag/coronavirus/?from=25                                                        | “Everyone wants the best for their pets if they have to leave them during a vacation,\" says owner Tatiana Custode. A panel at the UBCM convention brought together large and small municipalities ...                                                             |\n| Coronavirus | Toronto Sun           | https://torontosun.com/tag/coronavirus/?from=50                                                         | Ontario hospitals are calling on the Doug Ford government to return all of the GTA and Ottawa regions to Stage 2. Hidden in the donated tents, among the bikes, tarps, coolers, signs, drug ...                                                                   |\n| Coronavirus | Montreal Gazette      | https://montrealgazette.com/tag/coronavirus/?from=25                                                    | Three latest cases were recorded at 12090 Sherbrooke St. E. and 1275 Rosemont Blvd. in Montreal, and at 1400 Moody Blvd. in Terrebonne. Italy was the first country in Europe to be slammed by COVID ...                                                          |\n| Coronavirus | Calgary Herald        | https://calgaryherald.com/en/tag/tag/coronavirus/tag/coronavirus/?more=coronavirus&amp;from=75              | Ottawa cannot afford to follow through on its throne speech promises without Alberta’s energy sector, Premier Jason Kenney warned Thursday, taking another swipe at the federal government’s ...                                                                  |\n| Coronavirus | Windsor Star          | https://windsorstar.com/tag/coronavirus/?from=25                                                        | Employment numbers in rural Ontario are almost back to pre-pandemic levels, new data show. While Ontario residents have had a sneak peek at what the school year will look like, they’ll have to ...                                                              |\n| Coronavirus | London Free Press     | https://lfpress.com/tag/coronavirus/?from=50                                                            | OTTAWA — Canada’s chief public health officer says trick-or-treating should be possible this Halloween as long as little goblins take precautions to prevent the spread of COVID-19. The London ...                                                               |\n| Coronavirus | Calgary Sun           | https://calgarysun.com/tag/coronavirus/?from=50                                                         | Three Foothills Hospital units now under 'outbreak watch' Three additional units at Foothills Medical Centre are under an “outbreak watch” as cases continue to spread at the Calgary hospital ...                                                                |\n| Category: Coronavirus and Education | https://hechingerreport.org/special-reports/coronavirus/page/2/                                         | When schools in northern California shut down in mid-March due to the coronavirus, Casino Fajardo and his wife did their best to balance watching their children while working full-time. For several months, they switched off supervising their children, 5 ... |\n| Coronavirus | National Post         | https://nationalpost.com/tag/coronavirus/coronavirus/?more=coronavirus&amp;from=50                          | The province said the website will be updated every weekday Lou Rankin says he has sympathy for officials who are implementing new policies but believes communication can be improved Emerging ...                                                               |\n| Coronavirus | The Star Phoenix      | https://thestarphoenix.com/tag/coronavirus/?from=25                                                     | Effective 12:01 a.m. on Friday, the maximum number of people allowed at private gatherings in the home is being reduced from 30 to 15. \"People downtown and having a great time in normal times is ...                                                            |\n| Coronavirus | London Free Press     | https://lfpress.com/tag/coronavirus/?from=25                                                            | The London-area's public school board is reporting on Monday a new COVID-19 case, at an elementary school in Dorchester. Exactly seven months since the COVID-19 crisis began, its second wave is in ...                                                          |\n| Coronavirus | Ottawa Citizen        | https://ottawacitizen.com/tag/coronavirus/coronavirus/?more=coronavirus&amp;from=125                        | TORONTO — A region west of Toronto comprising roughly three per cent of Ontario’s population currently accounts for nearly half of the province’s new COVID-19 diagnoses, Premier Doug Ford ...                                                                   |\n| Category: Coronavirus Coverage      | https://kvoa.com/category/coronavirus-coverage/page/3/                                                  | With its health officials reporting “26 active cases with just 1 to 5 cases or 0 cases in each of the Sierra Vista zip codes” as of Thursday…                                                                                                                     |\n| Category: Coronavirus               | https://wkow.com/category/news/coronavirus/page/2/                                                      | As the COVID-19 pandemic continues to highlight the work healthcare professionals do, experts say the industry is facing another battle: staffing.…                                                                                                               |\n\n",
            "text/html": [
              "<table>\n",
              "<caption>A data.frame: 19 × 3</caption>\n",
              "<thead>\n",
              "\t<tr><th scope=col>name</th><th scope=col>url</th><th scope=col>description</th></tr>\n",
              "\t<tr><th scope=col>&lt;chr&gt;</th><th scope=col>&lt;chr&gt;</th><th scope=col>&lt;chr&gt;</th></tr>\n",
              "</thead>\n",
              "<tbody>\n",
              "\t<tr><td>Category: Coronavirus and Education</td><td>https://hechingerreport.org/special-reports/coronavirus/                                               </td><td>When the coronavirus pandemic first struck and classes shifted online last spring, Sophia Joffe was in 11th grade. Her private school in Toronto, Ontario, had made the transition admirably well, she thought, but she wondered what online tools existed to ...</td></tr>\n",
              "\t<tr><td><span style=white-space:pre-wrap>Coronavirus | Vancouver Sun        </span></td><td>https://vancouversun.com/tag/coronavirus/coronavirus/coronavirus/coronavirus/?more=coronavirus&amp;from=100</td><td><span style=white-space:pre-wrap>COVID-19 update for Sept. 23: Here's the latest on coronavirus in B.C. Here's your daily update with everything you need to know on the novel coronavirus situation in B.C. for Sept. 23, 2020. B.C ...                                                          </span></td></tr>\n",
              "\t<tr><td>Coronavirus | National Post        </td><td>https://nationalpost.com/tag/coronavirus/?from=25                                                      </td><td>Donald Trump calls distinguished COVID-19 expert Anthony Fauci a 'disaster' Trump aired his frustration with the scientist during a call meant to reassure campaign staff he still has a path to ...                                                             </td></tr>\n",
              "\t<tr><td>Coronavirus | The Star Phoenix     </td><td>https://thestarphoenix.com/tag/coronavirus/coronavirus/?from=25                                        </td><td>The southeastern city of Yorkton is reporting COVID-19 diagnoses at its hospital, a local gym and its RCMP detachment. The former provincial politician says more needs to be done to stimulate the ...                                                          </td></tr>\n",
              "\t<tr><td>Coronavirus | Ottawa Citizen       </td><td>https://ottawacitizen.com/tag/coronavirus/?from=25                                                     </td><td>WHO: Letting virus spread through herd immunity is 'scientifically and ethically problematic' Imagine the moral implications of allowing large parts of the population to become ill to get immunity ...                                                         </td></tr>\n",
              "\t<tr><td>Coronavirus | The Province         </td><td>https://theprovince.com/tag/coronavirus/?from=25                                                       </td><td>“Everyone wants the best for their pets if they have to leave them during a vacation,\" says owner Tatiana Custode. A panel at the UBCM convention brought together large and small municipalities ...                                                            </td></tr>\n",
              "\t<tr><td>Coronavirus | Toronto Sun          </td><td>https://torontosun.com/tag/coronavirus/?from=50                                                        </td><td>Ontario hospitals are calling on the Doug Ford government to return all of the GTA and Ottawa regions to Stage 2. Hidden in the donated tents, among the bikes, tarps, coolers, signs, drug ...                                                                  </td></tr>\n",
              "\t<tr><td>Coronavirus | Montreal Gazette     </td><td>https://montrealgazette.com/tag/coronavirus/?from=25                                                   </td><td>Three latest cases were recorded at 12090 Sherbrooke St. E. and 1275 Rosemont Blvd. in Montreal, and at 1400 Moody Blvd. in Terrebonne. Italy was the first country in Europe to be slammed by COVID ...                                                         </td></tr>\n",
              "\t<tr><td><span style=white-space:pre-wrap>Coronavirus | Calgary Herald       </span></td><td><span style=white-space:pre-wrap>https://calgaryherald.com/en/tag/tag/coronavirus/tag/coronavirus/?more=coronavirus&amp;from=75             </span></td><td><span style=white-space:pre-wrap>Ottawa cannot afford to follow through on its throne speech promises without Alberta’s energy sector, Premier Jason Kenney warned Thursday, taking another swipe at the federal government’s ...                                                                 </span></td></tr>\n",
              "\t<tr><td>Coronavirus | Windsor Star         </td><td>https://windsorstar.com/tag/coronavirus/?from=25                                                       </td><td>Employment numbers in rural Ontario are almost back to pre-pandemic levels, new data show. While Ontario residents have had a sneak peek at what the school year will look like, they’ll have to ...                                                             </td></tr>\n",
              "\t<tr><td>Coronavirus | London Free Press    </td><td>https://lfpress.com/tag/coronavirus/?from=50                                                           </td><td>OTTAWA — Canada’s chief public health officer says trick-or-treating should be possible this Halloween as long as little goblins take precautions to prevent the spread of COVID-19. The London ...                                                              </td></tr>\n",
              "\t<tr><td>Coronavirus | Calgary Sun          </td><td>https://calgarysun.com/tag/coronavirus/?from=50                                                        </td><td>Three Foothills Hospital units now under 'outbreak watch' Three additional units at Foothills Medical Centre are under an “outbreak watch” as cases continue to spread at the Calgary hospital ...                                                               </td></tr>\n",
              "\t<tr><td>Category: Coronavirus and Education</td><td>https://hechingerreport.org/special-reports/coronavirus/page/2/                                        </td><td>When schools in northern California shut down in mid-March due to the coronavirus, Casino Fajardo and his wife did their best to balance watching their children while working full-time. For several months, they switched off supervising their children, 5 ...</td></tr>\n",
              "\t<tr><td><span style=white-space:pre-wrap>Coronavirus | National Post        </span></td><td><span style=white-space:pre-wrap>https://nationalpost.com/tag/coronavirus/coronavirus/?more=coronavirus&amp;from=50                         </span></td><td><span style=white-space:pre-wrap>The province said the website will be updated every weekday Lou Rankin says he has sympathy for officials who are implementing new policies but believes communication can be improved Emerging ...                                                              </span></td></tr>\n",
              "\t<tr><td>Coronavirus | The Star Phoenix     </td><td>https://thestarphoenix.com/tag/coronavirus/?from=25                                                    </td><td>Effective 12:01 a.m. on Friday, the maximum number of people allowed at private gatherings in the home is being reduced from 30 to 15. \"People downtown and having a great time in normal times is ...                                                           </td></tr>\n",
              "\t<tr><td>Coronavirus | London Free Press    </td><td>https://lfpress.com/tag/coronavirus/?from=25                                                           </td><td>The London-area's public school board is reporting on Monday a new COVID-19 case, at an elementary school in Dorchester. Exactly seven months since the COVID-19 crisis began, its second wave is in ...                                                         </td></tr>\n",
              "\t<tr><td><span style=white-space:pre-wrap>Coronavirus | Ottawa Citizen       </span></td><td><span style=white-space:pre-wrap>https://ottawacitizen.com/tag/coronavirus/coronavirus/?more=coronavirus&amp;from=125                       </span></td><td><span style=white-space:pre-wrap>TORONTO — A region west of Toronto comprising roughly three per cent of Ontario’s population currently accounts for nearly half of the province’s new COVID-19 diagnoses, Premier Doug Ford ...                                                                  </span></td></tr>\n",
              "\t<tr><td>Category: Coronavirus Coverage     </td><td>https://kvoa.com/category/coronavirus-coverage/page/3/                                                 </td><td>With its health officials reporting “26 active cases with just 1 to 5 cases or 0 cases in each of the Sierra Vista zip codes” as of Thursday…                                                                                                                    </td></tr>\n",
              "\t<tr><td>Category: Coronavirus              </td><td>https://wkow.com/category/news/coronavirus/page/2/                                                     </td><td>As the COVID-19 pandemic continues to highlight the work healthcare professionals do, experts say the industry is facing another battle: staffing.…                                                                                                              </td></tr>\n",
              "</tbody>\n",
              "</table>\n"
            ]
          },
          "metadata": {
            "tags": []
          }
        }
      ]
    },
    {
      "cell_type": "code",
      "metadata": {
        "id": "B8Pr_okaLGfx",
        "outputId": "ac1e591a-c014-45f6-826d-f39b37e280dc",
        "colab": {
          "base_uri": "https://localhost:8080/",
          "height": 34
        }
      },
      "source": [
        "library(\"datasets\")\n",
        "library(\"aws.s3\")\n",
        "download_url<-function(name, url){\n",
        "  html<-read_html(url)\n",
        "  article<-html %>%\n",
        "    html_nodes('p') %>%\n",
        "    html_text()\n",
        "  s_v\t<- get_sentences(article)\n",
        "  datalist = list()\n",
        "  for (i in 1:length(s_v)){\n",
        "    szu_score <- get_sentiment(s_v[i],\tmethod=\"syuzhet\")\n",
        "    afinn_score <- get_sentiment(s_v[i],\tmethod=\"afinn\")\n",
        "    bing_score <- get_sentiment(s_v[i],\tmethod=\"bing\")\n",
        "    nrc_score <- get_sentiment(s_v[i],\tmethod=\"nrc\")\n",
        "    dat <- data.frame(\"title\"=s_v[i],\"szu_score\"=szu_score,\"afinn_score\"=afinn_score,\"bing_score\"=bing_score,\"nrc_score\"=nrc_score)\n",
        "    # print(dat)\n",
        "    dat$url <- url  # maybe you want to keep track of which iteration produced it?\n",
        "    datalist[[i]] <- dat # add it to your list\n",
        "  }\n",
        "  big_data = do.call(rbind, datalist)\n",
        "  \n",
        "  \n",
        "  write.table(big_data, \"myDF.csv\", sep = \",\", col.names = !file.exists(\"myDF.csv\"), append = T)\n",
        "\n",
        "  \n",
        "  \n",
        "}\n",
        "a<-mapply(download_url, df$name, df$url)\n",
        "aws.s3::put_object(file = \"myDF.csv\",\n",
        "    bucket = \"navdeep-assignment\", object = \"sentiment_analysis.csv\")\n",
        "# if(require(\"utils\")){\n",
        "#   s3write_using(big_data, FUN = write.csv,\n",
        "#                   bucket = \"navdeep-assignment\",\n",
        "#                   object = paste(\"sentiments_\", name, sep=\"\"))\n",
        "# }\n"
      ],
      "execution_count": null,
      "outputs": [
        {
          "output_type": "display_data",
          "data": {
            "text/plain": [
              "[1] TRUE"
            ],
            "text/latex": "TRUE",
            "text/markdown": "TRUE",
            "text/html": [
              "TRUE"
            ]
          },
          "metadata": {
            "tags": []
          }
        }
      ]
    },
    {
      "cell_type": "code",
      "metadata": {
        "id": "xWdlYFrfUkwI",
        "outputId": "2c203542-f690-4d23-906b-73aaa0c60ae2",
        "colab": {
          "base_uri": "https://localhost:8080/",
          "height": 178
        }
      },
      "source": [
        "sentiment_df <- read.csv(file = 'myDF.csv')\n",
        "sentiment_df"
      ],
      "execution_count": null,
      "outputs": [
        {
          "output_type": "error",
          "ename": "ERROR",
          "evalue": "ignored",
          "traceback": [
            "Error in read.table(file = file, header = header, sep = sep, quote = quote, : duplicate 'row.names' are not allowed\nTraceback:\n",
            "1. read.csv(file = \"myDF.csv\")",
            "2. read.table(file = file, header = header, sep = sep, quote = quote, \n .     dec = dec, fill = fill, comment.char = comment.char, ...)",
            "3. stop(\"duplicate 'row.names' are not allowed\")"
          ]
        }
      ]
    }
  ]
}