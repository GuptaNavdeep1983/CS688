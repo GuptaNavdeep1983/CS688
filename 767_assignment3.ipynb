{
  "nbformat": 4,
  "nbformat_minor": 0,
  "metadata": {
    "colab": {
      "name": "Untitled32.ipynb",
      "provenance": [],
      "authorship_tag": "ABX9TyPnbqFCabq2A+tsSvn2nQ3L",
      "include_colab_link": true
    },
    "kernelspec": {
      "name": "python3",
      "display_name": "Python 3"
    },
    "language_info": {
      "name": "python"
    }
  },
  "cells": [
    {
      "cell_type": "markdown",
      "metadata": {
        "id": "view-in-github",
        "colab_type": "text"
      },
      "source": [
        "<a href=\"https://colab.research.google.com/github/GuptaNavdeep1983/CS688/blob/main/767_assignment3.ipynb\" target=\"_parent\"><img src=\"https://colab.research.google.com/assets/colab-badge.svg\" alt=\"Open In Colab\"/></a>"
      ]
    },
    {
      "cell_type": "code",
      "metadata": {
        "id": "niAs2D4dVasb"
      },
      "source": [
        "import pandas as pd\n",
        "import matplotlib.pyplot as plt\n",
        "import numpy as np\n",
        "import math"
      ],
      "execution_count": null,
      "outputs": []
    },
    {
      "cell_type": "code",
      "metadata": {
        "id": "ZabgPKeeVpbc"
      },
      "source": [
        "df = pd.read_csv(\"./Assignment_3_Hitters.csv\")\n",
        "df.rename( columns={'Unnamed: 0':'hitter_name'}, inplace=True )\n",
        "df\n",
        "\n",
        "X_train = df.loc[~df.isnull().any(axis=1), df.columns != 'Salary']\n",
        "Y_train = df.loc[~df.isnull().any(axis=1), 'Salary']\n",
        "X_test = df.loc[df.isnull().any(axis=1), df.columns != 'Salary']\n"
      ],
      "execution_count": null,
      "outputs": []
    },
    {
      "cell_type": "code",
      "metadata": {
        "colab": {
          "base_uri": "https://localhost:8080/"
        },
        "id": "GlyUXkZsZz3M",
        "outputId": "8b07b370-b931-4414-b02b-fc430fea5f00"
      },
      "source": [
        "Y_train"
      ],
      "execution_count": null,
      "outputs": [
        {
          "output_type": "execute_result",
          "data": {
            "text/plain": [
              "1       475.0\n",
              "2       480.0\n",
              "3       500.0\n",
              "4        91.5\n",
              "5       750.0\n",
              "        ...  \n",
              "317     700.0\n",
              "318     875.0\n",
              "319     385.0\n",
              "320     960.0\n",
              "321    1000.0\n",
              "Name: Salary, Length: 263, dtype: float64"
            ]
          },
          "metadata": {
            "tags": []
          },
          "execution_count": 27
        }
      ]
    }
  ]
}