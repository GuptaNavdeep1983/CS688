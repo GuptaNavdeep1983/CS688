{
  "nbformat": 4,
  "nbformat_minor": 0,
  "metadata": {
    "colab": {
      "name": "Untitled32.ipynb",
      "provenance": [],
      "authorship_tag": "ABX9TyOknsz2YFqR+3XAeismuBj6",
      "include_colab_link": true
    },
    "kernelspec": {
      "name": "python3",
      "display_name": "Python 3"
    },
    "language_info": {
      "name": "python"
    }
  },
  "cells": [
    {
      "cell_type": "markdown",
      "metadata": {
        "id": "view-in-github",
        "colab_type": "text"
      },
      "source": [
        "<a href=\"https://colab.research.google.com/github/GuptaNavdeep1983/CS688/blob/main/767_assignment3.ipynb\" target=\"_parent\"><img src=\"https://colab.research.google.com/assets/colab-badge.svg\" alt=\"Open In Colab\"/></a>"
      ]
    },
    {
      "cell_type": "code",
      "metadata": {
        "id": "niAs2D4dVasb"
      },
      "source": [
        "import pandas as pd\n",
        "import matplotlib.pyplot as plt\n",
        "import numpy as np\n",
        "import math"
      ],
      "execution_count": null,
      "outputs": []
    },
    {
      "cell_type": "code",
      "metadata": {
        "id": "ZabgPKeeVpbc"
      },
      "source": [
        "df = pd.read_csv(\"./Assignment_3_Hitters.csv\")\n",
        "df.rename( columns={'Unnamed: 0':'hitter_name'}, inplace=True )\n",
        "df\n",
        "\n",
        "X_train = df.loc[~df.isnull().any(axis=1), df.columns != 'Salary']\n",
        "Y_train = df.loc[~df.isnull().any(axis=1), 'Salary']\n",
        "X_test = df.loc[df.isnull().any(axis=1), df.columns != 'Salary']\n"
      ],
      "execution_count": null,
      "outputs": []
    },
    {
      "cell_type": "code",
      "metadata": {
        "colab": {
          "base_uri": "https://localhost:8080/"
        },
        "id": "GlyUXkZsZz3M",
        "outputId": "8b07b370-b931-4414-b02b-fc430fea5f00"
      },
      "source": [
        "def predict(row, weights, bias):\n",
        "  output = bias\n",
        "  for index, weight in enumerate(weights):\n",
        "    output += weight * row[index]\n",
        "  return output if output >= 0.0 else 0.0 \n",
        "\n",
        "def train_weights_using_batch_gradient_descent(X_train, y_train, num_epochs, learning_rate):\n",
        "  # weights for all the features \n",
        "  weights = [0,0,0,0]\n",
        "  bias = 0\n",
        "  index = 0\n",
        "  df_plot = []\n",
        "  while index < num_epochs:\n",
        "    mse = 0.0\n",
        "    total_gradient = weights\n",
        "    for rowIndex, row in X_train.iterrows():\n",
        "      predicted_value = predict(row, weights, bias)\n",
        "      error = y_train.loc[rowIndex,'target'] - predicted_value\n",
        "      mse += error**2\n",
        "      total_gradient = [weight + (error * row[weight_index]) for weight_index, weight in enumerate(total_gradient)] \n",
        "    bias = bias + learning_rate * (mse/X_train.shape[0])\n",
        "    weights = [weight + learning_rate * (total_gradient[weight_index]/X_train.shape[0]) for weight_index, weight in enumerate(weights)]\n",
        "    print('>epoch=%d, lrate=%.3f, error=%.3f' % (index, learning_rate, mse/X_train.shape[0]))\n",
        "    df_plot.append({mse/X_train.shape[0], index, weights[1], weights[2]})\n",
        "    index = index + 1\n",
        "  df_plot = pd.DataFrame(df_plot, columns=['mse', 'epoch', 'sepal_width', 'petal_length'])\n",
        "  return weights, bias, df_plot"
      ],
      "execution_count": null,
      "outputs": [
        {
          "output_type": "execute_result",
          "data": {
            "text/plain": [
              "1       475.0\n",
              "2       480.0\n",
              "3       500.0\n",
              "4        91.5\n",
              "5       750.0\n",
              "        ...  \n",
              "317     700.0\n",
              "318     875.0\n",
              "319     385.0\n",
              "320     960.0\n",
              "321    1000.0\n",
              "Name: Salary, Length: 263, dtype: float64"
            ]
          },
          "metadata": {
            "tags": []
          },
          "execution_count": 27
        }
      ]
    }
  ]
}