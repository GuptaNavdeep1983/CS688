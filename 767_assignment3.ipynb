{
  "nbformat": 4,
  "nbformat_minor": 0,
  "metadata": {
    "colab": {
      "name": "Untitled32.ipynb",
      "provenance": [],
      "authorship_tag": "ABX9TyOiGCmdyOE+oy8HJcj3zjFs",
      "include_colab_link": true
    },
    "kernelspec": {
      "name": "python3",
      "display_name": "Python 3"
    },
    "language_info": {
      "name": "python"
    }
  },
  "cells": [
    {
      "cell_type": "markdown",
      "metadata": {
        "id": "view-in-github",
        "colab_type": "text"
      },
      "source": [
        "<a href=\"https://colab.research.google.com/github/GuptaNavdeep1983/CS688/blob/main/767_assignment3.ipynb\" target=\"_parent\"><img src=\"https://colab.research.google.com/assets/colab-badge.svg\" alt=\"Open In Colab\"/></a>"
      ]
    },
    {
      "cell_type": "code",
      "metadata": {
        "id": "niAs2D4dVasb"
      },
      "source": [
        "import pandas as pd\n",
        "import matplotlib.pyplot as plt\n",
        "import numpy as np\n",
        "import math\n",
        "import random\n"
      ],
      "execution_count": 1,
      "outputs": []
    },
    {
      "cell_type": "code",
      "metadata": {
        "id": "ZabgPKeeVpbc"
      },
      "source": [
        "df = pd.read_csv(\"./Assignment_3_Hitters.csv\")\n",
        "df.rename( columns={'Unnamed: 0':'hitter_name'}, inplace=True )\n",
        "\n",
        "df = pd.get_dummies(df, columns=['League', 'Division', 'NewLeague'], prefix=[\"League_is\", \"Division_is\", \"NewLeague\"] )\n",
        "\n",
        "X_train = df.loc[~df.isnull().any(axis=1), ~df.columns.isin(['Salary', 'hitter_name'])]\n",
        "y_train = df.loc[~df.isnull().any(axis=1), ['Salary']]\n",
        "X_test = df.loc[df.isnull().any(axis=1), ~df.columns.isin(['Salary', 'hitter_name'])]\n"
      ],
      "execution_count": 2,
      "outputs": []
    },
    {
      "cell_type": "code",
      "metadata": {
        "id": "Wb9ySv7QcjH8"
      },
      "source": [
        "number_of_features = len(X_train.columns.values)\n",
        "final_output = []"
      ],
      "execution_count": 3,
      "outputs": []
    },
    {
      "cell_type": "code",
      "metadata": {
        "id": "QKKJyutQYRtK"
      },
      "source": [
        "from enum import Enum\n",
        "class Regularization(Enum):\n",
        "     L2 = 1\n",
        "     Lasso = 2\n",
        "     No_regularization = 3"
      ],
      "execution_count": 4,
      "outputs": []
    },
    {
      "cell_type": "code",
      "metadata": {
        "id": "GlyUXkZsZz3M"
      },
      "source": [
        "def predict(row, weights, bias):\n",
        "  output = bias\n",
        "  for index, weight in enumerate(weights):\n",
        "    output += weight * row[index]\n",
        "  return output if output > 0.0 else output * 0.05\n",
        "\n",
        "def lasso_regularization(weights, lambda_val):\n",
        "  return sum([abs(weight) for weight in weights]) * lambda_val\n",
        "def l2_regularization(weights, lambda_val):\n",
        "  return sum([weight**2 for weight in weights]) * (lambda_val/2)\n",
        "\n",
        "def choose_regularzation(regularization, weights, lambda_val):\n",
        "  if regularization == Regularization.L2:\n",
        "    return l2_regularization(weights, lambda_val)\n",
        "  elif regularization == Regularization.Lasso:\n",
        "    return lasso_regularization(weights, lambda_val)\n",
        "  else:\n",
        "    return 0\n",
        "def train_weights_using_batch_gradient_descent(X_train, y_train, num_epochs, learning_rate, lambda_val, regularization_component, alpha_val=0.9, batch_size=12, ):\n",
        "  # weights for all the features \n",
        "  weights = [random.uniform(-2,2)* math.sqrt(2/number_of_features) for i in range(number_of_features)]\n",
        "  bias = 0\n",
        "  index = 0\n",
        "  plot_values = []\n",
        "  while index < num_epochs:\n",
        "    mse = 0.0\n",
        "    total_weights = 0.0\n",
        "    total_gradient = [0 for _ in range(number_of_features)]\n",
        "    mini_batch = X_train.sample(n = batch_size, random_state=42)\n",
        "    regularization = choose_regularzation(regularization_component, weights, lambda_val)\n",
        "    for rowIndex, row in mini_batch.iterrows():\n",
        "      predicted_value = predict(row, weights, bias)\n",
        "      error = (y_train.loc[rowIndex,'Salary'] - predicted_value)\n",
        "      error_with_regularization = error + regularization\n",
        "      mse += error**2\n",
        "      mse_with_regularization = mse + regularization\n",
        "      total_gradient = [gradient + (error_with_regularization * row[gradient_index]) for gradient_index, gradient in enumerate(total_gradient)] \n",
        "    total_gradient = [(alpha_val * gradient) + gradient for gradient in total_gradient] \n",
        "    bias = bias + learning_rate * (mse_with_regularization/mini_batch.shape[0])\n",
        "    weights = [weight + learning_rate * (total_gradient[weight_index]/mini_batch.shape[0]) for weight_index, weight in enumerate(weights)]\n",
        "    index = index + 1\n",
        "    plot_values.append((index, mse_with_regularization/mini_batch.shape[0]))\n",
        "    # print('>epoch=%d, lrate=%.3f, error=%.3f' % (index, learning_rate, mse_with_regularization/mini_batch.shape[0]))\n",
        "  df_plot_values = pd.DataFrame(plot_values, columns=['epoch', 'MSE'])\n",
        "  return weights, bias, df_plot_values"
      ],
      "execution_count": 5,
      "outputs": []
    },
    {
      "cell_type": "markdown",
      "metadata": {
        "id": "28Gs-WI6ipi4"
      },
      "source": [
        "#Learning Rate\n",
        "\n",
        "To choose the learning rate, "
      ]
    },
    {
      "cell_type": "code",
      "metadata": {
        "colab": {
          "base_uri": "https://localhost:8080/",
          "height": 295
        },
        "id": "GRpZWCYqiDei",
        "outputId": "fc3f39d7-8772-4e3e-ab22-2108a99faa94"
      },
      "source": [
        "(weights, bias, df_plot_values) = train_weights_using_batch_gradient_descent(X_train, y_train, num_epochs=2000, learning_rate=0.00000001, lambda_val=0.01, regularization_component=Regularization.No_regularization)\n",
        "plt.plot(df_plot_values['epoch'], df_plot_values['MSE'], marker='o', color='blue')\n",
        "plt.title(\"MSE against iteration with No regularization\")\n",
        "plt.xlabel(\"Iterations\")\n",
        "plt.ylabel(\"MSE with regularization\")\n",
        "plt.show()\n",
        "final_output.append((\"No_regularization\", *weights))"
      ],
      "execution_count": 6,
      "outputs": [
        {
          "output_type": "display_data",
          "data": {
            "image/png": "[encoded data removed]",
            "text/plain": [
              "<Figure size 432x288 with 1 Axes>"
            ]
          },
          "metadata": {
            "tags": [],
            "needs_background": "light"
          }
        }
      ]
    },
    {
      "cell_type": "code",
      "metadata": {
        "id": "hLssk9KQEs4i",
        "colab": {
          "base_uri": "https://localhost:8080/",
          "height": 573
        },
        "outputId": "5482c5c4-3bee-4377-8551-fe83ff14a5c9"
      },
      "source": [
        "(weights, bias, df_plot_values) = train_weights_using_batch_gradient_descent(X_train, y_train, num_epochs=2000, learning_rate=0.00000001, lambda_val=0.01, regularization_component=Regularization.Lasso)\n",
        "plt.plot(df_plot_values['epoch'], df_plot_values['MSE'], marker='o', color='blue')\n",
        "plt.title(\"MSE against iteration with Lasso regularization (lambda 0.01)\")\n",
        "plt.xlabel(\"Iterations\")\n",
        "plt.ylabel(\"MSE with regularization\")\n",
        "plt.show()\n",
        "final_output.append((\"Lasso_regularization_with_lambda_0.01\", *weights))\n",
        "(weights, bias, df_plot_values) = train_weights_using_batch_gradient_descent(X_train, y_train, num_epochs=2000, learning_rate=0.00000001, lambda_val=10, regularization_component=Regularization.Lasso)\n",
        "plt.plot(df_plot_values['epoch'], df_plot_values['MSE'], marker='o', color='blue')\n",
        "plt.title(\"MSE against iteration with Lasso regularization (lambda 10)\")\n",
        "plt.xlabel(\"Iterations\")\n",
        "plt.ylabel(\"MSE with regularization\")\n",
        "plt.show()\n",
        "final_output.append((\"Lasso_regularization_with_lambda_10\", *weights))"
      ],
      "execution_count": 7,
      "outputs": [
        {
          "output_type": "display_data",
          "data": {
            "image/png": "[encoded data removed]",
            "text/plain": [
              "<Figure size 432x288 with 1 Axes>"
            ]
          },
          "metadata": {
            "tags": [],
            "needs_background": "light"
          }
        },
        {
          "output_type": "display_data",
          "data": {
            "image/png": "[encoded data removed]",
            "text/plain": [
              "<Figure size 432x288 with 1 Axes>"
            ]
          },
          "metadata": {
            "tags": [],
            "needs_background": "light"
          }
        }
      ]
    },
    {
      "cell_type": "code",
      "metadata": {
        "colab": {
          "base_uri": "https://localhost:8080/",
          "height": 573
        },
        "id": "jyQzJn2_aSjB",
        "outputId": "d97e1c0d-6cfc-4d14-8a96-64ced16f6ee2"
      },
      "source": [
        "(weights, bias, df_plot_values) = train_weights_using_batch_gradient_descent(X_train, y_train, num_epochs=2000, learning_rate=0.00000001, lambda_val=0.01, regularization_component=Regularization.L2)\n",
        "plt.plot(df_plot_values['epoch'], df_plot_values['MSE'], marker='o', color='blue')\n",
        "plt.title(\"MSE against iteration with L2 regularization (lambda 0.01)\")\n",
        "plt.xlabel(\"Iterations\")\n",
        "plt.ylabel(\"MSE with regularization\")\n",
        "plt.show()\n",
        "final_output.append((\"L2_regularization_with_lambda_0.01\", *weights))\n",
        "(weights, bias, df_plot_values) = train_weights_using_batch_gradient_descent(X_train, y_train, num_epochs=2000, learning_rate=0.00000001, lambda_val=10, regularization_component=Regularization.L2)\n",
        "plt.plot(df_plot_values['epoch'], df_plot_values['MSE'], marker='o', color='blue')\n",
        "plt.title(\"MSE against iteration with L2 regularization (lambda 10)\")\n",
        "plt.xlabel(\"Iterations\")\n",
        "plt.ylabel(\"MSE with regularization\")\n",
        "plt.show()\n",
        "final_output.append((\"L2_regularization_with_lambda_10\", *weights))"
      ],
      "execution_count": 8,
      "outputs": [
        {
          "output_type": "display_data",
          "data": {
            "image/png": "[encoded data removed]",
            "text/plain": [
              "<Figure size 432x288 with 1 Axes>"
            ]
          },
          "metadata": {
            "tags": [],
            "needs_background": "light"
          }
        },
        {
          "output_type": "display_data",
          "data": {
            "image/png": "[encoded data removed]",
            "text/plain": [
              "<Figure size 432x288 with 1 Axes>"
            ]
          },
          "metadata": {
            "tags": [],
            "needs_background": "light"
          }
        }
      ]
    },
    {
      "cell_type": "code",
      "metadata": {
        "colab": {
          "base_uri": "https://localhost:8080/",
          "height": 224
        },
        "id": "zfX4IcRzi1AU",
        "outputId": "00e138ce-3c77-4a77-e874-0531304ae4be"
      },
      "source": [
        "df_output = pd.DataFrame(final_output, columns=[\"Regularization\", *X_train.columns.values])\n",
        "\n",
        "df_output"
      ],
      "execution_count": 9,
      "outputs": [
        {
          "output_type": "execute_result",
          "data": {
            "text/html": [
              "<div>\n",
              "<style scoped>\n",
              "    .dataframe tbody tr th:only-of-type {\n",
              "        vertical-align: middle;\n",
              "    }\n",
              "\n",
              "    .dataframe tbody tr th {\n",
              "        vertical-align: top;\n",
              "    }\n",
              "\n",
              "    .dataframe thead th {\n",
              "        text-align: right;\n",
              "    }\n",
              "</style>\n",
              "<table border=\"1\" class=\"dataframe\">\n",
              "  <thead>\n",
              "    <tr style=\"text-align: right;\">\n",
              "      <th></th>\n",
              "      <th>Regularization</th>\n",
              "      <th>AtBat</th>\n",
              "      <th>Hits</th>\n",
              "      <th>HmRun</th>\n",
              "      <th>Runs</th>\n",
              "      <th>RBI</th>\n",
              "      <th>Walks</th>\n",
              "      <th>Years</th>\n",
              "      <th>CAtBat</th>\n",
              "      <th>CHits</th>\n",
              "      <th>CHmRun</th>\n",
              "      <th>CRuns</th>\n",
              "      <th>CRBI</th>\n",
              "      <th>CWalks</th>\n",
              "      <th>PutOuts</th>\n",
              "      <th>Assists</th>\n",
              "      <th>Errors</th>\n",
              "      <th>League_is_A</th>\n",
              "      <th>League_is_N</th>\n",
              "      <th>Division_is_E</th>\n",
              "      <th>Division_is_W</th>\n",
              "      <th>NewLeague_A</th>\n",
              "      <th>NewLeague_N</th>\n",
              "    </tr>\n",
              "  </thead>\n",
              "  <tbody>\n",
              "    <tr>\n",
              "      <th>0</th>\n",
              "      <td>No_regularization</td>\n",
              "      <td>0.390250</td>\n",
              "      <td>0.214528</td>\n",
              "      <td>0.568184</td>\n",
              "      <td>0.305595</td>\n",
              "      <td>0.010240</td>\n",
              "      <td>-0.206118</td>\n",
              "      <td>-0.276966</td>\n",
              "      <td>0.017626</td>\n",
              "      <td>0.285083</td>\n",
              "      <td>-0.338106</td>\n",
              "      <td>-0.266273</td>\n",
              "      <td>-0.126028</td>\n",
              "      <td>0.180565</td>\n",
              "      <td>0.272987</td>\n",
              "      <td>-0.063958</td>\n",
              "      <td>-0.045532</td>\n",
              "      <td>-0.083125</td>\n",
              "      <td>0.156283</td>\n",
              "      <td>0.143324</td>\n",
              "      <td>-0.231335</td>\n",
              "      <td>-0.570167</td>\n",
              "      <td>-0.001384</td>\n",
              "    </tr>\n",
              "    <tr>\n",
              "      <th>1</th>\n",
              "      <td>Lasso_regularization_with_lambda_0.01</td>\n",
              "      <td>0.241844</td>\n",
              "      <td>-0.404993</td>\n",
              "      <td>0.208728</td>\n",
              "      <td>-0.249900</td>\n",
              "      <td>-0.183130</td>\n",
              "      <td>-0.328507</td>\n",
              "      <td>-0.244332</td>\n",
              "      <td>0.176944</td>\n",
              "      <td>-0.212873</td>\n",
              "      <td>0.089696</td>\n",
              "      <td>0.077416</td>\n",
              "      <td>-0.167914</td>\n",
              "      <td>-0.284453</td>\n",
              "      <td>0.155785</td>\n",
              "      <td>0.559877</td>\n",
              "      <td>-0.425261</td>\n",
              "      <td>0.542868</td>\n",
              "      <td>-0.097495</td>\n",
              "      <td>0.495547</td>\n",
              "      <td>-0.539846</td>\n",
              "      <td>-0.563546</td>\n",
              "      <td>0.123231</td>\n",
              "    </tr>\n",
              "    <tr>\n",
              "      <th>2</th>\n",
              "      <td>Lasso_regularization_with_lambda_10</td>\n",
              "      <td>-0.000482</td>\n",
              "      <td>0.081434</td>\n",
              "      <td>0.483730</td>\n",
              "      <td>0.357202</td>\n",
              "      <td>0.492549</td>\n",
              "      <td>-0.507388</td>\n",
              "      <td>-0.034579</td>\n",
              "      <td>0.174752</td>\n",
              "      <td>-0.024274</td>\n",
              "      <td>0.004825</td>\n",
              "      <td>-0.302491</td>\n",
              "      <td>-0.225907</td>\n",
              "      <td>-0.177805</td>\n",
              "      <td>0.371901</td>\n",
              "      <td>0.529656</td>\n",
              "      <td>-0.373432</td>\n",
              "      <td>0.496611</td>\n",
              "      <td>0.427098</td>\n",
              "      <td>-0.368822</td>\n",
              "      <td>0.268862</td>\n",
              "      <td>-0.459543</td>\n",
              "      <td>0.091985</td>\n",
              "    </tr>\n",
              "    <tr>\n",
              "      <th>3</th>\n",
              "      <td>L2_regularization_with_lambda_0.01</td>\n",
              "      <td>0.258186</td>\n",
              "      <td>-0.209323</td>\n",
              "      <td>0.562637</td>\n",
              "      <td>-0.231431</td>\n",
              "      <td>0.149843</td>\n",
              "      <td>0.264473</td>\n",
              "      <td>-0.366433</td>\n",
              "      <td>0.037627</td>\n",
              "      <td>0.055796</td>\n",
              "      <td>0.270103</td>\n",
              "      <td>0.310441</td>\n",
              "      <td>-0.197822</td>\n",
              "      <td>-0.063602</td>\n",
              "      <td>0.125296</td>\n",
              "      <td>0.355860</td>\n",
              "      <td>-0.060391</td>\n",
              "      <td>-0.526241</td>\n",
              "      <td>-0.399940</td>\n",
              "      <td>0.090934</td>\n",
              "      <td>0.205936</td>\n",
              "      <td>-0.302434</td>\n",
              "      <td>0.148021</td>\n",
              "    </tr>\n",
              "    <tr>\n",
              "      <th>4</th>\n",
              "      <td>L2_regularization_with_lambda_10</td>\n",
              "      <td>0.211437</td>\n",
              "      <td>-0.177649</td>\n",
              "      <td>0.044697</td>\n",
              "      <td>0.273339</td>\n",
              "      <td>-0.013868</td>\n",
              "      <td>-0.081832</td>\n",
              "      <td>-0.340912</td>\n",
              "      <td>0.172433</td>\n",
              "      <td>-0.175199</td>\n",
              "      <td>0.330725</td>\n",
              "      <td>0.230636</td>\n",
              "      <td>-0.529644</td>\n",
              "      <td>-0.147643</td>\n",
              "      <td>0.001160</td>\n",
              "      <td>0.388441</td>\n",
              "      <td>-0.424002</td>\n",
              "      <td>0.441236</td>\n",
              "      <td>0.098279</td>\n",
              "      <td>0.271812</td>\n",
              "      <td>-0.333374</td>\n",
              "      <td>0.283166</td>\n",
              "      <td>-0.279962</td>\n",
              "    </tr>\n",
              "  </tbody>\n",
              "</table>\n",
              "</div>"
            ],
            "text/plain": [
              "                          Regularization     AtBat  ...  NewLeague_A  NewLeague_N\n",
              "0                      No_regularization  0.390250  ...    -0.570167    -0.001384\n",
              "1  Lasso_regularization_with_lambda_0.01  0.241844  ...    -0.563546     0.123231\n",
              "2    Lasso_regularization_with_lambda_10 -0.000482  ...    -0.459543     0.091985\n",
              "3     L2_regularization_with_lambda_0.01  0.258186  ...    -0.302434     0.148021\n",
              "4       L2_regularization_with_lambda_10  0.211437  ...     0.283166    -0.279962\n",
              "\n",
              "[5 rows x 23 columns]"
            ]
          },
          "metadata": {
            "tags": []
          },
          "execution_count": 9
        }
      ]
    }
  ]
}