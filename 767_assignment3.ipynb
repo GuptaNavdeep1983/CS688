{
  "nbformat": 4,
  "nbformat_minor": 0,
  "metadata": {
    "colab": {
      "name": "Untitled32.ipynb",
      "provenance": [],
      "authorship_tag": "ABX9TyPuspFEQ0xPU+G/wHfFs0Ar",
      "include_colab_link": true
    },
    "kernelspec": {
      "name": "python3",
      "display_name": "Python 3"
    },
    "language_info": {
      "name": "python"
    }
  },
  "cells": [
    {
      "cell_type": "markdown",
      "metadata": {
        "id": "view-in-github",
        "colab_type": "text"
      },
      "source": [
        "<a href=\"https://colab.research.google.com/github/GuptaNavdeep1983/CS688/blob/main/767_assignment3.ipynb\" target=\"_parent\"><img src=\"https://colab.research.google.com/assets/colab-badge.svg\" alt=\"Open In Colab\"/></a>"
      ]
    },
    {
      "cell_type": "code",
      "metadata": {
        "id": "niAs2D4dVasb"
      },
      "source": [
        "import pandas as pd\n",
        "import matplotlib.pyplot as plt\n",
        "import numpy as np\n",
        "import math\n",
        "import random\n",
        "from sklearn.preprocessing import OneHotEncoder"
      ],
      "execution_count": 72,
      "outputs": []
    },
    {
      "cell_type": "code",
      "metadata": {
        "id": "ZabgPKeeVpbc"
      },
      "source": [
        "df = pd.read_csv(\"./Assignment_3_Hitters.csv\")\n",
        "df.rename( columns={'Unnamed: 0':'hitter_name'}, inplace=True )\n",
        "\n",
        "# df = df.select_dtypes(include=np.number)\n",
        "# df.reset_index(drop=True)\n",
        "\n",
        "df = pd.get_dummies(df, columns=['League', 'Division', 'NewLeague'], prefix=[\"League_is\", \"Division_is\", \"NewLeague\"] )\n",
        "\n",
        "X_train = df.loc[~df.isnull().any(axis=1), ~df.columns.isin(['Salary', 'hitter_name'])]\n",
        "y_train = df.loc[~df.isnull().any(axis=1), ['Salary']]\n",
        "X_test = df.loc[df.isnull().any(axis=1), ~df.columns.isin(['Salary', 'hitter_name'])]\n"
      ],
      "execution_count": 88,
      "outputs": []
    },
    {
      "cell_type": "code",
      "metadata": {
        "id": "Wb9ySv7QcjH8",
        "outputId": "8dfd4b16-0acd-48b2-b4ce-191a5b5e50eb",
        "colab": {
          "base_uri": "https://localhost:8080/",
          "height": 420
        }
      },
      "source": [
        "X_train"
      ],
      "execution_count": 89,
      "outputs": [
        {
          "output_type": "execute_result",
          "data": {
            "text/html": [
              "<div>\n",
              "<style scoped>\n",
              "    .dataframe tbody tr th:only-of-type {\n",
              "        vertical-align: middle;\n",
              "    }\n",
              "\n",
              "    .dataframe tbody tr th {\n",
              "        vertical-align: top;\n",
              "    }\n",
              "\n",
              "    .dataframe thead th {\n",
              "        text-align: right;\n",
              "    }\n",
              "</style>\n",
              "<table border=\"1\" class=\"dataframe\">\n",
              "  <thead>\n",
              "    <tr style=\"text-align: right;\">\n",
              "      <th></th>\n",
              "      <th>AtBat</th>\n",
              "      <th>Hits</th>\n",
              "      <th>HmRun</th>\n",
              "      <th>Runs</th>\n",
              "      <th>RBI</th>\n",
              "      <th>Walks</th>\n",
              "      <th>Years</th>\n",
              "      <th>CAtBat</th>\n",
              "      <th>CHits</th>\n",
              "      <th>CHmRun</th>\n",
              "      <th>CRuns</th>\n",
              "      <th>CRBI</th>\n",
              "      <th>CWalks</th>\n",
              "      <th>PutOuts</th>\n",
              "      <th>Assists</th>\n",
              "      <th>Errors</th>\n",
              "      <th>League_is_A</th>\n",
              "      <th>League_is_N</th>\n",
              "      <th>Division_is_E</th>\n",
              "      <th>Division_is_W</th>\n",
              "      <th>NewLeague_A</th>\n",
              "      <th>NewLeague_N</th>\n",
              "    </tr>\n",
              "  </thead>\n",
              "  <tbody>\n",
              "    <tr>\n",
              "      <th>1</th>\n",
              "      <td>315</td>\n",
              "      <td>81</td>\n",
              "      <td>7</td>\n",
              "      <td>24</td>\n",
              "      <td>38</td>\n",
              "      <td>39</td>\n",
              "      <td>14</td>\n",
              "      <td>3449</td>\n",
              "      <td>835</td>\n",
              "      <td>69</td>\n",
              "      <td>321</td>\n",
              "      <td>414</td>\n",
              "      <td>375</td>\n",
              "      <td>632</td>\n",
              "      <td>43</td>\n",
              "      <td>10</td>\n",
              "      <td>0</td>\n",
              "      <td>1</td>\n",
              "      <td>0</td>\n",
              "      <td>1</td>\n",
              "      <td>0</td>\n",
              "      <td>1</td>\n",
              "    </tr>\n",
              "    <tr>\n",
              "      <th>2</th>\n",
              "      <td>479</td>\n",
              "      <td>130</td>\n",
              "      <td>18</td>\n",
              "      <td>66</td>\n",
              "      <td>72</td>\n",
              "      <td>76</td>\n",
              "      <td>3</td>\n",
              "      <td>1624</td>\n",
              "      <td>457</td>\n",
              "      <td>63</td>\n",
              "      <td>224</td>\n",
              "      <td>266</td>\n",
              "      <td>263</td>\n",
              "      <td>880</td>\n",
              "      <td>82</td>\n",
              "      <td>14</td>\n",
              "      <td>1</td>\n",
              "      <td>0</td>\n",
              "      <td>0</td>\n",
              "      <td>1</td>\n",
              "      <td>1</td>\n",
              "      <td>0</td>\n",
              "    </tr>\n",
              "    <tr>\n",
              "      <th>3</th>\n",
              "      <td>496</td>\n",
              "      <td>141</td>\n",
              "      <td>20</td>\n",
              "      <td>65</td>\n",
              "      <td>78</td>\n",
              "      <td>37</td>\n",
              "      <td>11</td>\n",
              "      <td>5628</td>\n",
              "      <td>1575</td>\n",
              "      <td>225</td>\n",
              "      <td>828</td>\n",
              "      <td>838</td>\n",
              "      <td>354</td>\n",
              "      <td>200</td>\n",
              "      <td>11</td>\n",
              "      <td>3</td>\n",
              "      <td>0</td>\n",
              "      <td>1</td>\n",
              "      <td>1</td>\n",
              "      <td>0</td>\n",
              "      <td>0</td>\n",
              "      <td>1</td>\n",
              "    </tr>\n",
              "    <tr>\n",
              "      <th>4</th>\n",
              "      <td>321</td>\n",
              "      <td>87</td>\n",
              "      <td>10</td>\n",
              "      <td>39</td>\n",
              "      <td>42</td>\n",
              "      <td>30</td>\n",
              "      <td>2</td>\n",
              "      <td>396</td>\n",
              "      <td>101</td>\n",
              "      <td>12</td>\n",
              "      <td>48</td>\n",
              "      <td>46</td>\n",
              "      <td>33</td>\n",
              "      <td>805</td>\n",
              "      <td>40</td>\n",
              "      <td>4</td>\n",
              "      <td>0</td>\n",
              "      <td>1</td>\n",
              "      <td>1</td>\n",
              "      <td>0</td>\n",
              "      <td>0</td>\n",
              "      <td>1</td>\n",
              "    </tr>\n",
              "    <tr>\n",
              "      <th>5</th>\n",
              "      <td>594</td>\n",
              "      <td>169</td>\n",
              "      <td>4</td>\n",
              "      <td>74</td>\n",
              "      <td>51</td>\n",
              "      <td>35</td>\n",
              "      <td>11</td>\n",
              "      <td>4408</td>\n",
              "      <td>1133</td>\n",
              "      <td>19</td>\n",
              "      <td>501</td>\n",
              "      <td>336</td>\n",
              "      <td>194</td>\n",
              "      <td>282</td>\n",
              "      <td>421</td>\n",
              "      <td>25</td>\n",
              "      <td>1</td>\n",
              "      <td>0</td>\n",
              "      <td>0</td>\n",
              "      <td>1</td>\n",
              "      <td>1</td>\n",
              "      <td>0</td>\n",
              "    </tr>\n",
              "    <tr>\n",
              "      <th>...</th>\n",
              "      <td>...</td>\n",
              "      <td>...</td>\n",
              "      <td>...</td>\n",
              "      <td>...</td>\n",
              "      <td>...</td>\n",
              "      <td>...</td>\n",
              "      <td>...</td>\n",
              "      <td>...</td>\n",
              "      <td>...</td>\n",
              "      <td>...</td>\n",
              "      <td>...</td>\n",
              "      <td>...</td>\n",
              "      <td>...</td>\n",
              "      <td>...</td>\n",
              "      <td>...</td>\n",
              "      <td>...</td>\n",
              "      <td>...</td>\n",
              "      <td>...</td>\n",
              "      <td>...</td>\n",
              "      <td>...</td>\n",
              "      <td>...</td>\n",
              "      <td>...</td>\n",
              "    </tr>\n",
              "    <tr>\n",
              "      <th>317</th>\n",
              "      <td>497</td>\n",
              "      <td>127</td>\n",
              "      <td>7</td>\n",
              "      <td>65</td>\n",
              "      <td>48</td>\n",
              "      <td>37</td>\n",
              "      <td>5</td>\n",
              "      <td>2703</td>\n",
              "      <td>806</td>\n",
              "      <td>32</td>\n",
              "      <td>379</td>\n",
              "      <td>311</td>\n",
              "      <td>138</td>\n",
              "      <td>325</td>\n",
              "      <td>9</td>\n",
              "      <td>3</td>\n",
              "      <td>0</td>\n",
              "      <td>1</td>\n",
              "      <td>1</td>\n",
              "      <td>0</td>\n",
              "      <td>0</td>\n",
              "      <td>1</td>\n",
              "    </tr>\n",
              "    <tr>\n",
              "      <th>318</th>\n",
              "      <td>492</td>\n",
              "      <td>136</td>\n",
              "      <td>5</td>\n",
              "      <td>76</td>\n",
              "      <td>50</td>\n",
              "      <td>94</td>\n",
              "      <td>12</td>\n",
              "      <td>5511</td>\n",
              "      <td>1511</td>\n",
              "      <td>39</td>\n",
              "      <td>897</td>\n",
              "      <td>451</td>\n",
              "      <td>875</td>\n",
              "      <td>313</td>\n",
              "      <td>381</td>\n",
              "      <td>20</td>\n",
              "      <td>1</td>\n",
              "      <td>0</td>\n",
              "      <td>1</td>\n",
              "      <td>0</td>\n",
              "      <td>1</td>\n",
              "      <td>0</td>\n",
              "    </tr>\n",
              "    <tr>\n",
              "      <th>319</th>\n",
              "      <td>475</td>\n",
              "      <td>126</td>\n",
              "      <td>3</td>\n",
              "      <td>61</td>\n",
              "      <td>43</td>\n",
              "      <td>52</td>\n",
              "      <td>6</td>\n",
              "      <td>1700</td>\n",
              "      <td>433</td>\n",
              "      <td>7</td>\n",
              "      <td>217</td>\n",
              "      <td>93</td>\n",
              "      <td>146</td>\n",
              "      <td>37</td>\n",
              "      <td>113</td>\n",
              "      <td>7</td>\n",
              "      <td>1</td>\n",
              "      <td>0</td>\n",
              "      <td>0</td>\n",
              "      <td>1</td>\n",
              "      <td>1</td>\n",
              "      <td>0</td>\n",
              "    </tr>\n",
              "    <tr>\n",
              "      <th>320</th>\n",
              "      <td>573</td>\n",
              "      <td>144</td>\n",
              "      <td>9</td>\n",
              "      <td>85</td>\n",
              "      <td>60</td>\n",
              "      <td>78</td>\n",
              "      <td>8</td>\n",
              "      <td>3198</td>\n",
              "      <td>857</td>\n",
              "      <td>97</td>\n",
              "      <td>470</td>\n",
              "      <td>420</td>\n",
              "      <td>332</td>\n",
              "      <td>1314</td>\n",
              "      <td>131</td>\n",
              "      <td>12</td>\n",
              "      <td>1</td>\n",
              "      <td>0</td>\n",
              "      <td>1</td>\n",
              "      <td>0</td>\n",
              "      <td>1</td>\n",
              "      <td>0</td>\n",
              "    </tr>\n",
              "    <tr>\n",
              "      <th>321</th>\n",
              "      <td>631</td>\n",
              "      <td>170</td>\n",
              "      <td>9</td>\n",
              "      <td>77</td>\n",
              "      <td>44</td>\n",
              "      <td>31</td>\n",
              "      <td>11</td>\n",
              "      <td>4908</td>\n",
              "      <td>1457</td>\n",
              "      <td>30</td>\n",
              "      <td>775</td>\n",
              "      <td>357</td>\n",
              "      <td>249</td>\n",
              "      <td>408</td>\n",
              "      <td>4</td>\n",
              "      <td>3</td>\n",
              "      <td>1</td>\n",
              "      <td>0</td>\n",
              "      <td>0</td>\n",
              "      <td>1</td>\n",
              "      <td>1</td>\n",
              "      <td>0</td>\n",
              "    </tr>\n",
              "  </tbody>\n",
              "</table>\n",
              "<p>263 rows × 22 columns</p>\n",
              "</div>"
            ],
            "text/plain": [
              "     AtBat  Hits  HmRun  ...  Division_is_W  NewLeague_A  NewLeague_N\n",
              "1      315    81      7  ...              1            0            1\n",
              "2      479   130     18  ...              1            1            0\n",
              "3      496   141     20  ...              0            0            1\n",
              "4      321    87     10  ...              0            0            1\n",
              "5      594   169      4  ...              1            1            0\n",
              "..     ...   ...    ...  ...            ...          ...          ...\n",
              "317    497   127      7  ...              0            0            1\n",
              "318    492   136      5  ...              0            1            0\n",
              "319    475   126      3  ...              1            1            0\n",
              "320    573   144      9  ...              0            1            0\n",
              "321    631   170      9  ...              1            1            0\n",
              "\n",
              "[263 rows x 22 columns]"
            ]
          },
          "metadata": {
            "tags": []
          },
          "execution_count": 89
        }
      ]
    },
    {
      "cell_type": "code",
      "metadata": {
        "id": "QKKJyutQYRtK"
      },
      "source": [
        "from enum import Enum\n",
        "class Regularization(Enum):\n",
        "     L2 = 1\n",
        "     Lasso = 2"
      ],
      "execution_count": 90,
      "outputs": []
    },
    {
      "cell_type": "code",
      "metadata": {
        "id": "GlyUXkZsZz3M"
      },
      "source": [
        "def predict(row, weights, bias):\n",
        "  output = bias\n",
        "  for index, weight in enumerate(weights):\n",
        "    output += weight * row[index]\n",
        "  return output if output > 0.0 else output * 0.05\n",
        "\n",
        "def lasso_regularization(weights, lambda_val):\n",
        "  return sum([abs(weight) for weight in weights]) * lambda_val\n",
        "def l2_regularization(weights, lambda_val):\n",
        "  return sum([weight**2 for weight in weights]) * (lambda_val/2)\n",
        "\n",
        "def choose_regularzation(regularization, weights, lambda_val):\n",
        "  if regularization == Regularization.L2:\n",
        "    return l2_regularization(weights, lambda_val)\n",
        "  else:\n",
        "    return lasso_regularization(weights, lambda_val)\n",
        "\n",
        "def train_weights_using_batch_gradient_descent(X_train, y_train, num_epochs, learning_rate, lambda_val, regularization_component, alpha_val=0.9, batch_size=12, ):\n",
        "  # weights for all the features \n",
        "  weights = [random.uniform(-2,2)* math.sqrt(2/16) for i in range(16)]\n",
        "  bias = 0\n",
        "  index = 0\n",
        "  plot_values = []\n",
        "  while index < num_epochs:\n",
        "    mse = 0.0\n",
        "    total_weights = 0.0\n",
        "    total_gradient = [0 for _ in range(16)]\n",
        "    mini_batch = X_train.sample(n = batch_size, random_state=42)\n",
        "    regularization = choose_regularzation(regularization_component, weights, lambda_val)\n",
        "    for rowIndex, row in mini_batch.iterrows():\n",
        "      predicted_value = predict(row, weights, bias)\n",
        "      error = (y_train.loc[rowIndex,'Salary'] - predicted_value)\n",
        "      error_with_regularization = error + regularization\n",
        "      mse += error**2\n",
        "      mse_with_regularization = mse + regularization\n",
        "      total_gradient = [gradient + (error_with_regularization * row[gradient_index]) for gradient_index, gradient in enumerate(total_gradient)] \n",
        "    total_gradient = [(alpha_val * gradient) + gradient for gradient in total_gradient] \n",
        "    bias = bias + learning_rate * (mse_with_regularization/mini_batch.shape[0])\n",
        "    weights = [weight + learning_rate * (total_gradient[weight_index]/mini_batch.shape[0]) for weight_index, weight in enumerate(weights)]\n",
        "    index = index + 1\n",
        "    plot_values.append((index, mse_with_regularization/mini_batch.shape[0]))\n",
        "    print('>epoch=%d, lrate=%.3f, error=%.3f' % (index, learning_rate, mse_with_regularization/mini_batch.shape[0]))\n",
        "  df_plot_values = pd.DataFrame(plot_values, columns=['epoch', 'MSE'])\n",
        "  return weights, bias, df_plot_values"
      ],
      "execution_count": 115,
      "outputs": []
    },
    {
      "cell_type": "code",
      "metadata": {
        "id": "hLssk9KQEs4i"
      },
      "source": [
        "(weights, bias, df_plot_values) = train_weights_using_batch_gradient_descent(X_train, y_train, 2000, 0.00000001, 0.01, Regularization.Lasso, 5)"
      ],
      "execution_count": null,
      "outputs": []
    },
    {
      "cell_type": "code",
      "metadata": {
        "colab": {
          "base_uri": "https://localhost:8080/",
          "height": 312
        },
        "id": "_FSCjzUdGG5p",
        "outputId": "16508a4d-f921-4fdc-f025-6026e7da8349"
      },
      "source": [
        "plt.plot(df_plot_values['epoch'], df_plot_values['MSE'], marker='o', color='blue')\n",
        "plt.title(\"MSE against iteration for Lasso regularization\")\n",
        "plt.xlabel(\"Iterations\")\n",
        "plt.ylabel(\"MSE with regularization\")"
      ],
      "execution_count": 119,
      "outputs": [
        {
          "output_type": "execute_result",
          "data": {
            "text/plain": [
              "Text(0, 0.5, 'MSE with regularization')"
            ]
          },
          "metadata": {
            "tags": []
          },
          "execution_count": 119
        },
        {
          "output_type": "display_data",
          "data": {
            "image/png": "[encoded data removed]",
            "text/plain": [
              "<Figure size 432x288 with 1 Axes>"
            ]
          },
          "metadata": {
            "tags": [],
            "needs_background": "light"
          }
        }
      ]
    },
    {
      "cell_type": "code",
      "metadata": {
        "id": "jyQzJn2_aSjB"
      },
      "source": [
        "(weights, bias, df_plot_values) = train_weights_using_batch_gradient_descent(X_train, y_train, 2000, 0.00000001, 0.01, Regularization.L2, 5)"
      ],
      "execution_count": null,
      "outputs": []
    },
    {
      "cell_type": "code",
      "metadata": {
        "id": "58fKsAaFafMf",
        "outputId": "3b44983e-99a2-4a4f-ccfd-be2c5f91fe8f",
        "colab": {
          "base_uri": "https://localhost:8080/",
          "height": 312
        }
      },
      "source": [
        "plt.plot(df_plot_values['epoch'], df_plot_values['MSE'], marker='o', color='blue')\n",
        "plt.title(\"MSE against iteration for L2 regularization\")\n",
        "plt.xlabel(\"Iterations\")\n",
        "plt.ylabel(\"MSE with regularization\")"
      ],
      "execution_count": 120,
      "outputs": [
        {
          "output_type": "execute_result",
          "data": {
            "text/plain": [
              "Text(0, 0.5, 'MSE with regularization')"
            ]
          },
          "metadata": {
            "tags": []
          },
          "execution_count": 120
        },
        {
          "output_type": "display_data",
          "data": {
            "image/png": "[encoded data removed]",
            "text/plain": [
              "<Figure size 432x288 with 1 Axes>"
            ]
          },
          "metadata": {
            "tags": [],
            "needs_background": "light"
          }
        }
      ]
    }
  ]
}