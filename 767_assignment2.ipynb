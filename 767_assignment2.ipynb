{
  "nbformat": 4,
  "nbformat_minor": 0,
  "metadata": {
    "colab": {
      "name": "767_assignment2.ipynb",
      "provenance": [],
      "collapsed_sections": [],
      "authorship_tag": "ABX9TyMAiBRehswoBBgrGaghHxrt",
      "include_colab_link": true
    },
    "kernelspec": {
      "name": "python3",
      "display_name": "Python 3"
    },
    "language_info": {
      "name": "python"
    }
  },
  "cells": [
    {
      "cell_type": "markdown",
      "metadata": {
        "id": "view-in-github",
        "colab_type": "text"
      },
      "source": [
        "<a href=\"https://colab.research.google.com/github/GuptaNavdeep1983/CS688/blob/main/767_assignment2.ipynb\" target=\"_parent\"><img src=\"https://colab.research.google.com/assets/colab-badge.svg\" alt=\"Open In Colab\"/></a>"
      ]
    },
    {
      "cell_type": "code",
      "metadata": {
        "id": "wHow5hxPp1T7"
      },
      "source": [
        "from sklearn.datasets import load_iris\n",
        "import matplotlib.pyplot as plt\n",
        "import pandas as pd\n",
        "pd.options.mode.chained_assignment = None\n",
        "import numpy as np"
      ],
      "execution_count": 42,
      "outputs": []
    },
    {
      "cell_type": "code",
      "metadata": {
        "id": "xkAC-EBup87H"
      },
      "source": [
        "iris = load_iris()\n",
        "\n",
        "iris_columns = ['sepal_len', 'sepal_width', 'petal_length', 'petal_width', 'target']\n",
        "df = pd.DataFrame(data= np.c_[iris['data'], iris['target']],\n",
        "                     columns= iris_columns)\n",
        "\n",
        "df.loc[df['target'] != 0,'target'] = 1"
      ],
      "execution_count": 3,
      "outputs": []
    },
    {
      "cell_type": "code",
      "metadata": {
        "id": "s8qGyOfOBitl"
      },
      "source": [
        "from sklearn.model_selection import train_test_split\n",
        "X = df[['sepal_len', 'sepal_width', 'petal_length', 'petal_width']]\n",
        "y = df[['target']]\n",
        "X_train, X_test, y_train, y_test = train_test_split(X, y, \n",
        "                                                    test_size=0.2,\n",
        "                                                    random_state = 10)\n",
        "X_train"
      ],
      "execution_count": null,
      "outputs": []
    },
    {
      "cell_type": "code",
      "metadata": {
        "colab": {
          "base_uri": "https://localhost:8080/"
        },
        "id": "Dbhlbfpkr1DI",
        "outputId": "9db76823-7226-4848-9f40-48f2b6f4173f"
      },
      "source": [
        "def predict(row, weights, bias):\n",
        "  output = bias\n",
        "  for index, weight in enumerate(weights):\n",
        "    output += weight * row[index]\n",
        "  return 1.0 if output > 0.0 else 0.0 \n",
        "\n",
        "def train_weights_using_batch_gradient_descent(X_train, y_train, num_epochs, learning_rate):\n",
        "  # weights for all the features \n",
        "  weights = [0,0,0,0]\n",
        "  bias = 0\n",
        "  index = 0\n",
        "  df_plot = []\n",
        "  while index < num_epochs:\n",
        "    mse = 0.0\n",
        "    total_gradient = weights\n",
        "    for rowIndex, row in X_train.iterrows():\n",
        "      predicted_value = predict(row, weights, bias)\n",
        "      error = y_train.loc[rowIndex,'target'] - predicted_value\n",
        "      mse += error**2\n",
        "      total_gradient = [weight + (error * row[weight_index]) for weight_index, weight in enumerate(total_gradient)] \n",
        "    bias = bias + learning_rate * (mse/X_train.shape[0])\n",
        "    weights = [weight + learning_rate * (total_gradient[weight_index]/X_train.shape[0]) for weight_index, weight in enumerate(weights)]\n",
        "    print('>epoch=%d, lrate=%.3f, error=%.3f' % (index, learning_rate, mse/X_train.shape[0]))\n",
        "    df_plot.append({mse/X_train.shape[0], index, weights[1], weights[2]})\n",
        "    index = index + 1\n",
        "  df_plot = pd.DataFrame(df_plot, columns=['mse', 'epoch', 'sepal_width', 'petal_length'])\n",
        "  return weights, bias, df_plot\n",
        "\n",
        "(weights_using_batch_gradient_descent, bias_using_batch_gradient_descent, df_plot) = train_weights_using_batch_gradient_descent(X_train, y_train, 50, 0.1)\n",
        "\n",
        "print(weights_using_batch_gradient_descent)"
      ],
      "execution_count": 73,
      "outputs": [
        {
          "output_type": "stream",
          "text": [
            ">epoch=0, lrate=0.100, error=0.667\n",
            ">epoch=1, lrate=0.100, error=0.333\n",
            ">epoch=2, lrate=0.100, error=0.333\n",
            ">epoch=3, lrate=0.100, error=0.333\n",
            ">epoch=4, lrate=0.100, error=0.000\n",
            ">epoch=5, lrate=0.100, error=0.000\n",
            ">epoch=6, lrate=0.100, error=0.000\n",
            ">epoch=7, lrate=0.100, error=0.000\n",
            ">epoch=8, lrate=0.100, error=0.000\n",
            ">epoch=9, lrate=0.100, error=0.000\n",
            ">epoch=10, lrate=0.100, error=0.000\n",
            ">epoch=11, lrate=0.100, error=0.000\n",
            ">epoch=12, lrate=0.100, error=0.000\n",
            ">epoch=13, lrate=0.100, error=0.000\n",
            ">epoch=14, lrate=0.100, error=0.000\n",
            ">epoch=15, lrate=0.100, error=0.000\n",
            ">epoch=16, lrate=0.100, error=0.000\n",
            ">epoch=17, lrate=0.100, error=0.000\n",
            ">epoch=18, lrate=0.100, error=0.000\n",
            ">epoch=19, lrate=0.100, error=0.000\n",
            ">epoch=20, lrate=0.100, error=0.000\n",
            ">epoch=21, lrate=0.100, error=0.000\n",
            ">epoch=22, lrate=0.100, error=0.000\n",
            ">epoch=23, lrate=0.100, error=0.000\n",
            ">epoch=24, lrate=0.100, error=0.000\n",
            ">epoch=25, lrate=0.100, error=0.000\n",
            ">epoch=26, lrate=0.100, error=0.000\n",
            ">epoch=27, lrate=0.100, error=0.000\n",
            ">epoch=28, lrate=0.100, error=0.000\n",
            ">epoch=29, lrate=0.100, error=0.000\n",
            ">epoch=30, lrate=0.100, error=0.000\n",
            ">epoch=31, lrate=0.100, error=0.000\n",
            ">epoch=32, lrate=0.100, error=0.000\n",
            ">epoch=33, lrate=0.100, error=0.000\n",
            ">epoch=34, lrate=0.100, error=0.000\n",
            ">epoch=35, lrate=0.100, error=0.000\n",
            ">epoch=36, lrate=0.100, error=0.000\n",
            ">epoch=37, lrate=0.100, error=0.000\n",
            ">epoch=38, lrate=0.100, error=0.000\n",
            ">epoch=39, lrate=0.100, error=0.000\n",
            ">epoch=40, lrate=0.100, error=0.000\n",
            ">epoch=41, lrate=0.100, error=0.000\n",
            ">epoch=42, lrate=0.100, error=0.000\n",
            ">epoch=43, lrate=0.100, error=0.000\n",
            ">epoch=44, lrate=0.100, error=0.000\n",
            ">epoch=45, lrate=0.100, error=0.000\n",
            ">epoch=46, lrate=0.100, error=0.000\n",
            ">epoch=47, lrate=0.100, error=0.000\n",
            ">epoch=48, lrate=0.100, error=0.000\n",
            ">epoch=49, lrate=0.100, error=0.000\n",
            "[-0.08489308908089532, -0.15747519725974413, 0.19061749083062487, 0.09223032002709906]\n"
          ],
          "name": "stdout"
        }
      ]
    },
    {
      "cell_type": "code",
      "metadata": {
        "colab": {
          "base_uri": "https://localhost:8080/",
          "height": 287
        },
        "id": "NfzUDMSxVDIx",
        "outputId": "656da608-611b-4344-a601-235b54b54504"
      },
      "source": [
        "plt.plot(df_plot['epoch'], df_plot['mse'])"
      ],
      "execution_count": 67,
      "outputs": [
        {
          "output_type": "execute_result",
          "data": {
            "text/plain": [
              "[<matplotlib.lines.Line2D at 0x7f0b99404f10>]"
            ]
          },
          "metadata": {
            "tags": []
          },
          "execution_count": 67
        },
        {
          "output_type": "display_data",
          "data": {
            "image/png": "[encoded data removed]",
            "text/plain": [
              "<Figure size 432x288 with 1 Axes>"
            ]
          },
          "metadata": {
            "tags": [],
            "needs_background": "light"
          }
        }
      ]
    },
    {
      "cell_type": "code",
      "metadata": {
        "colab": {
          "base_uri": "https://localhost:8080/",
          "height": 287
        },
        "id": "p4biV51Uyif4",
        "outputId": "ffccd469-22fe-4004-f733-c0c690a9d000"
      },
      "source": [
        "df_plot.sort_values(by=['2'], ascending=False)\n",
        "plt.plot(df_plot['sepal_width'] + df_plot['petal_length'], df_plot['mse'])"
      ],
      "execution_count": 75,
      "outputs": [
        {
          "output_type": "execute_result",
          "data": {
            "text/plain": [
              "[<matplotlib.lines.Line2D at 0x7f0b992bbc10>]"
            ]
          },
          "metadata": {
            "tags": []
          },
          "execution_count": 75
        },
        {
          "output_type": "display_data",
          "data": {
            "image/png": "[encoded data removed]",
            "text/plain": [
              "<Figure size 432x288 with 1 Axes>"
            ]
          },
          "metadata": {
            "tags": [],
            "needs_background": "light"
          }
        }
      ]
    },
    {
      "cell_type": "code",
      "metadata": {
        "colab": {
          "base_uri": "https://localhost:8080/"
        },
        "id": "UkQoHcJGWjcn",
        "outputId": "3ca545c3-91af-4365-cfe1-d6ed206db0d1"
      },
      "source": [
        "def test_model(X_test, y_test, weights, bias):\n",
        "  y_test['predicted'] = 0.0\n",
        "  for rowIndex, row in X_test.iterrows():\n",
        "    y_test.loc[rowIndex, 'predicted'] = predict(row, weights, bias)\n",
        "  print(sum(y_test['predicted'] == y_test['target']))\n",
        "\n",
        "test_model(X_test, y_test, weights_using_batch_gradient_descent, bias_using_batch_gradient_descent)"
      ],
      "execution_count": 68,
      "outputs": [
        {
          "output_type": "stream",
          "text": [
            "30\n"
          ],
          "name": "stdout"
        }
      ]
    },
    {
      "cell_type": "code",
      "metadata": {
        "colab": {
          "base_uri": "https://localhost:8080/"
        },
        "id": "IAhcMwsIH1SM",
        "outputId": "2372f740-5368-4620-fc3f-b0dd3cb80c70"
      },
      "source": [
        "def train_weights_using_mini_batch_gradient_descent(X_train, y_train, batch_size, num_epochs, learning_rate):\n",
        "  # weights for all the features \n",
        "  weights = [0,0,0,0]\n",
        "  bias = 0\n",
        "  index = 0;\n",
        "  df_plot = []\n",
        "  while index < num_epochs:\n",
        "    mse = 0.0\n",
        "    total_gradient = weights\n",
        "    mini_batch = X_train.sample(n = batch_size, random_state=42)\n",
        "    for rowIndex, row in mini_batch.iterrows():\n",
        "      predicted_value = predict(row, weights, bias)\n",
        "      error = y_train.loc[rowIndex,'target'] - predicted_value\n",
        "      mse += error**2\n",
        "      total_gradient = [weight + (error * row[weight_index]) for weight_index, weight in enumerate(total_gradient)] \n",
        "    bias = bias + learning_rate * (mse/mini_batch.shape[0])\n",
        "    weights = [weight + learning_rate * (total_gradient[weight_index]/mini_batch.shape[0]) for weight_index, weight in enumerate(weights)]\n",
        "    print('>epoch=%d, lrate=%.3f, error=%.3f' % (index, learning_rate, mse/mini_batch.shape[0]))\n",
        "    df_plot.append({mse/mini_batch.shape[0], index})\n",
        "    index = index + 1\n",
        "  df_plot = pd.DataFrame(df_plot, columns=['mse', 'epoch'])\n",
        "  return weights, bias, df_plot\n",
        "\n",
        "(weights_using_mini_batch_gradient_descent, bias_using_mini_batch_gradient_descent, df_plot) = \\\n",
        "  train_weights_using_mini_batch_gradient_descent(X_train, y_train, 12, 50, 0.1)\n",
        "print(weights_using_mini_batch_gradient_descent)"
      ],
      "execution_count": 69,
      "outputs": [
        {
          "output_type": "stream",
          "text": [
            ">epoch=0, lrate=0.100, error=0.417\n",
            ">epoch=1, lrate=0.100, error=0.583\n",
            ">epoch=2, lrate=0.100, error=0.000\n",
            ">epoch=3, lrate=0.100, error=0.000\n",
            ">epoch=4, lrate=0.100, error=0.000\n",
            ">epoch=5, lrate=0.100, error=0.000\n",
            ">epoch=6, lrate=0.100, error=0.000\n",
            ">epoch=7, lrate=0.100, error=0.000\n",
            ">epoch=8, lrate=0.100, error=0.000\n",
            ">epoch=9, lrate=0.100, error=0.000\n",
            ">epoch=10, lrate=0.100, error=0.000\n",
            ">epoch=11, lrate=0.100, error=0.000\n",
            ">epoch=12, lrate=0.100, error=0.000\n",
            ">epoch=13, lrate=0.100, error=0.000\n",
            ">epoch=14, lrate=0.100, error=0.000\n",
            ">epoch=15, lrate=0.100, error=0.000\n",
            ">epoch=16, lrate=0.100, error=0.000\n",
            ">epoch=17, lrate=0.100, error=0.000\n",
            ">epoch=18, lrate=0.100, error=0.000\n",
            ">epoch=19, lrate=0.100, error=0.000\n",
            ">epoch=20, lrate=0.100, error=0.000\n",
            ">epoch=21, lrate=0.100, error=0.000\n",
            ">epoch=22, lrate=0.100, error=0.000\n",
            ">epoch=23, lrate=0.100, error=0.000\n",
            ">epoch=24, lrate=0.100, error=0.000\n",
            ">epoch=25, lrate=0.100, error=0.000\n",
            ">epoch=26, lrate=0.100, error=0.000\n",
            ">epoch=27, lrate=0.100, error=0.000\n",
            ">epoch=28, lrate=0.100, error=0.000\n",
            ">epoch=29, lrate=0.100, error=0.000\n",
            ">epoch=30, lrate=0.100, error=0.000\n",
            ">epoch=31, lrate=0.100, error=0.000\n",
            ">epoch=32, lrate=0.100, error=0.000\n",
            ">epoch=33, lrate=0.100, error=0.000\n",
            ">epoch=34, lrate=0.100, error=0.000\n",
            ">epoch=35, lrate=0.100, error=0.000\n",
            ">epoch=36, lrate=0.100, error=0.000\n",
            ">epoch=37, lrate=0.100, error=0.000\n",
            ">epoch=38, lrate=0.100, error=0.000\n",
            ">epoch=39, lrate=0.100, error=0.000\n",
            ">epoch=40, lrate=0.100, error=0.000\n",
            ">epoch=41, lrate=0.100, error=0.000\n",
            ">epoch=42, lrate=0.100, error=0.000\n",
            ">epoch=43, lrate=0.100, error=0.000\n",
            ">epoch=44, lrate=0.100, error=0.000\n",
            ">epoch=45, lrate=0.100, error=0.000\n",
            ">epoch=46, lrate=0.100, error=0.000\n",
            ">epoch=47, lrate=0.100, error=0.000\n",
            ">epoch=48, lrate=0.100, error=0.000\n",
            ">epoch=49, lrate=0.100, error=0.000\n",
            "[-0.047607617471449856, -0.1400509989530528, 0.1938022020812572, 0.0903127777016511]\n"
          ],
          "name": "stdout"
        }
      ]
    },
    {
      "cell_type": "code",
      "metadata": {
        "colab": {
          "base_uri": "https://localhost:8080/"
        },
        "id": "MRduMlbxJRmU",
        "outputId": "204baa9f-d280-4fb6-9ead-9cb3b9d9c7e7"
      },
      "source": [
        "def test_model(X_test, y_test, weights, bias):\n",
        "  y_test['predicted'] = 0.0\n",
        "  for rowIndex, row in X_test.iterrows():\n",
        "    y_test.loc[rowIndex, 'predicted'] = predict(row, weights, bias)\n",
        "  print(sum(y_test['predicted'] == y_test['target']))\n",
        "\n",
        "test_model(X_test, y_test, weights_using_mini_batch_gradient_descent, bias_using_mini_batch_gradient_descent)"
      ],
      "execution_count": 70,
      "outputs": [
        {
          "output_type": "stream",
          "text": [
            "30\n"
          ],
          "name": "stdout"
        }
      ]
    },
    {
      "cell_type": "code",
      "metadata": {
        "colab": {
          "base_uri": "https://localhost:8080/",
          "height": 283
        },
        "id": "lShw74hUXakS",
        "outputId": "52f68825-f11f-4ad9-d954-87876c0c295b"
      },
      "source": [
        "plt.plot(df_plot['epoch'], df_plot['mse'])"
      ],
      "execution_count": 71,
      "outputs": [
        {
          "output_type": "execute_result",
          "data": {
            "text/plain": [
              "[<matplotlib.lines.Line2D at 0x7f0b9937a890>]"
            ]
          },
          "metadata": {
            "tags": []
          },
          "execution_count": 71
        },
        {
          "output_type": "display_data",
          "data": {
            "image/png": "[encoded data removed]",
            "text/plain": [
              "<Figure size 432x288 with 1 Axes>"
            ]
          },
          "metadata": {
            "tags": [],
            "needs_background": "light"
          }
        }
      ]
    }
  ]
}