{
  "nbformat": 4,
  "nbformat_minor": 0,
  "metadata": {
    "colab": {
      "name": "767_assignment2.ipynb",
      "provenance": [],
      "collapsed_sections": [],
      "authorship_tag": "ABX9TyP5ahMQUU3SEPOWmAEs4dy5",
      "include_colab_link": true
    },
    "kernelspec": {
      "name": "python3",
      "display_name": "Python 3"
    },
    "language_info": {
      "name": "python"
    }
  },
  "cells": [
    {
      "cell_type": "markdown",
      "metadata": {
        "id": "view-in-github",
        "colab_type": "text"
      },
      "source": [
        "<a href=\"https://colab.research.google.com/github/GuptaNavdeep1983/CS688/blob/main/767_assignment2.ipynb\" target=\"_parent\"><img src=\"https://colab.research.google.com/assets/colab-badge.svg\" alt=\"Open In Colab\"/></a>"
      ]
    },
    {
      "cell_type": "code",
      "metadata": {
        "id": "wHow5hxPp1T7"
      },
      "source": [
        "from sklearn.datasets import load_iris\n",
        "import matplotlib.pyplot as plt\n",
        "import pandas as pd\n",
        "pd.options.mode.chained_assignment = None\n",
        "import numpy as np"
      ],
      "execution_count": 1,
      "outputs": []
    },
    {
      "cell_type": "code",
      "metadata": {
        "id": "xkAC-EBup87H"
      },
      "source": [
        "iris = load_iris()\n",
        "\n",
        "iris_columns = ['sepal_len', 'sepal_width', 'petal_length', 'petal_width', 'target']\n",
        "df = pd.DataFrame(data= np.c_[iris['data'], iris['target']],\n",
        "                     columns= iris_columns)\n",
        "\n",
        "df.loc[df['target'] != 0,'target'] = 1"
      ],
      "execution_count": 2,
      "outputs": []
    },
    {
      "cell_type": "code",
      "metadata": {
        "id": "s8qGyOfOBitl"
      },
      "source": [
        "from sklearn.model_selection import train_test_split\n",
        "X = df[['sepal_len', 'sepal_width', 'petal_length', 'petal_width']]\n",
        "y = df[['target']]\n",
        "X_train, X_test, y_train, y_test = train_test_split(X, y, \n",
        "                                                    test_size=0.2,\n",
        "                                                    random_state = 10)"
      ],
      "execution_count": 3,
      "outputs": []
    },
    {
      "cell_type": "code",
      "metadata": {
        "colab": {
          "base_uri": "https://localhost:8080/"
        },
        "id": "Dbhlbfpkr1DI",
        "outputId": "15176343-5cdc-421b-d1f3-4df29114e46d"
      },
      "source": [
        "def predict(row, weights, bias):\n",
        "  output = bias\n",
        "  for index, weight in enumerate(weights):\n",
        "    output += weight * row[index]\n",
        "  return 1.0 if output > 0.0 else 0.0 \n",
        "\n",
        "def train_weights_using_batch_gradient_descent(X_train, y_train, num_epochs, learning_rate):\n",
        "  # weights for all the features \n",
        "  weights = [0,0,0,0]\n",
        "  bias = 0\n",
        "  index = 0\n",
        "  df_plot = []\n",
        "  while index < num_epochs:\n",
        "    mse = 0.0\n",
        "    total_gradient = weights\n",
        "    for rowIndex, row in X_train.iterrows():\n",
        "      predicted_value = predict(row, weights, bias)\n",
        "      error = y_train.loc[rowIndex,'target'] - predicted_value\n",
        "      mse += error**2\n",
        "      total_gradient = [weight + (error * row[weight_index]) for weight_index, weight in enumerate(total_gradient)] \n",
        "    bias = bias + learning_rate * (mse/X_train.shape[0])\n",
        "    weights = [weight + learning_rate * (total_gradient[weight_index]/X_train.shape[0]) for weight_index, weight in enumerate(weights)]\n",
        "    print('>epoch=%d, lrate=%.3f, error=%.3f' % (index, learning_rate, mse/X_train.shape[0]))\n",
        "    df_plot.append({mse/X_train.shape[0], index, weights[1], weights[2]})\n",
        "    index = index + 1\n",
        "  df_plot = pd.DataFrame(df_plot, columns=['mse', 'epoch', 'sepal_width', 'petal_length'])\n",
        "  return weights, bias, df_plot\n",
        "\n",
        "(weights_using_batch_gradient_descent, bias_using_batch_gradient_descent, df_plot) = \\\n",
        "  train_weights_using_batch_gradient_descent(X_train, y_train, 10, 0.1)\n",
        "\n",
        "print(weights_using_batch_gradient_descent)"
      ],
      "execution_count": 16,
      "outputs": [
        {
          "output_type": "stream",
          "text": [
            ">epoch=0, lrate=0.100, error=0.667\n",
            ">epoch=1, lrate=0.100, error=0.333\n",
            ">epoch=2, lrate=0.100, error=0.333\n",
            ">epoch=3, lrate=0.100, error=0.333\n",
            ">epoch=4, lrate=0.100, error=0.000\n",
            ">epoch=5, lrate=0.100, error=0.000\n",
            ">epoch=6, lrate=0.100, error=0.000\n",
            ">epoch=7, lrate=0.100, error=0.000\n",
            ">epoch=8, lrate=0.100, error=0.000\n",
            ">epoch=9, lrate=0.100, error=0.000\n",
            ">epoch=10, lrate=0.100, error=0.000\n",
            ">epoch=11, lrate=0.100, error=0.000\n",
            ">epoch=12, lrate=0.100, error=0.000\n",
            ">epoch=13, lrate=0.100, error=0.000\n",
            ">epoch=14, lrate=0.100, error=0.000\n",
            ">epoch=15, lrate=0.100, error=0.000\n",
            ">epoch=16, lrate=0.100, error=0.000\n",
            ">epoch=17, lrate=0.100, error=0.000\n",
            ">epoch=18, lrate=0.100, error=0.000\n",
            ">epoch=19, lrate=0.100, error=0.000\n",
            ">epoch=20, lrate=0.100, error=0.000\n",
            ">epoch=21, lrate=0.100, error=0.000\n",
            ">epoch=22, lrate=0.100, error=0.000\n",
            ">epoch=23, lrate=0.100, error=0.000\n",
            ">epoch=24, lrate=0.100, error=0.000\n",
            ">epoch=25, lrate=0.100, error=0.000\n",
            ">epoch=26, lrate=0.100, error=0.000\n",
            ">epoch=27, lrate=0.100, error=0.000\n",
            ">epoch=28, lrate=0.100, error=0.000\n",
            ">epoch=29, lrate=0.100, error=0.000\n",
            ">epoch=30, lrate=0.100, error=0.000\n",
            ">epoch=31, lrate=0.100, error=0.000\n",
            ">epoch=32, lrate=0.100, error=0.000\n",
            ">epoch=33, lrate=0.100, error=0.000\n",
            ">epoch=34, lrate=0.100, error=0.000\n",
            ">epoch=35, lrate=0.100, error=0.000\n",
            ">epoch=36, lrate=0.100, error=0.000\n",
            ">epoch=37, lrate=0.100, error=0.000\n",
            ">epoch=38, lrate=0.100, error=0.000\n",
            ">epoch=39, lrate=0.100, error=0.000\n",
            ">epoch=40, lrate=0.100, error=0.000\n",
            ">epoch=41, lrate=0.100, error=0.000\n",
            ">epoch=42, lrate=0.100, error=0.000\n",
            ">epoch=43, lrate=0.100, error=0.000\n",
            ">epoch=44, lrate=0.100, error=0.000\n",
            ">epoch=45, lrate=0.100, error=0.000\n",
            ">epoch=46, lrate=0.100, error=0.000\n",
            ">epoch=47, lrate=0.100, error=0.000\n",
            ">epoch=48, lrate=0.100, error=0.000\n",
            ">epoch=49, lrate=0.100, error=0.000\n",
            "[-0.08489308908089532, -0.15747519725974413, 0.19061749083062487, 0.09223032002709906]\n"
          ],
          "name": "stdout"
        }
      ]
    },
    {
      "cell_type": "code",
      "metadata": {
        "id": "T_1fYl4ufmnE"
      },
      "source": [
        "def abline(slope, intercept):\n",
        "    \"\"\"Plot a line from slope and intercept\"\"\"\n",
        "    axes = plt.gca()\n",
        "    x_vals = np.array(axes.get_xlim())\n",
        "    y_vals = intercept + slope * x_vals\n",
        "    plt.plot(x_vals, y_vals, '--')\n",
        "    plt.xlabel(\"Sepal width\")\n",
        "    plt.ylabel(\"Petal length\")"
      ],
      "execution_count": 19,
      "outputs": []
    },
    {
      "cell_type": "code",
      "metadata": {
        "colab": {
          "base_uri": "https://localhost:8080/",
          "height": 545
        },
        "id": "oTFhWUGAVNVU",
        "outputId": "52c8bc1c-57b5-48ad-db88-599f53a87259"
      },
      "source": [
        "\n",
        "plt.plot(df_plot['epoch'], df_plot['mse'],marker='o', color='b')\n",
        "plt.xlabel(\"Iterations\")\n",
        "plt.ylabel(\"MSE\")\n",
        "plt.show()\n",
        "X_train.loc[y_train['target'] == 0.0, 'color'] = 'red'\n",
        "X_train.loc[y_train['target'] == 1.0, 'color'] = 'blue'\n",
        "weights = weights_using_batch_gradient_descent\n",
        "bias = bias_using_batch_gradient_descent\n",
        "plt.scatter(X_train['sepal_width'], X_train['petal_length'], c=X_train['color'])\n",
        "slope = -(bias/weights[2])/(bias/weights[1])  \n",
        "intercept = -bias/weights[2]\n",
        "\n",
        "abline(slope, intercept)\n",
        "plt.show()"
      ],
      "execution_count": 20,
      "outputs": [
        {
          "output_type": "display_data",
          "data": {
            "image/png": "[encoded data removed]",
            "text/plain": [
              "<Figure size 432x288 with 1 Axes>"
            ]
          },
          "metadata": {
            "tags": [],
            "needs_background": "light"
          }
        },
        {
          "output_type": "display_data",
          "data": {
            "image/png": "[encoded data removed]",
            "text/plain": [
              "<Figure size 432x288 with 1 Axes>"
            ]
          },
          "metadata": {
            "tags": [],
            "needs_background": "light"
          }
        }
      ]
    },
    {
      "cell_type": "code",
      "metadata": {
        "colab": {
          "base_uri": "https://localhost:8080/"
        },
        "id": "UkQoHcJGWjcn",
        "outputId": "906a6661-5255-48d1-a867-de101d3ce609"
      },
      "source": [
        "def test_model(X_test, y_test, weights, bias):\n",
        "  y_test['predicted'] = 0.0\n",
        "  for rowIndex, row in X_test.iterrows():\n",
        "    y_test.loc[rowIndex, 'predicted'] = predict(row, weights, bias)\n",
        "  print(sum(y_test['predicted'] == y_test['target']))\n",
        "\n",
        "test_model(X_test, y_test, weights_using_batch_gradient_descent, bias_using_batch_gradient_descent)"
      ],
      "execution_count": 9,
      "outputs": [
        {
          "output_type": "stream",
          "text": [
            "30\n"
          ],
          "name": "stdout"
        }
      ]
    },
    {
      "cell_type": "code",
      "metadata": {
        "colab": {
          "base_uri": "https://localhost:8080/"
        },
        "id": "IAhcMwsIH1SM",
        "outputId": "84694b7b-7573-4e74-8703-eb004c7aadb1"
      },
      "source": [
        "def train_weights_using_mini_batch_gradient_descent(X_train, y_train, batch_size, num_epochs, learning_rate):\n",
        "  # weights for all the features \n",
        "  weights = [0,0,0,0]\n",
        "  bias = 0\n",
        "  index = 0;\n",
        "  df_plot = []\n",
        "  while index < num_epochs:\n",
        "    mse = 0.0\n",
        "    total_gradient = weights\n",
        "    mini_batch = X_train.sample(n = batch_size, random_state=42)\n",
        "    for rowIndex, row in mini_batch.iterrows():\n",
        "      predicted_value = predict(row, weights, bias)\n",
        "      error = y_train.loc[rowIndex,'target'] - predicted_value\n",
        "      mse += error**2\n",
        "      total_gradient = [weight + (error * row[weight_index]) for weight_index, weight in enumerate(total_gradient)] \n",
        "    bias = bias + learning_rate * (mse/mini_batch.shape[0])\n",
        "    weights = [weight + learning_rate * (total_gradient[weight_index]/mini_batch.shape[0]) for weight_index, weight in enumerate(weights)]\n",
        "    print('>epoch=%d, lrate=%.3f, error=%.3f' % (index, learning_rate, mse/mini_batch.shape[0]))\n",
        "    df_plot.append({mse/mini_batch.shape[0], index})\n",
        "    index = index + 1\n",
        "  df_plot = pd.DataFrame(df_plot, columns=['mse', 'epoch'])\n",
        "  return weights, bias, df_plot\n",
        "\n",
        "(weights_using_mini_batch_gradient_descent, bias_using_mini_batch_gradient_descent, df_plot) = \\\n",
        "  train_weights_using_mini_batch_gradient_descent(X_train, y_train, 12, 10, 0.1)\n",
        "print(weights_using_mini_batch_gradient_descent)"
      ],
      "execution_count": 10,
      "outputs": [
        {
          "output_type": "stream",
          "text": [
            ">epoch=0, lrate=0.100, error=0.417\n",
            ">epoch=1, lrate=0.100, error=0.583\n",
            ">epoch=2, lrate=0.100, error=0.000\n",
            ">epoch=3, lrate=0.100, error=0.000\n",
            ">epoch=4, lrate=0.100, error=0.000\n",
            ">epoch=5, lrate=0.100, error=0.000\n",
            ">epoch=6, lrate=0.100, error=0.000\n",
            ">epoch=7, lrate=0.100, error=0.000\n",
            ">epoch=8, lrate=0.100, error=0.000\n",
            ">epoch=9, lrate=0.100, error=0.000\n",
            ">epoch=10, lrate=0.100, error=0.000\n",
            ">epoch=11, lrate=0.100, error=0.000\n",
            ">epoch=12, lrate=0.100, error=0.000\n",
            ">epoch=13, lrate=0.100, error=0.000\n",
            ">epoch=14, lrate=0.100, error=0.000\n",
            ">epoch=15, lrate=0.100, error=0.000\n",
            ">epoch=16, lrate=0.100, error=0.000\n",
            ">epoch=17, lrate=0.100, error=0.000\n",
            ">epoch=18, lrate=0.100, error=0.000\n",
            ">epoch=19, lrate=0.100, error=0.000\n",
            ">epoch=20, lrate=0.100, error=0.000\n",
            ">epoch=21, lrate=0.100, error=0.000\n",
            ">epoch=22, lrate=0.100, error=0.000\n",
            ">epoch=23, lrate=0.100, error=0.000\n",
            ">epoch=24, lrate=0.100, error=0.000\n",
            ">epoch=25, lrate=0.100, error=0.000\n",
            ">epoch=26, lrate=0.100, error=0.000\n",
            ">epoch=27, lrate=0.100, error=0.000\n",
            ">epoch=28, lrate=0.100, error=0.000\n",
            ">epoch=29, lrate=0.100, error=0.000\n",
            ">epoch=30, lrate=0.100, error=0.000\n",
            ">epoch=31, lrate=0.100, error=0.000\n",
            ">epoch=32, lrate=0.100, error=0.000\n",
            ">epoch=33, lrate=0.100, error=0.000\n",
            ">epoch=34, lrate=0.100, error=0.000\n",
            ">epoch=35, lrate=0.100, error=0.000\n",
            ">epoch=36, lrate=0.100, error=0.000\n",
            ">epoch=37, lrate=0.100, error=0.000\n",
            ">epoch=38, lrate=0.100, error=0.000\n",
            ">epoch=39, lrate=0.100, error=0.000\n",
            ">epoch=40, lrate=0.100, error=0.000\n",
            ">epoch=41, lrate=0.100, error=0.000\n",
            ">epoch=42, lrate=0.100, error=0.000\n",
            ">epoch=43, lrate=0.100, error=0.000\n",
            ">epoch=44, lrate=0.100, error=0.000\n",
            ">epoch=45, lrate=0.100, error=0.000\n",
            ">epoch=46, lrate=0.100, error=0.000\n",
            ">epoch=47, lrate=0.100, error=0.000\n",
            ">epoch=48, lrate=0.100, error=0.000\n",
            ">epoch=49, lrate=0.100, error=0.000\n",
            "[-0.047607617471449856, -0.1400509989530528, 0.1938022020812572, 0.0903127777016511]\n"
          ],
          "name": "stdout"
        }
      ]
    },
    {
      "cell_type": "code",
      "metadata": {
        "colab": {
          "base_uri": "https://localhost:8080/",
          "height": 545
        },
        "id": "jjELOkT7f7Wt",
        "outputId": "762b0728-f25e-4210-90d7-051f6a252f99"
      },
      "source": [
        "plt.plot(df_plot['epoch'], df_plot['mse'],marker='o', color='b')\n",
        "plt.xlabel(\"Iterations\")\n",
        "plt.ylabel(\"MSE\")\n",
        "plt.show()\n",
        "X_train.loc[y_train['target'] == 0.0, 'color'] = 'red'\n",
        "X_train.loc[y_train['target'] == 1.0, 'color'] = 'blue'\n",
        "weights = weights_using_mini_batch_gradient_descent\n",
        "bias = bias_using_mini_batch_gradient_descent\n",
        "plt.scatter(X_train['sepal_width'], X_train['petal_length'], c=X_train['color'])\n",
        "slope = -(bias/weights[2])/(bias/weights[1])  \n",
        "intercept = -bias/weights[2]\n",
        "\n",
        "abline(slope, intercept)\n",
        "plt.show()"
      ],
      "execution_count": 21,
      "outputs": [
        {
          "output_type": "display_data",
          "data": {
            "image/png": "[encoded data removed]",
            "text/plain": [
              "<Figure size 432x288 with 1 Axes>"
            ]
          },
          "metadata": {
            "tags": [],
            "needs_background": "light"
          }
        },
        {
          "output_type": "display_data",
          "data": {
            "image/png": "[encoded data removed]",
            "text/plain": [
              "<Figure size 432x288 with 1 Axes>"
            ]
          },
          "metadata": {
            "tags": [],
            "needs_background": "light"
          }
        }
      ]
    },
    {
      "cell_type": "code",
      "metadata": {
        "colab": {
          "base_uri": "https://localhost:8080/"
        },
        "id": "MRduMlbxJRmU",
        "outputId": "56cb3ad7-e6c6-49fd-dff0-cfbf69694716"
      },
      "source": [
        "def test_model(X_test, y_test, weights, bias):\n",
        "  y_test['predicted'] = 0.0\n",
        "  for rowIndex, row in X_test.iterrows():\n",
        "    y_test.loc[rowIndex, 'predicted'] = predict(row, weights, bias)\n",
        "  print(sum(y_test['predicted'] == y_test['target']))\n",
        "\n",
        "test_model(X_test, y_test, weights_using_mini_batch_gradient_descent, bias_using_mini_batch_gradient_descent)"
      ],
      "execution_count": 12,
      "outputs": [
        {
          "output_type": "stream",
          "text": [
            "30\n"
          ],
          "name": "stdout"
        }
      ]
    }
  ]
}