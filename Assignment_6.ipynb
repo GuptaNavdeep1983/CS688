{
  "nbformat": 4,
  "nbformat_minor": 0,
  "metadata": {
    "colab": {
      "name": "Assignment 6.ipynb",
      "provenance": [],
      "collapsed_sections": [],
      "authorship_tag": "ABX9TyPfmZiCcgpE9UW+LeBCPBA4",
      "include_colab_link": true
    },
    "kernelspec": {
      "name": "python3",
      "display_name": "Python 3"
    }
  },
  "cells": [
    {
      "cell_type": "markdown",
      "metadata": {
        "id": "view-in-github",
        "colab_type": "text"
      },
      "source": [
        "<a href=\"https://colab.research.google.com/github/GuptaNavdeep1983/CS688/blob/main/Assignment_6.ipynb\" target=\"_parent\"><img src=\"https://colab.research.google.com/assets/colab-badge.svg\" alt=\"Open In Colab\"/></a>"
      ]
    },
    {
      "cell_type": "markdown",
      "metadata": {
        "id": "G7Jw5OkD-WJl"
      },
      "source": [
        "References:\n",
        "\n",
        "https://datascience.stackexchange.com/questions/54904/how-to-avoid-tokenizing-w-sklearn-feature-extraction\n",
        "\n",
        "\n",
        "https://www.datacamp.com/community/tutorials/discovering-hidden-topics-python\n",
        "\n",
        "https://www.freecodecamp.org/news/an-introduction-to-bag-of-words-and-how-to-code-it-in-python-for-nlp-282e87a9da04/\n",
        "\n",
        "https://scikit-learn.org/stable/modules/generated/sklearn.feature_extraction.text.CountVectorizer.html#sklearn.feature_extraction.text.CountVectorizer.transform\n",
        "\n",
        "https://radimrehurek.com/gensim/auto_examples/core/run_corpora_and_vector_spaces.html\n",
        "\n",
        "https://github.com/brandomr/document_cluster/blob/master/cluster_analysis.ipynb"
      ]
    },
    {
      "cell_type": "code",
      "metadata": {
        "id": "939EWQDE89Pc"
      },
      "source": [
        "pip install gensim"
      ],
      "execution_count": null,
      "outputs": []
    },
    {
      "cell_type": "code",
      "metadata": {
        "id": "S-_jecXwgU3_",
        "outputId": "73348300-1768-459a-dc49-1c84bde6f61e",
        "colab": {
          "base_uri": "https://localhost:8080/"
        }
      },
      "source": [
        "import statsmodels.api as sm \n",
        "import pylab as py \n",
        "import matplotlib.pyplot as plt\n",
        "import pandas as pd\n",
        "import urllib.request\n",
        "import datetime\n",
        "from zipfile import ZipFile\n",
        "from gzip import decompress\n",
        "from json import loads\n",
        "from requests import get\n",
        "import requests, zipfile, io\n",
        "from bs4 import BeautifulSoup\n",
        "import math\n",
        "import numpy as np\n",
        "from sklearn.feature_extraction.text import CountVectorizer\n",
        "import re\n",
        "import gensim\n",
        "from gensim import corpora\n",
        "from gensim.models import LsiModel, LdaModel\n",
        "from gensim.models.coherencemodel import CoherenceModel\n",
        "from gensim.test.utils import common_texts\n",
        "from gensim.parsing.preprocessing import remove_stopwords, strip_punctuation, strip_punctuation2, strip_short, strip_numeric, stem_text\n",
        "from gensim.utils import simple_preprocess\n",
        "from gensim.parsing.preprocessing import STOPWORDS\n",
        "from nltk.stem import WordNetLemmatizer, SnowballStemmer\n",
        "from nltk.stem.porter import *"
      ],
      "execution_count": 7,
      "outputs": [
        {
          "output_type": "stream",
          "text": [
            "/usr/local/lib/python3.6/dist-packages/statsmodels/tools/_testing.py:19: FutureWarning: pandas.util.testing is deprecated. Use the functions in the public API at pandas.testing instead.\n",
            "  import pandas.util.testing as tm\n"
          ],
          "name": "stderr"
        }
      ]
    },
    {
      "cell_type": "code",
      "metadata": {
        "id": "RikVoLscGp22",
        "outputId": "03fbb1f4-bebe-4ff9-a8d9-5d0e85ef8b39",
        "colab": {
          "base_uri": "https://localhost:8080/"
        }
      },
      "source": [
        "import nltk\n",
        "nltk.download('wordnet')"
      ],
      "execution_count": 4,
      "outputs": [
        {
          "output_type": "stream",
          "text": [
            "[nltk_data] Downloading package wordnet to /root/nltk_data...\n",
            "[nltk_data]   Unzipping corpora/wordnet.zip.\n"
          ],
          "name": "stdout"
        },
        {
          "output_type": "execute_result",
          "data": {
            "text/plain": [
              "True"
            ]
          },
          "metadata": {
            "tags": []
          },
          "execution_count": 4
        }
      ]
    },
    {
      "cell_type": "code",
      "metadata": {
        "id": "pjTPViKKgafF"
      },
      "source": [
        "def get_crowd_funding_data_links(filter_by_years):\n",
        "    # get the content of the website\n",
        "    content = urllib.request.urlopen('https://webrobots.io/indiegogo-dataset/').read()\n",
        "    soup = BeautifulSoup(content,features='html.parser')\n",
        "    \n",
        "    all_stories = pd.DataFrame([], columns=['Year', 'Month', 'json', 'csv'])\n",
        "    parent_div = soup.find(name='div', attrs={'class':'fusion-text'})\n",
        "\n",
        "    # Iterate through the divs to find the list of Month-Year wise anchor tags\n",
        "    index = 0\n",
        "    for year_data in parent_div.find_all(name='ul'):\n",
        "        all_months = year_data.find_all('li')\n",
        "        for month in all_months:\n",
        "            complete_text = month.text\n",
        "            date_time_obj = datetime.datetime.strptime((complete_text.split('[')[0]).strip(), '%Y-%m-%d')\n",
        "            if date_time_obj.year in filter_by_years:\n",
        "                all_stories.loc[index, \"Year\"] = date_time_obj.year\n",
        "                all_stories.loc[index, \"Month\"] = str(date_time_obj.month) if date_time_obj.month >=10 else f'0{date_time_obj.month}'\n",
        "                all_stories.loc[index, \"json\"] = month.find_all('a')[0][\"href\"]\n",
        "                all_stories.loc[index, \"csv\"] = month.find_all('a')[1][\"href\"]\n",
        "                index = index + 1\n",
        "    return all_stories\n",
        "\n",
        "def get_current_index_data(df, indx, columns):\n",
        "    r = requests.get(df[\"csv\"][indx])\n",
        "    z = zipfile.ZipFile(io.BytesIO(r.content))\n",
        "    csv_data = z.open(\"Indiegogo.csv\")\n",
        "    data_df = pd.read_csv(csv_data, usecols=columns, dtype={'title':str, 'tagline':str})\n",
        "    return data_df\n",
        "def lemmatize_stemming(text):\n",
        "    return stemmer.stem(WordNetLemmatizer().lemmatize(text, pos='v'))\n",
        "\n",
        "# Tokenize and lemmatize\n",
        "def preprocess(text):\n",
        "    result=[]\n",
        "    for token in gensim.utils.simple_preprocess(text) :\n",
        "        if token not in gensim.parsing.preprocessing.STOPWORDS and len(token) > 3:\n",
        "            result.append(lemmatize_stemming(token))\n",
        "            \n",
        "    return result"
      ],
      "execution_count": 5,
      "outputs": []
    },
    {
      "cell_type": "code",
      "metadata": {
        "id": "Qhs2TRecglUJ"
      },
      "source": [
        "df = get_crowd_funding_data_links([2020])\n",
        "stemmer = SnowballStemmer(\"english\")\n",
        "documents = []\n",
        "for indx in df.head(5).index:\n",
        "    current_month_data = get_current_index_data(df, indx, [\"title\", \"tagline\"])\n",
        "    current_month_data.dropna(axis=0, inplace=True)\n",
        "    for index, row in current_month_data.iterrows():\n",
        "      # all_content = strip_numeric(strip_short(strip_punctuation2(strip_punctuation(remove_stopwords(row['tagline']))), minsize=4))\n",
        "      all_content = preprocess(row['tagline'])\n",
        "      documents.append(all_content)"
      ],
      "execution_count": 8,
      "outputs": []
    },
    {
      "cell_type": "code",
      "metadata": {
        "id": "sMp6uX7KHA6T"
      },
      "source": [
        "common_dictionary = corpora.Dictionary(documents)\n",
        "common_dictionary.filter_extremes(no_below=15, no_above=0.1, keep_n= 100000)"
      ],
      "execution_count": 9,
      "outputs": []
    },
    {
      "cell_type": "code",
      "metadata": {
        "id": "RQSatdh57RcW"
      },
      "source": [
        "df = pd.DataFrame(documents, columns=['content'])\n",
        "vectorizer = CountVectorizer(input='content',stop_words='english', analyzer='word', token_pattern=r'\\b[a-zA-Z]{2,}\\b',max_features=100)\n",
        "doc_term_matrix = vectorizer.fit_transform(df['content'])\n",
        "# doc_term_matrix = vectorizer.transform(df['content'])\n",
        "feature_names = vectorizer.get_feature_names()\n",
        "df_dictionary = pd.DataFrame(feature_names)\n",
        "dictionary = df_dictionary.to_dict()[0]\n",
        "# df_doc_term_matrix = pd.DataFrame(doc_term_matrix.toarray())\n",
        "term_doc_matrix = doc_term_matrix.transpose()"
      ],
      "execution_count": 167,
      "outputs": []
    },
    {
      "cell_type": "code",
      "metadata": {
        "id": "cAG0J-ufyJyO",
        "outputId": "dec257e1-16f5-4fd0-abac-12b554f483b1",
        "colab": {
          "base_uri": "https://localhost:8080/"
        }
      },
      "source": [
        "\n",
        "common_corpus = [common_dictionary.doc2bow(doc) for doc in documents]\n",
        "print(len(common_corpus))"
      ],
      "execution_count": 10,
      "outputs": [
        {
          "output_type": "stream",
          "text": [
            "164361\n"
          ],
          "name": "stdout"
        }
      ]
    },
    {
      "cell_type": "code",
      "metadata": {
        "id": "NoMFfY4g_CiU",
        "outputId": "09f4a5b2-c2b0-438b-9754-9f24088474c3",
        "colab": {
          "base_uri": "https://localhost:8080/"
        }
      },
      "source": [
        "print(common_corpus[1])"
      ],
      "execution_count": 53,
      "outputs": [
        {
          "output_type": "stream",
          "text": [
            "[(5, 1), (6, 1), (7, 1), (8, 1), (9, 1), (10, 1), (11, 1), (12, 1), (13, 1), (14, 1), (15, 1), (16, 1)]\n"
          ],
          "name": "stdout"
        }
      ]
    },
    {
      "cell_type": "code",
      "metadata": {
        "id": "aBwPMD7G8HOK"
      },
      "source": [
        "def create_gensim_lsi_model(common_corpus, common_dictionary):\n",
        "    # generate LSI model\n",
        "    lsamodel = LsiModel(common_corpus, id2word = common_dictionary, num_topics=5)  # train model\n",
        "    print(lsamodel.print_topics())\n",
        "    return lsamodel"
      ],
      "execution_count": 318,
      "outputs": []
    },
    {
      "cell_type": "code",
      "metadata": {
        "id": "2iG6F3iPuhpL"
      },
      "source": [
        "def create_gensim_lda_model(common_corpus, common_dictionary):\n",
        "    # generate LDA model\n",
        "    lsamodel = gensim.models.LdaMulticore(common_corpus, num_topics=5, id2word=common_dictionary, passes=10, workers=2)  # train model\n",
        "    print(lsamodel.print_topics())\n",
        "    return lsamodel"
      ],
      "execution_count": 11,
      "outputs": []
    },
    {
      "cell_type": "code",
      "metadata": {
        "id": "GlogTBQUJm14"
      },
      "source": [
        "lsi_model = create_gensim_lsi_model(common_corpus=common_corpus, common_dictionary=common_dictionary)\n"
      ],
      "execution_count": null,
      "outputs": []
    },
    {
      "cell_type": "code",
      "metadata": {
        "id": "6NYfambNu7XF",
        "outputId": "041615a4-b70d-4ca7-9a73-735305fe3f41",
        "colab": {
          "base_uri": "https://localhost:8080/"
        }
      },
      "source": [
        "lda_model = create_gensim_lda_model(common_corpus, common_dictionary)"
      ],
      "execution_count": 12,
      "outputs": [
        {
          "output_type": "stream",
          "text": [
            "[(0, '0.021*\"book\" + 0.014*\"stori\" + 0.013*\"seri\" + 0.013*\"film\" + 0.012*\"love\" + 0.011*\"life\" + 0.010*\"children\" + 0.008*\"bring\" + 0.008*\"come\" + 0.007*\"support\"'), (1, '0.019*\"power\" + 0.016*\"design\" + 0.012*\"world\" + 0.011*\"smart\" + 0.010*\"light\" + 0.009*\"devic\" + 0.009*\"bike\" + 0.008*\"charg\" + 0.008*\"portabl\" + 0.008*\"wireless\"'), (2, '0.012*\"album\" + 0.012*\"food\" + 0.011*\"support\" + 0.011*\"communiti\" + 0.008*\"creat\" + 0.008*\"festiv\" + 0.008*\"build\" + 0.008*\"need\" + 0.007*\"product\" + 0.007*\"music\"'), (3, '0.019*\"rais\" + 0.018*\"fund\" + 0.016*\"need\" + 0.011*\"support\" + 0.010*\"music\" + 0.010*\"educ\" + 0.009*\"money\" + 0.009*\"video\" + 0.008*\"peopl\" + 0.007*\"communiti\"'), (4, '0.044*\"game\" + 0.018*\"play\" + 0.015*\"world\" + 0.012*\"card\" + 0.010*\"real\" + 0.009*\"adventur\" + 0.008*\"action\" + 0.007*\"base\" + 0.006*\"board\" + 0.006*\"time\"')]\n"
          ],
          "name": "stdout"
        }
      ]
    },
    {
      "cell_type": "code",
      "metadata": {
        "id": "vhUsvKwzrRj9"
      },
      "source": [
        "lsi_model.show_topics()\n"
      ],
      "execution_count": null,
      "outputs": []
    },
    {
      "cell_type": "code",
      "metadata": {
        "id": "jyhUmWhi4VYc"
      },
      "source": [
        "topics = lda_model.show_topics()\n",
        "for topic in topics:\n",
        "  terms = lda_model.get_topic_terms(topic[0])\n",
        "  print(f\"Topic:{topic[0]} Terms,\")\n",
        "  for term in terms:\n",
        "    print(common_dictionary[term[0]])\n",
        "# for tuple in out:\n",
        "\n",
        "# lda_model.print_topics()\n",
        "# lda_model.top_topics(corpus=common_corpus, dictionary=common_dictionary)"
      ],
      "execution_count": null,
      "outputs": []
    },
    {
      "cell_type": "code",
      "metadata": {
        "id": "_YeQKOSIIMf7",
        "outputId": "0b9f272e-d6f2-4e58-c324-290559238d8f",
        "colab": {
          "base_uri": "https://localhost:8080/"
        }
      },
      "source": [
        "for idx, topic in lda_model.print_topics(-1):\n",
        "    print(\"Topic: {} \\nWords: {}\".format(idx, topic ))\n",
        "    print(\"\\n\")"
      ],
      "execution_count": 13,
      "outputs": [
        {
          "output_type": "stream",
          "text": [
            "Topic: 0 \n",
            "Words: 0.021*\"book\" + 0.014*\"stori\" + 0.013*\"seri\" + 0.013*\"film\" + 0.012*\"love\" + 0.011*\"life\" + 0.010*\"children\" + 0.008*\"bring\" + 0.008*\"come\" + 0.007*\"support\"\n",
            "\n",
            "\n",
            "Topic: 1 \n",
            "Words: 0.019*\"power\" + 0.016*\"design\" + 0.012*\"world\" + 0.011*\"smart\" + 0.010*\"light\" + 0.009*\"devic\" + 0.009*\"bike\" + 0.008*\"charg\" + 0.008*\"portabl\" + 0.008*\"wireless\"\n",
            "\n",
            "\n",
            "Topic: 2 \n",
            "Words: 0.012*\"album\" + 0.012*\"food\" + 0.011*\"support\" + 0.011*\"communiti\" + 0.008*\"creat\" + 0.008*\"festiv\" + 0.008*\"build\" + 0.008*\"need\" + 0.007*\"product\" + 0.007*\"music\"\n",
            "\n",
            "\n",
            "Topic: 3 \n",
            "Words: 0.019*\"rais\" + 0.018*\"fund\" + 0.016*\"need\" + 0.011*\"support\" + 0.010*\"music\" + 0.010*\"educ\" + 0.009*\"money\" + 0.009*\"video\" + 0.008*\"peopl\" + 0.007*\"communiti\"\n",
            "\n",
            "\n",
            "Topic: 4 \n",
            "Words: 0.044*\"game\" + 0.018*\"play\" + 0.015*\"world\" + 0.012*\"card\" + 0.010*\"real\" + 0.009*\"adventur\" + 0.008*\"action\" + 0.007*\"base\" + 0.006*\"board\" + 0.006*\"time\"\n",
            "\n",
            "\n"
          ],
          "name": "stdout"
        }
      ]
    },
    {
      "cell_type": "code",
      "metadata": {
        "id": "wUITFqi7-JGg",
        "outputId": "f02f3ade-9332-4a64-ab7c-6dfc35a6bfb1",
        "colab": {
          "base_uri": "https://localhost:8080/",
          "height": 421
        }
      },
      "source": [
        "from sklearn.metrics.pairwise import cosine_similarity\n",
        "from scipy.cluster.hierarchy import ward, dendrogram\n",
        "dist = 1 - cosine_similarity(common_corpus)"
      ],
      "execution_count": 54,
      "outputs": [
        {
          "output_type": "error",
          "ename": "ValueError",
          "evalue": "ignored",
          "traceback": [
            "\u001b[0;31m---------------------------------------------------------------------------\u001b[0m",
            "\u001b[0;31mTypeError\u001b[0m                                 Traceback (most recent call last)",
            "\u001b[0;31mTypeError\u001b[0m: float() argument must be a string or a number, not 'list'",
            "\nThe above exception was the direct cause of the following exception:\n",
            "\u001b[0;31mValueError\u001b[0m                                Traceback (most recent call last)",
            "\u001b[0;32m<ipython-input-54-8a39acb32299>\u001b[0m in \u001b[0;36m<module>\u001b[0;34m()\u001b[0m\n\u001b[1;32m      1\u001b[0m \u001b[0;32mfrom\u001b[0m \u001b[0msklearn\u001b[0m\u001b[0;34m.\u001b[0m\u001b[0mmetrics\u001b[0m\u001b[0;34m.\u001b[0m\u001b[0mpairwise\u001b[0m \u001b[0;32mimport\u001b[0m \u001b[0mcosine_similarity\u001b[0m\u001b[0;34m\u001b[0m\u001b[0;34m\u001b[0m\u001b[0m\n\u001b[1;32m      2\u001b[0m \u001b[0;32mfrom\u001b[0m \u001b[0mscipy\u001b[0m\u001b[0;34m.\u001b[0m\u001b[0mcluster\u001b[0m\u001b[0;34m.\u001b[0m\u001b[0mhierarchy\u001b[0m \u001b[0;32mimport\u001b[0m \u001b[0mward\u001b[0m\u001b[0;34m,\u001b[0m \u001b[0mdendrogram\u001b[0m\u001b[0;34m\u001b[0m\u001b[0;34m\u001b[0m\u001b[0m\n\u001b[0;32m----> 3\u001b[0;31m \u001b[0mdist\u001b[0m \u001b[0;34m=\u001b[0m \u001b[0;36m1\u001b[0m \u001b[0;34m-\u001b[0m \u001b[0mcosine_similarity\u001b[0m\u001b[0;34m(\u001b[0m\u001b[0mcommon_corpus\u001b[0m\u001b[0;34m)\u001b[0m\u001b[0;34m\u001b[0m\u001b[0;34m\u001b[0m\u001b[0m\n\u001b[0m",
            "\u001b[0;32m/usr/local/lib/python3.6/dist-packages/sklearn/metrics/pairwise.py\u001b[0m in \u001b[0;36mcosine_similarity\u001b[0;34m(X, Y, dense_output)\u001b[0m\n\u001b[1;32m   1165\u001b[0m     \u001b[0;31m# to avoid recursive import\u001b[0m\u001b[0;34m\u001b[0m\u001b[0;34m\u001b[0m\u001b[0;34m\u001b[0m\u001b[0m\n\u001b[1;32m   1166\u001b[0m \u001b[0;34m\u001b[0m\u001b[0m\n\u001b[0;32m-> 1167\u001b[0;31m     \u001b[0mX\u001b[0m\u001b[0;34m,\u001b[0m \u001b[0mY\u001b[0m \u001b[0;34m=\u001b[0m \u001b[0mcheck_pairwise_arrays\u001b[0m\u001b[0;34m(\u001b[0m\u001b[0mX\u001b[0m\u001b[0;34m,\u001b[0m \u001b[0mY\u001b[0m\u001b[0;34m)\u001b[0m\u001b[0;34m\u001b[0m\u001b[0;34m\u001b[0m\u001b[0m\n\u001b[0m\u001b[1;32m   1168\u001b[0m \u001b[0;34m\u001b[0m\u001b[0m\n\u001b[1;32m   1169\u001b[0m     \u001b[0mX_normalized\u001b[0m \u001b[0;34m=\u001b[0m \u001b[0mnormalize\u001b[0m\u001b[0;34m(\u001b[0m\u001b[0mX\u001b[0m\u001b[0;34m,\u001b[0m \u001b[0mcopy\u001b[0m\u001b[0;34m=\u001b[0m\u001b[0;32mTrue\u001b[0m\u001b[0;34m)\u001b[0m\u001b[0;34m\u001b[0m\u001b[0;34m\u001b[0m\u001b[0m\n",
            "\u001b[0;32m/usr/local/lib/python3.6/dist-packages/sklearn/metrics/pairwise.py\u001b[0m in \u001b[0;36mcheck_pairwise_arrays\u001b[0;34m(X, Y, precomputed, dtype, accept_sparse, force_all_finite, copy)\u001b[0m\n\u001b[1;32m    135\u001b[0m         X = Y = check_array(X, accept_sparse=accept_sparse, dtype=dtype,\n\u001b[1;32m    136\u001b[0m                             \u001b[0mcopy\u001b[0m\u001b[0;34m=\u001b[0m\u001b[0mcopy\u001b[0m\u001b[0;34m,\u001b[0m \u001b[0mforce_all_finite\u001b[0m\u001b[0;34m=\u001b[0m\u001b[0mforce_all_finite\u001b[0m\u001b[0;34m,\u001b[0m\u001b[0;34m\u001b[0m\u001b[0;34m\u001b[0m\u001b[0m\n\u001b[0;32m--> 137\u001b[0;31m                             estimator=estimator)\n\u001b[0m\u001b[1;32m    138\u001b[0m     \u001b[0;32melse\u001b[0m\u001b[0;34m:\u001b[0m\u001b[0;34m\u001b[0m\u001b[0;34m\u001b[0m\u001b[0m\n\u001b[1;32m    139\u001b[0m         X = check_array(X, accept_sparse=accept_sparse, dtype=dtype,\n",
            "\u001b[0;32m/usr/local/lib/python3.6/dist-packages/sklearn/utils/validation.py\u001b[0m in \u001b[0;36mcheck_array\u001b[0;34m(array, accept_sparse, accept_large_sparse, dtype, order, copy, force_all_finite, ensure_2d, allow_nd, ensure_min_samples, ensure_min_features, warn_on_dtype, estimator)\u001b[0m\n\u001b[1;32m    529\u001b[0m                     \u001b[0marray\u001b[0m \u001b[0;34m=\u001b[0m \u001b[0marray\u001b[0m\u001b[0;34m.\u001b[0m\u001b[0mastype\u001b[0m\u001b[0;34m(\u001b[0m\u001b[0mdtype\u001b[0m\u001b[0;34m,\u001b[0m \u001b[0mcasting\u001b[0m\u001b[0;34m=\u001b[0m\u001b[0;34m\"unsafe\"\u001b[0m\u001b[0;34m,\u001b[0m \u001b[0mcopy\u001b[0m\u001b[0;34m=\u001b[0m\u001b[0;32mFalse\u001b[0m\u001b[0;34m)\u001b[0m\u001b[0;34m\u001b[0m\u001b[0;34m\u001b[0m\u001b[0m\n\u001b[1;32m    530\u001b[0m                 \u001b[0;32melse\u001b[0m\u001b[0;34m:\u001b[0m\u001b[0;34m\u001b[0m\u001b[0;34m\u001b[0m\u001b[0m\n\u001b[0;32m--> 531\u001b[0;31m                     \u001b[0marray\u001b[0m \u001b[0;34m=\u001b[0m \u001b[0mnp\u001b[0m\u001b[0;34m.\u001b[0m\u001b[0masarray\u001b[0m\u001b[0;34m(\u001b[0m\u001b[0marray\u001b[0m\u001b[0;34m,\u001b[0m \u001b[0morder\u001b[0m\u001b[0;34m=\u001b[0m\u001b[0morder\u001b[0m\u001b[0;34m,\u001b[0m \u001b[0mdtype\u001b[0m\u001b[0;34m=\u001b[0m\u001b[0mdtype\u001b[0m\u001b[0;34m)\u001b[0m\u001b[0;34m\u001b[0m\u001b[0;34m\u001b[0m\u001b[0m\n\u001b[0m\u001b[1;32m    532\u001b[0m             \u001b[0;32mexcept\u001b[0m \u001b[0mComplexWarning\u001b[0m\u001b[0;34m:\u001b[0m\u001b[0;34m\u001b[0m\u001b[0;34m\u001b[0m\u001b[0m\n\u001b[1;32m    533\u001b[0m                 raise ValueError(\"Complex data not supported\\n\"\n",
            "\u001b[0;32m/usr/local/lib/python3.6/dist-packages/numpy/core/_asarray.py\u001b[0m in \u001b[0;36masarray\u001b[0;34m(a, dtype, order)\u001b[0m\n\u001b[1;32m     83\u001b[0m \u001b[0;34m\u001b[0m\u001b[0m\n\u001b[1;32m     84\u001b[0m     \"\"\"\n\u001b[0;32m---> 85\u001b[0;31m     \u001b[0;32mreturn\u001b[0m \u001b[0marray\u001b[0m\u001b[0;34m(\u001b[0m\u001b[0ma\u001b[0m\u001b[0;34m,\u001b[0m \u001b[0mdtype\u001b[0m\u001b[0;34m,\u001b[0m \u001b[0mcopy\u001b[0m\u001b[0;34m=\u001b[0m\u001b[0;32mFalse\u001b[0m\u001b[0;34m,\u001b[0m \u001b[0morder\u001b[0m\u001b[0;34m=\u001b[0m\u001b[0morder\u001b[0m\u001b[0;34m)\u001b[0m\u001b[0;34m\u001b[0m\u001b[0;34m\u001b[0m\u001b[0m\n\u001b[0m\u001b[1;32m     86\u001b[0m \u001b[0;34m\u001b[0m\u001b[0m\n\u001b[1;32m     87\u001b[0m \u001b[0;34m\u001b[0m\u001b[0m\n",
            "\u001b[0;31mValueError\u001b[0m: setting an array element with a sequence."
          ]
        }
      ]
    },
    {
      "cell_type": "code",
      "metadata": {
        "id": "KeaEvXjYNr0l",
        "outputId": "a5a6749e-d12b-467a-ba13-c9f00bcc9d29",
        "colab": {
          "base_uri": "https://localhost:8080/"
        }
      },
      "source": [
        "import pandas as pd\n",
        "import numpy as np\n",
        "topicWordProbMat = lda_model.print_topics(-1)\n",
        "columns = ['1','2','3','4','5']\n",
        "\n",
        "df = pd.DataFrame(columns = columns)\n",
        "pd.set_option('display.width', 1000)\n",
        "\n",
        "# 40 will be resized later to match number of words in DC\n",
        "zz = np.zeros(shape=(50,5))\n",
        "\n",
        "last_number=0\n",
        "DC={}\n",
        "\n",
        "for x in range (10):\n",
        "  data = pd.DataFrame({columns[0]:\"\",\n",
        "                     columns[1]:\"\",\n",
        "                     columns[2]:\"\",\n",
        "                     columns[3]:\"\",\n",
        "                     columns[4]:\"\",\n",
        "                                                                                       \n",
        "                     \n",
        "                    },index=[0])\n",
        "  df=df.append(data,ignore_index=True)  \n",
        "\n",
        "distances = []    \n",
        "for line in topicWordProbMat:\n",
        "    print(line)\n",
        "    tp, w = line\n",
        "    probs=w.split(\"+\")\n",
        "    y=0\n",
        "    for pr in probs:\n",
        "               \n",
        "        a=pr.split(\"*\")\n",
        "        df.iloc[y,tp] = a[1]\n",
        "        distances.append(float(a[0]))\n",
        "        if a[1] in DC:\n",
        "           zz[DC[a[1]]][tp]=a[0]\n",
        "        else:\n",
        "           zz[last_number][tp]=a[0]\n",
        "           DC[a[1]]=last_number\n",
        "           last_number=last_number+1\n",
        "        y=y+1\n",
        "\n",
        "print (df)\n",
        "print (zz)\n",
        "print(distances)"
      ],
      "execution_count": 34,
      "outputs": [
        {
          "output_type": "stream",
          "text": [
            "(0, '0.021*\"book\" + 0.014*\"stori\" + 0.013*\"seri\" + 0.013*\"film\" + 0.012*\"love\" + 0.011*\"life\" + 0.010*\"children\" + 0.008*\"bring\" + 0.008*\"come\" + 0.007*\"support\"')\n",
            "(1, '0.019*\"power\" + 0.016*\"design\" + 0.012*\"world\" + 0.011*\"smart\" + 0.010*\"light\" + 0.009*\"devic\" + 0.009*\"bike\" + 0.008*\"charg\" + 0.008*\"portabl\" + 0.008*\"wireless\"')\n",
            "(2, '0.012*\"album\" + 0.012*\"food\" + 0.011*\"support\" + 0.011*\"communiti\" + 0.008*\"creat\" + 0.008*\"festiv\" + 0.008*\"build\" + 0.008*\"need\" + 0.007*\"product\" + 0.007*\"music\"')\n",
            "(3, '0.019*\"rais\" + 0.018*\"fund\" + 0.016*\"need\" + 0.011*\"support\" + 0.010*\"music\" + 0.010*\"educ\" + 0.009*\"money\" + 0.009*\"video\" + 0.008*\"peopl\" + 0.007*\"communiti\"')\n",
            "(4, '0.044*\"game\" + 0.018*\"play\" + 0.015*\"world\" + 0.012*\"card\" + 0.010*\"real\" + 0.009*\"adventur\" + 0.008*\"action\" + 0.007*\"base\" + 0.006*\"board\" + 0.006*\"time\"')\n",
            "             1           2             3            4            5\n",
            "0      \"book\"     \"power\"       \"album\"       \"rais\"       \"game\" \n",
            "1     \"stori\"    \"design\"        \"food\"       \"fund\"       \"play\" \n",
            "2      \"seri\"     \"world\"     \"support\"       \"need\"      \"world\" \n",
            "3      \"film\"     \"smart\"   \"communiti\"    \"support\"       \"card\" \n",
            "4      \"love\"     \"light\"       \"creat\"      \"music\"       \"real\" \n",
            "5      \"life\"     \"devic\"      \"festiv\"       \"educ\"   \"adventur\" \n",
            "6  \"children\"      \"bike\"       \"build\"      \"money\"     \"action\" \n",
            "7     \"bring\"     \"charg\"        \"need\"      \"video\"       \"base\" \n",
            "8      \"come\"   \"portabl\"     \"product\"      \"peopl\"      \"board\" \n",
            "9    \"support\"  \"wireless\"       \"music\"  \"communiti\"       \"time\"\n",
            "[[0.021 0.    0.    0.    0.   ]\n",
            " [0.014 0.    0.    0.    0.   ]\n",
            " [0.013 0.    0.    0.    0.   ]\n",
            " [0.013 0.    0.    0.    0.   ]\n",
            " [0.012 0.    0.    0.    0.   ]\n",
            " [0.011 0.    0.    0.    0.   ]\n",
            " [0.01  0.    0.    0.    0.   ]\n",
            " [0.008 0.    0.    0.    0.   ]\n",
            " [0.008 0.    0.    0.    0.   ]\n",
            " [0.007 0.    0.    0.    0.   ]\n",
            " [0.    0.019 0.    0.    0.   ]\n",
            " [0.    0.016 0.    0.    0.   ]\n",
            " [0.    0.012 0.    0.    0.015]\n",
            " [0.    0.011 0.    0.    0.   ]\n",
            " [0.    0.01  0.    0.    0.   ]\n",
            " [0.    0.009 0.    0.    0.   ]\n",
            " [0.    0.009 0.    0.    0.   ]\n",
            " [0.    0.008 0.    0.    0.   ]\n",
            " [0.    0.008 0.    0.    0.   ]\n",
            " [0.    0.008 0.    0.    0.   ]\n",
            " [0.    0.    0.012 0.    0.   ]\n",
            " [0.    0.    0.012 0.    0.   ]\n",
            " [0.    0.    0.011 0.011 0.   ]\n",
            " [0.    0.    0.011 0.    0.   ]\n",
            " [0.    0.    0.008 0.    0.   ]\n",
            " [0.    0.    0.008 0.    0.   ]\n",
            " [0.    0.    0.008 0.    0.   ]\n",
            " [0.    0.    0.008 0.016 0.   ]\n",
            " [0.    0.    0.007 0.    0.   ]\n",
            " [0.    0.    0.007 0.    0.   ]\n",
            " [0.    0.    0.    0.019 0.   ]\n",
            " [0.    0.    0.    0.018 0.   ]\n",
            " [0.    0.    0.    0.01  0.   ]\n",
            " [0.    0.    0.    0.01  0.   ]\n",
            " [0.    0.    0.    0.009 0.   ]\n",
            " [0.    0.    0.    0.009 0.   ]\n",
            " [0.    0.    0.    0.008 0.   ]\n",
            " [0.    0.    0.    0.007 0.   ]\n",
            " [0.    0.    0.    0.    0.044]\n",
            " [0.    0.    0.    0.    0.018]\n",
            " [0.    0.    0.    0.    0.012]\n",
            " [0.    0.    0.    0.    0.01 ]\n",
            " [0.    0.    0.    0.    0.009]\n",
            " [0.    0.    0.    0.    0.008]\n",
            " [0.    0.    0.    0.    0.007]\n",
            " [0.    0.    0.    0.    0.006]\n",
            " [0.    0.    0.    0.    0.006]\n",
            " [0.    0.    0.    0.    0.   ]\n",
            " [0.    0.    0.    0.    0.   ]\n",
            " [0.    0.    0.    0.    0.   ]]\n",
            "[0.021, 0.014, 0.013, 0.013, 0.012, 0.011, 0.01, 0.008, 0.008, 0.007, 0.019, 0.016, 0.012, 0.011, 0.01, 0.009, 0.009, 0.008, 0.008, 0.008, 0.012, 0.012, 0.011, 0.011, 0.008, 0.008, 0.008, 0.008, 0.007, 0.007, 0.019, 0.018, 0.016, 0.011, 0.01, 0.01, 0.009, 0.009, 0.008, 0.007, 0.044, 0.018, 0.015, 0.012, 0.01, 0.009, 0.008, 0.007, 0.006, 0.006]\n"
          ],
          "name": "stdout"
        }
      ]
    },
    {
      "cell_type": "code",
      "metadata": {
        "id": "DUALL4ZKrUuR",
        "outputId": "98a19560-fe26-4996-d9ba-4549337935f0",
        "colab": {
          "base_uri": "https://localhost:8080/",
          "height": 592
        }
      },
      "source": [
        "import matplotlib.pyplot as plt\n",
        "import seaborn as sns\n",
        "fig, ax = plt.subplots(figsize=(10,10)) \n",
        "ax.set_ylabel(\"Median Population\", fontname=\"Arial\", fontsize=12)\n",
        "ax = sns.heatmap(zz, yticklabels=DC.keys(), ax=ax)\n"
      ],
      "execution_count": 51,
      "outputs": [
        {
          "output_type": "display_data",
          "data": {
            "image/png": "[encoded data removed]",
            "text/plain": [
              "<Figure size 720x720 with 2 Axes>"
            ]
          },
          "metadata": {
            "tags": [],
            "needs_background": "light"
          }
        }
      ]
    }
  ]
}