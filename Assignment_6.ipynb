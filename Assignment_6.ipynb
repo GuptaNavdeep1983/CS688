{
  "nbformat": 4,
  "nbformat_minor": 0,
  "metadata": {
    "colab": {
      "name": "Assignment 6.ipynb",
      "provenance": [],
      "collapsed_sections": [],
      "authorship_tag": "ABX9TyM87OTnU6pduNVnJh0lRlnw",
      "include_colab_link": true
    },
    "kernelspec": {
      "name": "python3",
      "display_name": "Python 3"
    }
  },
  "cells": [
    {
      "cell_type": "markdown",
      "metadata": {
        "id": "view-in-github",
        "colab_type": "text"
      },
      "source": [
        "<a href=\"https://colab.research.google.com/github/GuptaNavdeep1983/CS688/blob/main/Assignment_6.ipynb\" target=\"_parent\"><img src=\"https://colab.research.google.com/assets/colab-badge.svg\" alt=\"Open In Colab\"/></a>"
      ]
    },
    {
      "cell_type": "markdown",
      "metadata": {
        "id": "G7Jw5OkD-WJl"
      },
      "source": [
        "References:\n",
        "\n",
        "https://datascience.stackexchange.com/questions/54904/how-to-avoid-tokenizing-w-sklearn-feature-extraction\n",
        "\n",
        "\n",
        "https://www.datacamp.com/community/tutorials/discovering-hidden-topics-python\n",
        "\n",
        "https://www.freecodecamp.org/news/an-introduction-to-bag-of-words-and-how-to-code-it-in-python-for-nlp-282e87a9da04/\n",
        "\n",
        "https://scikit-learn.org/stable/modules/generated/sklearn.feature_extraction.text.CountVectorizer.html#sklearn.feature_extraction.text.CountVectorizer.transform"
      ]
    },
    {
      "cell_type": "code",
      "metadata": {
        "id": "939EWQDE89Pc"
      },
      "source": [
        "pip install gensim"
      ],
      "execution_count": null,
      "outputs": []
    },
    {
      "cell_type": "code",
      "metadata": {
        "id": "S-_jecXwgU3_"
      },
      "source": [
        "import statsmodels.api as sm \n",
        "import pylab as py \n",
        "import matplotlib.pyplot as plt\n",
        "import pandas as pd\n",
        "import urllib.request\n",
        "import datetime\n",
        "from zipfile import ZipFile\n",
        "from gzip import decompress\n",
        "from json import loads\n",
        "from requests import get\n",
        "import requests, zipfile, io\n",
        "from bs4 import BeautifulSoup\n",
        "import math\n",
        "import numpy as np\n",
        "from sklearn.feature_extraction.text import CountVectorizer\n",
        "import re\n",
        "\n",
        "from gensim import corpora\n",
        "from gensim.models import LsiModel\n",
        "from gensim.models.coherencemodel import CoherenceModel"
      ],
      "execution_count": null,
      "outputs": []
    },
    {
      "cell_type": "code",
      "metadata": {
        "id": "pjTPViKKgafF"
      },
      "source": [
        "def get_crowd_funding_data_links(filter_by_years):\n",
        "    # get the content of the website\n",
        "    content = urllib.request.urlopen('https://webrobots.io/indiegogo-dataset/').read()\n",
        "    soup = BeautifulSoup(content,features='html.parser')\n",
        "    \n",
        "    all_stories = pd.DataFrame([], columns=['Year', 'Month', 'json', 'csv'])\n",
        "    parent_div = soup.find(name='div', attrs={'class':'fusion-text'})\n",
        "\n",
        "    # Iterate through the divs to find the list of Month-Year wise anchor tags\n",
        "    index = 0\n",
        "    for year_data in parent_div.find_all(name='ul'):\n",
        "        all_months = year_data.find_all('li')\n",
        "        for month in all_months:\n",
        "            complete_text = month.text\n",
        "            date_time_obj = datetime.datetime.strptime((complete_text.split('[')[0]).strip(), '%Y-%m-%d')\n",
        "            if date_time_obj.year in filter_by_years:\n",
        "                all_stories.loc[index, \"Year\"] = date_time_obj.year\n",
        "                all_stories.loc[index, \"Month\"] = str(date_time_obj.month) if date_time_obj.month >=10 else f'0{date_time_obj.month}'\n",
        "                all_stories.loc[index, \"json\"] = month.find_all('a')[0][\"href\"]\n",
        "                all_stories.loc[index, \"csv\"] = month.find_all('a')[1][\"href\"]\n",
        "                index = index + 1\n",
        "    return all_stories\n",
        "\n",
        "def get_current_index_data(df, indx, columns):\n",
        "    r = requests.get(df[\"csv\"][indx])\n",
        "    z = zipfile.ZipFile(io.BytesIO(r.content))\n",
        "    csv_data = z.open(\"Indiegogo.csv\")\n",
        "    data_df = pd.read_csv(csv_data, usecols=columns, dtype={'title':str, 'tagline':str})\n",
        "    return data_df"
      ],
      "execution_count": null,
      "outputs": []
    },
    {
      "cell_type": "code",
      "metadata": {
        "id": "Qhs2TRecglUJ"
      },
      "source": [
        "df = get_crowd_funding_data_links([2020])\n",
        "\n",
        "documents = []\n",
        "for indx in df.head(5).index:\n",
        "    current_month_data = get_current_index_data(df, indx, [\"title\", \"tagline\"])\n",
        "    current_month_data.dropna(axis=0, inplace=True)\n",
        "    only_taglines = current_month_data[\"tagline\"]\n",
        "    all_content = ''.join(str(e) for e in only_taglines)\n",
        "    documents.append(all_content)"
      ],
      "execution_count": null,
      "outputs": []
    },
    {
      "cell_type": "code",
      "metadata": {
        "id": "RQSatdh57RcW"
      },
      "source": [
        "df = pd.DataFrame(documents, columns=['content'])\n",
        "vectorizer = CountVectorizer(input='content',stop_words='english', analyzer='word', token_pattern=r'\\b[a-zA-Z]{2,}\\b',max_features=100)\n",
        "vectorizer.fit_transform(df['content'])\n",
        "doc_term_matrix = vectorizer.transform(df['content'])\n",
        "feature_names = vectorizer.get_feature_names()\n",
        "df_dictionary = pd.DataFrame(feature_names)\n",
        "dictionary = df_dictionary.to_dict()[0]\n",
        "# df_doc_term_matrix = pd.DataFrame(doc_term_matrix.toarray())\n",
        "term_doc_matrix = doc_term_matrix.transpose()"
      ],
      "execution_count": 153,
      "outputs": []
    },
    {
      "cell_type": "code",
      "metadata": {
        "id": "aBwPMD7G8HOK"
      },
      "source": [
        "def create_gensim_lsa_model(number_of_topics,words, dictionary, doc_term_matrix):\n",
        "    # generate LSA model\n",
        "    lsamodel = LsiModel(doc_term_matrix, num_topics=number_of_topics, id2word = dictionary)  # train model\n",
        "    print(lsamodel.print_topics(num_topics=-1, num_words=words))\n",
        "    return lsamodel"
      ],
      "execution_count": 156,
      "outputs": []
    },
    {
      "cell_type": "code",
      "metadata": {
        "id": "QIMsN6F59m9c"
      },
      "source": [
        "from sklearn.utils.extmath import randomized_svd\n",
        "\n",
        "U, Sigma, VT = randomized_svd(doc_term_matrix, \n",
        "                              n_components=15,\n",
        "                              n_iter=5,\n",
        "                              random_state=42)"
      ],
      "execution_count": null,
      "outputs": []
    },
    {
      "cell_type": "code",
      "metadata": {
        "id": "GlogTBQUJm14",
        "outputId": "9a60d40b-da7a-4b42-f9fa-dd840f779438",
        "colab": {
          "base_uri": "https://localhost:8080/"
        }
      },
      "source": [
        "model = create_gensim_lsa_model(10, 100, dictionary, term_doc_matrix)"
      ],
      "execution_count": 157,
      "outputs": [
        {
          "output_type": "stream",
          "text": [
            "[(0, '0.574*\"help\" + 0.321*\"new\" + 0.263*\"world\" + 0.160*\"game\" + 0.149*\"support\" + 0.143*\"make\" + 0.141*\"book\" + 0.134*\"need\" + 0.127*\"life\" + 0.123*\"people\" + 0.115*\"music\" + 0.109*\"art\" + 0.104*\"time\" + 0.099*\"free\" + 0.094*\"series\" + 0.093*\"community\" + 0.086*\"way\" + 0.085*\"home\" + 0.084*\"create\" + 0.083*\"film\" + 0.082*\"bring\" + 0.082*\"app\" + 0.081*\"power\" + 0.080*\"camera\" + 0.079*\"smart\" + 0.078*\"love\" + 0.077*\"best\" + 0.077*\"children\" + 0.077*\"based\" + 0.075*\"fund\" + 0.073*\"album\" + 0.071*\"project\" + 0.070*\"high\" + 0.070*\"women\" + 0.069*\"funds\" + 0.069*\"food\" + 0.068*\"designed\" + 0.067*\"photography\" + 0.067*\"design\" + 0.066*\"play\" + 0.066*\"raise\" + 0.065*\"story\" + 0.063*\"water\" + 0.063*\"let\" + 0.062*\"wireless\" + 0.062*\"money\" + 0.060*\"build\" + 0.060*\"needs\" + 0.060*\"like\" + 0.059*\"want\" + 0.059*\"unique\" + 0.058*\"save\" + 0.057*\"space\" + 0.057*\"bike\" + 0.056*\"quality\" + 0.056*\"portable\" + 0.056*\"better\" + 0.055*\"campaign\" + 0.054*\"use\" + 0.054*\"light\" + 0.054*\"work\" + 0.054*\"fun\" + 0.054*\"experience\" + 0.054*\"sound\" + 0.053*\"adventure\" + 0.053*\"just\" + 0.053*\"live\" + 0.052*\"future\" + 0.052*\"mobile\" + 0.050*\"raising\" + 0.050*\"real\" + 0.049*\"electric\" + 0.049*\"young\" + 0.049*\"change\" + 0.049*\"video\" + 0.048*\"easy\" + 0.048*\"energy\" + 0.047*\"web\" + 0.047*\"audio\" + 0.047*\"join\" + 0.046*\"social\" + 0.046*\"travel\" + 0.045*\"business\" + 0.045*\"family\" + 0.045*\"share\" + 0.045*\"making\" + 0.045*\"phone\" + 0.045*\"great\" + 0.045*\"kids\" + 0.044*\"festival\" + 0.044*\"year\" + 0.043*\"day\" + 0.043*\"health\" + 0.042*\"technology\" + 0.042*\"short\" + 0.042*\"self\" + 0.042*\"device\" + 0.042*\"bluetooth\" + 0.042*\"affordable\" + 0.042*\"building\"'), (1, '0.365*\"album\" + 0.350*\"book\" + 0.319*\"film\" + 0.248*\"new\" + 0.246*\"art\" + -0.209*\"camera\" + -0.189*\"wireless\" + 0.155*\"short\" + 0.155*\"photography\" + -0.150*\"sound\" + -0.147*\"audio\" + -0.143*\"free\" + 0.139*\"story\" + -0.134*\"bike\" + -0.131*\"community\" + 0.131*\"series\" + -0.126*\"bluetooth\" + 0.120*\"project\" + -0.107*\"portable\" + -0.107*\"people\" + -0.103*\"electric\" + -0.100*\"quality\" + -0.097*\"power\" + -0.096*\"water\" + -0.086*\"designed\" + -0.086*\"food\" + -0.083*\"smart\" + -0.082*\"energy\" + -0.080*\"build\" + 0.080*\"life\" + -0.077*\"light\" + -0.072*\"children\" + -0.069*\"like\" + -0.069*\"just\" + -0.068*\"space\" + -0.068*\"app\" + -0.066*\"way\" + -0.066*\"save\" + -0.065*\"affordable\" + -0.064*\"future\" + 0.064*\"fund\" + -0.063*\"building\" + -0.058*\"game\" + 0.057*\"play\" + -0.056*\"better\" + -0.055*\"world\" + -0.053*\"phone\" + -0.052*\"use\" + 0.051*\"young\" + -0.051*\"device\" + 0.049*\"web\" + -0.049*\"best\" + -0.049*\"design\" + -0.047*\"need\" + -0.045*\"travel\" + -0.045*\"high\" + -0.043*\"time\" + -0.043*\"kids\" + -0.043*\"real\" + 0.043*\"music\" + 0.043*\"live\" + -0.041*\"self\" + 0.038*\"love\" + -0.038*\"change\" + 0.033*\"money\" + 0.033*\"work\" + -0.032*\"experience\" + -0.032*\"needs\" + -0.032*\"fun\" + 0.031*\"raising\" + 0.031*\"bring\" + -0.031*\"support\" + -0.029*\"easy\" + -0.029*\"home\" + -0.028*\"want\" + -0.027*\"help\" + -0.026*\"make\" + -0.025*\"let\" + 0.022*\"based\" + -0.022*\"year\" + 0.021*\"festival\" + -0.019*\"technology\" + 0.019*\"business\" + 0.018*\"making\" + 0.018*\"campaign\" + -0.018*\"health\" + 0.014*\"create\" + -0.014*\"great\" + -0.013*\"day\" + 0.012*\"raise\" + 0.011*\"adventure\" + -0.011*\"funds\" + -0.010*\"women\" + -0.008*\"family\" + -0.005*\"video\" + 0.004*\"mobile\" + -0.003*\"share\" + 0.003*\"social\" + 0.003*\"unique\" + 0.002*\"join\"'), (2, '0.406*\"game\" + 0.290*\"book\" + -0.273*\"help\" + 0.266*\"camera\" + -0.253*\"community\" + 0.235*\"sound\" + 0.231*\"music\" + 0.230*\"audio\" + -0.175*\"food\" + 0.173*\"wireless\" + 0.166*\"bluetooth\" + 0.156*\"series\" + 0.151*\"power\" + -0.150*\"children\" + -0.141*\"people\" + 0.134*\"based\" + 0.122*\"smart\" + -0.098*\"support\" + -0.097*\"travel\" + -0.095*\"want\" + -0.083*\"future\" + -0.080*\"funds\" + 0.079*\"play\" + -0.078*\"free\" + 0.078*\"electric\" + -0.076*\"raise\" + -0.073*\"create\" + -0.069*\"technology\" + 0.065*\"home\" + -0.059*\"join\" + -0.058*\"building\" + -0.058*\"project\" + 0.058*\"portable\" + 0.057*\"quality\" + -0.057*\"save\" + 0.057*\"love\" + 0.056*\"story\" + 0.056*\"affordable\" + -0.056*\"family\" + -0.053*\"self\" + 0.052*\"life\" + -0.052*\"app\" + -0.049*\"fund\" + 0.048*\"design\" + 0.048*\"fun\" + 0.047*\"high\" + 0.046*\"festival\" + -0.046*\"day\" + -0.046*\"work\" + -0.044*\"art\" + -0.043*\"raising\" + 0.042*\"making\" + 0.042*\"web\" + -0.040*\"easy\" + -0.040*\"let\" + 0.038*\"photography\" + 0.038*\"bring\" + 0.036*\"device\" + 0.035*\"young\" + 0.034*\"bike\" + -0.034*\"real\" + 0.034*\"experience\" + 0.034*\"adventure\" + 0.032*\"film\" + -0.031*\"unique\" + 0.029*\"build\" + -0.027*\"health\" + -0.027*\"need\" + -0.027*\"needs\" + 0.026*\"energy\" + -0.026*\"money\" + -0.024*\"short\" + 0.023*\"like\" + 0.023*\"campaign\" + 0.022*\"new\" + -0.022*\"women\" + 0.022*\"phone\" + 0.021*\"best\" + 0.020*\"just\" + 0.020*\"better\" + 0.019*\"light\" + -0.018*\"mobile\" + -0.017*\"change\" + 0.015*\"space\" + 0.014*\"designed\" + 0.013*\"way\" + 0.013*\"video\" + -0.012*\"kids\" + 0.012*\"world\" + -0.011*\"great\" + -0.010*\"live\" + -0.009*\"water\" + -0.009*\"share\" + -0.008*\"album\" + 0.006*\"time\" + -0.006*\"year\" + 0.005*\"business\" + 0.005*\"use\" + 0.004*\"make\" + -0.004*\"social\"'), (3, '0.551*\"game\" + -0.305*\"music\" + -0.258*\"wireless\" + 0.207*\"series\" + -0.192*\"sound\" + -0.177*\"art\" + -0.174*\"short\" + -0.172*\"audio\" + -0.167*\"film\" + -0.163*\"camera\" + 0.154*\"people\" + 0.133*\"web\" + 0.123*\"power\" + 0.119*\"social\" + -0.114*\"bluetooth\" + -0.113*\"bike\" + 0.109*\"project\" + 0.109*\"travel\" + -0.107*\"free\" + -0.104*\"album\" + 0.102*\"world\" + 0.095*\"life\" + -0.090*\"work\" + 0.089*\"create\" + 0.082*\"mobile\" + 0.077*\"story\" + 0.075*\"better\" + -0.074*\"help\" + -0.073*\"health\" + -0.072*\"year\" + 0.071*\"app\" + -0.068*\"technology\" + -0.067*\"need\" + 0.067*\"easy\" + -0.065*\"festival\" + 0.065*\"business\" + 0.064*\"future\" + -0.063*\"play\" + 0.061*\"join\" + 0.060*\"like\" + 0.059*\"share\" + 0.058*\"campaign\" + 0.058*\"love\" + -0.055*\"smart\" + -0.052*\"best\" + -0.051*\"new\" + -0.050*\"young\" + -0.047*\"children\" + 0.047*\"family\" + -0.046*\"self\" + -0.044*\"let\" + 0.044*\"use\" + 0.043*\"want\" + -0.041*\"high\" + -0.040*\"funds\" + 0.038*\"kids\" + -0.038*\"electric\" + -0.038*\"just\" + 0.038*\"raise\" + 0.035*\"way\" + -0.035*\"design\" + 0.033*\"real\" + -0.033*\"portable\" + 0.032*\"designed\" + -0.028*\"quality\" + 0.028*\"unique\" + -0.027*\"food\" + 0.024*\"building\" + 0.024*\"home\" + 0.022*\"experience\" + 0.022*\"light\" + 0.022*\"video\" + 0.021*\"needs\" + 0.020*\"community\" + 0.019*\"book\" + 0.018*\"photography\" + -0.016*\"support\" + -0.016*\"save\" + -0.016*\"affordable\" + 0.015*\"great\" + -0.014*\"making\" + -0.013*\"raising\" + 0.012*\"fun\" + -0.012*\"device\" + -0.012*\"make\" + -0.011*\"phone\" + -0.011*\"energy\" + 0.008*\"space\" + -0.008*\"bring\" + 0.007*\"fund\" + -0.005*\"women\" + 0.005*\"money\" + -0.004*\"based\" + -0.004*\"day\" + -0.003*\"live\" + 0.003*\"build\" + -0.002*\"adventure\" + 0.001*\"change\" + -0.000*\"time\" + 0.000*\"water\"'), (4, '-0.278*\"help\" + -0.278*\"game\" + 0.247*\"smart\" + 0.224*\"quality\" + 0.212*\"way\" + 0.200*\"high\" + 0.200*\"app\" + 0.196*\"photography\" + -0.179*\"food\" + 0.171*\"work\" + 0.168*\"self\" + 0.168*\"world\" + -0.165*\"audio\" + -0.161*\"best\" + 0.152*\"great\" + 0.148*\"book\" + -0.144*\"camera\" + 0.132*\"easy\" + -0.131*\"join\" + 0.129*\"needs\" + -0.125*\"new\" + -0.113*\"play\" + 0.112*\"funds\" + 0.110*\"water\" + 0.109*\"fund\" + 0.108*\"build\" + 0.105*\"home\" + -0.103*\"let\" + 0.100*\"life\" + 0.098*\"mobile\" + 0.094*\"art\" + -0.093*\"support\" + 0.092*\"story\" + -0.091*\"adventure\" + 0.091*\"unique\" + -0.088*\"film\" + 0.087*\"people\" + 0.081*\"future\" + -0.081*\"festival\" + 0.077*\"wireless\" + 0.076*\"time\" + 0.076*\"designed\" + -0.075*\"travel\" + 0.075*\"technology\" + 0.070*\"health\" + 0.068*\"design\" + -0.066*\"children\" + -0.061*\"better\" + 0.059*\"making\" + 0.052*\"make\" + 0.050*\"energy\" + -0.049*\"year\" + 0.047*\"phone\" + 0.046*\"project\" + -0.046*\"young\" + 0.046*\"web\" + -0.045*\"family\" + 0.044*\"electric\" + -0.042*\"bike\" + 0.040*\"change\" + 0.039*\"light\" + -0.038*\"social\" + 0.036*\"just\" + 0.036*\"share\" + -0.035*\"short\" + -0.035*\"women\" + -0.035*\"save\" + 0.034*\"fun\" + 0.032*\"raise\" + 0.029*\"like\" + 0.028*\"create\" + 0.028*\"love\" + 0.028*\"raising\" + 0.027*\"real\" + 0.027*\"based\" + 0.027*\"device\" + -0.025*\"bluetooth\" + 0.025*\"space\" + 0.024*\"building\" + -0.019*\"money\" + -0.017*\"album\" + 0.016*\"series\" + -0.015*\"affordable\" + 0.014*\"use\" + -0.013*\"free\" + 0.013*\"kids\" + 0.012*\"live\" + -0.012*\"day\" + 0.010*\"business\" + 0.008*\"want\" + 0.006*\"portable\" + 0.005*\"experience\" + 0.005*\"bring\" + 0.005*\"community\" + 0.005*\"video\" + 0.003*\"power\" + 0.002*\"need\" + 0.002*\"music\" + 0.002*\"campaign\" + -0.001*\"sound\"')]\n"
          ],
          "name": "stdout"
        }
      ]
    }
  ]
}