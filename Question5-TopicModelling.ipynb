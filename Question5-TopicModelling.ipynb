{
  "nbformat": 4,
  "nbformat_minor": 0,
  "metadata": {
    "colab": {
      "name": "Assignment 6.ipynb",
      "provenance": [],
      "collapsed_sections": [],
      "authorship_tag": "ABX9TyOpqm+/zSciLBZDg3wxCTRi",
      "include_colab_link": true
    },
    "kernelspec": {
      "name": "python3",
      "display_name": "Python 3"
    }
  },
  "cells": [
    {
      "cell_type": "markdown",
      "metadata": {
        "id": "view-in-github",
        "colab_type": "text"
      },
      "source": [
        "<a href=\"https://colab.research.google.com/github/GuptaNavdeep1983/CS688/blob/main/Question5-TopicModelling.ipynb\" target=\"_parent\"><img src=\"https://colab.research.google.com/assets/colab-badge.svg\" alt=\"Open In Colab\"/></a>"
      ]
    },
    {
      "cell_type": "markdown",
      "metadata": {
        "id": "G7Jw5OkD-WJl"
      },
      "source": [
        "References:\n",
        "\n",
        "https://datascience.stackexchange.com/questions/54904/how-to-avoid-tokenizing-w-sklearn-feature-extraction\n",
        "\n",
        "\n",
        "https://www.datacamp.com/community/tutorials/discovering-hidden-topics-python\n",
        "\n",
        "https://www.freecodecamp.org/news/an-introduction-to-bag-of-words-and-how-to-code-it-in-python-for-nlp-282e87a9da04/\n",
        "\n",
        "https://scikit-learn.org/stable/modules/generated/sklearn.feature_extraction.text.CountVectorizer.html#sklearn.feature_extraction.text.CountVectorizer.transform\n",
        "\n",
        "https://radimrehurek.com/gensim/auto_examples/core/run_corpora_and_vector_spaces.html\n",
        "\n",
        "https://github.com/brandomr/document_cluster/blob/master/cluster_analysis.ipynb"
      ]
    },
    {
      "cell_type": "code",
      "metadata": {
        "id": "939EWQDE89Pc",
        "outputId": "9c26251f-cd41-473a-d477-b9a0947cd3cd",
        "colab": {
          "base_uri": "https://localhost:8080/"
        }
      },
      "source": [
        "pip install gensim"
      ],
      "execution_count": 1,
      "outputs": [
        {
          "output_type": "stream",
          "text": [
            "Requirement already satisfied: gensim in /usr/local/lib/python3.6/dist-packages (3.6.0)\n",
            "Requirement already satisfied: scipy>=0.18.1 in /usr/local/lib/python3.6/dist-packages (from gensim) (1.4.1)\n",
            "Requirement already satisfied: six>=1.5.0 in /usr/local/lib/python3.6/dist-packages (from gensim) (1.15.0)\n",
            "Requirement already satisfied: smart-open>=1.2.1 in /usr/local/lib/python3.6/dist-packages (from gensim) (4.0.1)\n",
            "Requirement already satisfied: numpy>=1.11.3 in /usr/local/lib/python3.6/dist-packages (from gensim) (1.18.5)\n"
          ],
          "name": "stdout"
        }
      ]
    },
    {
      "cell_type": "code",
      "metadata": {
        "id": "S-_jecXwgU3_",
        "colab": {
          "base_uri": "https://localhost:8080/"
        },
        "outputId": "34fedbc3-7421-4b40-d4c3-6aa5f551739c"
      },
      "source": [
        "import statsmodels.api as sm \n",
        "import pylab as py \n",
        "import matplotlib.pyplot as plt\n",
        "import pandas as pd\n",
        "import urllib.request\n",
        "import datetime\n",
        "from zipfile import ZipFile\n",
        "from gzip import decompress\n",
        "from json import loads\n",
        "from requests import get\n",
        "import requests, zipfile, io\n",
        "from bs4 import BeautifulSoup\n",
        "import math\n",
        "import numpy as np\n",
        "from sklearn.feature_extraction.text import CountVectorizer\n",
        "import re\n",
        "import gensim\n",
        "from gensim import corpora\n",
        "from gensim.models import LsiModel, LdaModel\n",
        "from gensim.models.coherencemodel import CoherenceModel\n",
        "from gensim.test.utils import common_texts\n",
        "from gensim.parsing.preprocessing import remove_stopwords, strip_punctuation, strip_punctuation2, strip_short, strip_numeric, stem_text\n",
        "from gensim.utils import simple_preprocess\n",
        "from gensim.parsing.preprocessing import STOPWORDS\n",
        "from nltk.stem import WordNetLemmatizer, SnowballStemmer\n",
        "from nltk.stem.porter import *"
      ],
      "execution_count": 2,
      "outputs": [
        {
          "output_type": "stream",
          "text": [
            "/usr/local/lib/python3.6/dist-packages/statsmodels/tools/_testing.py:19: FutureWarning: pandas.util.testing is deprecated. Use the functions in the public API at pandas.testing instead.\n",
            "  import pandas.util.testing as tm\n"
          ],
          "name": "stderr"
        }
      ]
    },
    {
      "cell_type": "code",
      "metadata": {
        "id": "RikVoLscGp22",
        "colab": {
          "base_uri": "https://localhost:8080/"
        },
        "outputId": "7c8857cc-9a13-4df0-89a0-6710939b24f6"
      },
      "source": [
        "import nltk\n",
        "nltk.download('wordnet')"
      ],
      "execution_count": 3,
      "outputs": [
        {
          "output_type": "stream",
          "text": [
            "[nltk_data] Downloading package wordnet to /root/nltk_data...\n",
            "[nltk_data]   Unzipping corpora/wordnet.zip.\n"
          ],
          "name": "stdout"
        },
        {
          "output_type": "execute_result",
          "data": {
            "text/plain": [
              "True"
            ]
          },
          "metadata": {
            "tags": []
          },
          "execution_count": 3
        }
      ]
    },
    {
      "cell_type": "code",
      "metadata": {
        "id": "pjTPViKKgafF"
      },
      "source": [
        "def get_crowd_funding_data_links(filter_by_years):\n",
        "    # get the content of the website\n",
        "    content = urllib.request.urlopen('https://webrobots.io/indiegogo-dataset/').read()\n",
        "    soup = BeautifulSoup(content,features='html.parser')\n",
        "    \n",
        "    all_stories = pd.DataFrame([], columns=['Year', 'Month', 'json', 'csv'])\n",
        "    parent_div = soup.find(name='div', attrs={'class':'fusion-text'})\n",
        "\n",
        "    # Iterate through the divs to find the list of Month-Year wise anchor tags\n",
        "    index = 0\n",
        "    for year_data in parent_div.find_all(name='ul'):\n",
        "        all_months = year_data.find_all('li')\n",
        "        for month in all_months:\n",
        "            complete_text = month.text\n",
        "            date_time_obj = datetime.datetime.strptime((complete_text.split('[')[0]).strip(), '%Y-%m-%d')\n",
        "            if date_time_obj.year in filter_by_years:\n",
        "                all_stories.loc[index, \"Year\"] = date_time_obj.year\n",
        "                all_stories.loc[index, \"Month\"] = str(date_time_obj.month) if date_time_obj.month >=10 else f'0{date_time_obj.month}'\n",
        "                all_stories.loc[index, \"json\"] = month.find_all('a')[0][\"href\"]\n",
        "                all_stories.loc[index, \"csv\"] = month.find_all('a')[1][\"href\"]\n",
        "                index = index + 1\n",
        "    return all_stories\n",
        "\n",
        "def get_current_index_data(df, indx, columns):\n",
        "    r = requests.get(df[\"csv\"][indx])\n",
        "    z = zipfile.ZipFile(io.BytesIO(r.content))\n",
        "    csv_data = z.open(\"Indiegogo.csv\")\n",
        "    data_df = pd.read_csv(csv_data, usecols=columns, dtype={'title':str, 'tagline':str})\n",
        "    return data_df\n",
        "def lemmatize_stemming(text):\n",
        "    return stemmer.stem(WordNetLemmatizer().lemmatize(text, pos='v'))\n",
        "\n",
        "# Tokenize and lemmatize\n",
        "def preprocess(text):\n",
        "    result=[]\n",
        "    for token in gensim.utils.simple_preprocess(text) :\n",
        "        if token not in gensim.parsing.preprocessing.STOPWORDS and len(token) > 3:\n",
        "            result.append(lemmatize_stemming(token))\n",
        "            \n",
        "    return result"
      ],
      "execution_count": 4,
      "outputs": []
    },
    {
      "cell_type": "code",
      "metadata": {
        "id": "Qhs2TRecglUJ"
      },
      "source": [
        "df = get_crowd_funding_data_links([2020])\n",
        "stemmer = SnowballStemmer(\"english\")\n",
        "documents = []\n",
        "for indx in df.head(5).index:\n",
        "    current_month_data = get_current_index_data(df, indx, [\"title\", \"tagline\"])\n",
        "    current_month_data.dropna(axis=0, inplace=True)\n",
        "    for index, row in current_month_data.iterrows():\n",
        "      all_content = preprocess(row['tagline'])\n",
        "      documents.append(all_content)"
      ],
      "execution_count": 5,
      "outputs": []
    },
    {
      "cell_type": "code",
      "metadata": {
        "id": "sMp6uX7KHA6T"
      },
      "source": [
        "common_dictionary = corpora.Dictionary(documents)\n",
        "common_dictionary.filter_extremes(no_below=15, no_above=0.1, keep_n= 100000)"
      ],
      "execution_count": 6,
      "outputs": []
    },
    {
      "cell_type": "code",
      "metadata": {
        "id": "RQSatdh57RcW"
      },
      "source": [
        "df = pd.DataFrame(documents, columns=['content'])\n",
        "vectorizer = CountVectorizer(input='content',stop_words='english', analyzer='word', token_pattern=r'\\b[a-zA-Z]{2,}\\b',max_features=100)\n",
        "doc_term_matrix = vectorizer.fit_transform(df['content'])\n",
        "# doc_term_matrix = vectorizer.transform(df['content'])\n",
        "feature_names = vectorizer.get_feature_names()\n",
        "df_dictionary = pd.DataFrame(feature_names)\n",
        "dictionary = df_dictionary.to_dict()[0]\n",
        "# df_doc_term_matrix = pd.DataFrame(doc_term_matrix.toarray())\n",
        "term_doc_matrix = doc_term_matrix.transpose()"
      ],
      "execution_count": null,
      "outputs": []
    },
    {
      "cell_type": "code",
      "metadata": {
        "id": "cAG0J-ufyJyO"
      },
      "source": [
        "\n",
        "common_corpus = [common_dictionary.doc2bow(doc) for doc in documents]\n"
      ],
      "execution_count": 7,
      "outputs": []
    },
    {
      "cell_type": "code",
      "metadata": {
        "id": "NoMFfY4g_CiU",
        "colab": {
          "base_uri": "https://localhost:8080/"
        },
        "outputId": "6280d683-4768-44c2-9464-cad263d205d7"
      },
      "source": [
        "print(common_corpus[1])"
      ],
      "execution_count": 8,
      "outputs": [
        {
          "output_type": "stream",
          "text": [
            "[(2, 1), (9, 1), (10, 1), (11, 1), (12, 1), (13, 1), (14, 1), (15, 1), (16, 1), (17, 1)]\n"
          ],
          "name": "stdout"
        }
      ]
    },
    {
      "cell_type": "code",
      "metadata": {
        "id": "aBwPMD7G8HOK"
      },
      "source": [
        "def create_gensim_lsi_model(common_corpus, common_dictionary):\n",
        "    # generate LSI model\n",
        "    lsamodel = LsiModel(common_corpus, id2word = common_dictionary, num_topics=5)  # train model\n",
        "    print(lsamodel.print_topics())\n",
        "    return lsamodel"
      ],
      "execution_count": 9,
      "outputs": []
    },
    {
      "cell_type": "code",
      "metadata": {
        "id": "2iG6F3iPuhpL"
      },
      "source": [
        "def create_gensim_lda_model(common_corpus, common_dictionary):\n",
        "    # generate LDA model\n",
        "    lsamodel = gensim.models.LdaMulticore(common_corpus, num_topics=5, id2word=common_dictionary, passes=3, workers=2)  # train model\n",
        "    print(lsamodel.print_topics())\n",
        "    return lsamodel"
      ],
      "execution_count": 13,
      "outputs": []
    },
    {
      "cell_type": "code",
      "metadata": {
        "id": "GlogTBQUJm14",
        "outputId": "e817afbc-8a8d-46bd-c077-a81a27b53499",
        "colab": {
          "base_uri": "https://localhost:8080/"
        }
      },
      "source": [
        "lsi_model = create_gensim_lsi_model(common_corpus=common_corpus, common_dictionary=common_dictionary)\n"
      ],
      "execution_count": 11,
      "outputs": [
        {
          "output_type": "stream",
          "text": [
            "[(0, '0.521*\"world\" + 0.395*\"game\" + 0.218*\"need\" + 0.190*\"support\" + 0.177*\"fund\" + 0.148*\"creat\" + 0.131*\"book\" + 0.121*\"music\" + 0.117*\"power\" + 0.117*\"rais\"'), (1, '-0.833*\"game\" + 0.428*\"world\" + -0.132*\"play\" + 0.117*\"need\" + -0.113*\"card\" + -0.097*\"board\" + 0.089*\"fund\" + 0.060*\"rais\" + 0.054*\"support\" + -0.054*\"player\"'), (2, '-0.659*\"world\" + 0.371*\"fund\" + 0.348*\"need\" + 0.287*\"support\" + 0.240*\"rais\" + -0.154*\"game\" + 0.130*\"book\" + 0.091*\"music\" + 0.091*\"communiti\" + 0.069*\"creat\"'), (3, '-0.558*\"fund\" + -0.355*\"rais\" + 0.348*\"support\" + 0.241*\"power\" + 0.232*\"design\" + -0.230*\"world\" + -0.164*\"need\" + -0.128*\"game\" + 0.126*\"life\" + 0.117*\"creat\"'), (4, '-0.846*\"need\" + 0.306*\"fund\" + 0.238*\"book\" + 0.225*\"rais\" + 0.097*\"creat\" + 0.094*\"music\" + 0.071*\"power\" + 0.066*\"design\" + 0.060*\"publish\" + 0.055*\"money\"')]\n"
          ],
          "name": "stdout"
        }
      ]
    },
    {
      "cell_type": "code",
      "metadata": {
        "id": "6NYfambNu7XF",
        "colab": {
          "base_uri": "https://localhost:8080/"
        },
        "outputId": "76a247a9-306c-4f9e-8f76-59c4bcfd9212"
      },
      "source": [
        "lda_model = create_gensim_lda_model(common_corpus, common_dictionary)"
      ],
      "execution_count": 14,
      "outputs": [
        {
          "output_type": "stream",
          "text": [
            "[(0, '0.013*\"need\" + 0.010*\"album\" + 0.009*\"home\" + 0.008*\"fund\" + 0.008*\"support\" + 0.007*\"food\" + 0.007*\"right\" + 0.006*\"coffe\" + 0.006*\"beauti\" + 0.006*\"build\"'), (1, '0.024*\"power\" + 0.016*\"world\" + 0.016*\"design\" + 0.012*\"water\" + 0.010*\"electr\" + 0.010*\"bike\" + 0.009*\"protect\" + 0.009*\"energi\" + 0.008*\"charg\" + 0.007*\"light\"'), (2, '0.031*\"game\" + 0.014*\"communiti\" + 0.014*\"peopl\" + 0.013*\"support\" + 0.009*\"play\" + 0.009*\"creat\" + 0.009*\"live\" + 0.009*\"world\" + 0.009*\"music\" + 0.008*\"educ\"'), (3, '0.021*\"book\" + 0.014*\"stori\" + 0.013*\"seri\" + 0.012*\"fund\" + 0.012*\"film\" + 0.008*\"campaign\" + 0.008*\"rais\" + 0.008*\"life\" + 0.007*\"project\" + 0.007*\"adventur\"'), (4, '0.016*\"camera\" + 0.011*\"sound\" + 0.010*\"qualiti\" + 0.010*\"wireless\" + 0.009*\"audio\" + 0.009*\"world\" + 0.008*\"time\" + 0.008*\"control\" + 0.008*\"bluetooth\" + 0.007*\"smart\"')]\n"
          ],
          "name": "stdout"
        }
      ]
    },
    {
      "cell_type": "code",
      "metadata": {
        "id": "8vw7-oy1qdp7",
        "outputId": "4f1d4f58-116a-4e11-b658-372c4a34e5e5",
        "colab": {
          "base_uri": "https://localhost:8080/"
        }
      },
      "source": [
        "from collections import OrderedDict\r\n",
        "data_lda = {i: OrderedDict(lda_model.show_topic(i,25)) for i in range(5)}\r\n",
        "data_lda"
      ],
      "execution_count": 16,
      "outputs": [
        {
          "output_type": "execute_result",
          "data": {
            "text/plain": [
              "{0: OrderedDict([('need', 0.012990369),\n",
              "              ('album', 0.009726088),\n",
              "              ('home', 0.008532956),\n",
              "              ('fund', 0.0081223175),\n",
              "              ('support', 0.0075382562),\n",
              "              ('food', 0.007218228),\n",
              "              ('right', 0.0066636316),\n",
              "              ('coffe', 0.0061487174),\n",
              "              ('beauti', 0.0059523876),\n",
              "              ('build', 0.005739454),\n",
              "              ('creat', 0.0054835286),\n",
              "              ('want', 0.005438319),\n",
              "              ('bring', 0.005351294),\n",
              "              ('grow', 0.005236025),\n",
              "              ('record', 0.0051383167),\n",
              "              ('make', 0.0051001436),\n",
              "              ('natur', 0.005041955),\n",
              "              ('free', 0.004893772),\n",
              "              ('mind', 0.004854867),\n",
              "              ('good', 0.004743647),\n",
              "              ('give', 0.0047069746),\n",
              "              ('plant', 0.0046644285),\n",
              "              ('rais', 0.0046394174),\n",
              "              ('hous', 0.0045065377),\n",
              "              ('releas', 0.004504747)]),\n",
              " 1: OrderedDict([('power', 0.024089966),\n",
              "              ('world', 0.015975),\n",
              "              ('design', 0.015721573),\n",
              "              ('water', 0.012082164),\n",
              "              ('electr', 0.010257591),\n",
              "              ('bike', 0.010155519),\n",
              "              ('protect', 0.009384428),\n",
              "              ('energi', 0.008664997),\n",
              "              ('charg', 0.00845152),\n",
              "              ('light', 0.007382462),\n",
              "              ('solar', 0.0071181897),\n",
              "              ('clean', 0.006844451),\n",
              "              ('portabl', 0.006709245),\n",
              "              ('save', 0.00656886),\n",
              "              ('smart', 0.0064425375),\n",
              "              ('technolog', 0.006331141),\n",
              "              ('solut', 0.0057919445),\n",
              "              ('innov', 0.005365576),\n",
              "              ('high', 0.0049064765),\n",
              "              ('build', 0.0046847006),\n",
              "              ('devic', 0.004640673),\n",
              "              ('batteri', 0.0046351743),\n",
              "              ('drive', 0.0044941),\n",
              "              ('afford', 0.0043123234),\n",
              "              ('easi', 0.004296239)]),\n",
              " 2: OrderedDict([('game', 0.030792415),\n",
              "              ('communiti', 0.014156837),\n",
              "              ('peopl', 0.014111881),\n",
              "              ('support', 0.0130013),\n",
              "              ('play', 0.00948146),\n",
              "              ('creat', 0.00929857),\n",
              "              ('live', 0.009092207),\n",
              "              ('world', 0.008980175),\n",
              "              ('music', 0.008817116),\n",
              "              ('educ', 0.008220269),\n",
              "              ('build', 0.007839859),\n",
              "              ('share', 0.007440786),\n",
              "              ('chang', 0.0073003196),\n",
              "              ('bring', 0.006937553),\n",
              "              ('need', 0.006719198),\n",
              "              ('children', 0.0063473005),\n",
              "              ('citi', 0.00581996),\n",
              "              ('famili', 0.0054905303),\n",
              "              ('social', 0.00548174),\n",
              "              ('save', 0.005481649),\n",
              "              ('learn', 0.005416458),\n",
              "              ('provid', 0.0050314),\n",
              "              ('health', 0.004935443),\n",
              "              ('time', 0.0047036014),\n",
              "              ('kid', 0.004590076)]),\n",
              " 3: OrderedDict([('book', 0.021415338),\n",
              "              ('stori', 0.0135967685),\n",
              "              ('seri', 0.013061075),\n",
              "              ('fund', 0.01235577),\n",
              "              ('film', 0.011550372),\n",
              "              ('campaign', 0.008324634),\n",
              "              ('rais', 0.0078028156),\n",
              "              ('life', 0.0075040334),\n",
              "              ('project', 0.0072494433),\n",
              "              ('adventur', 0.0071255583),\n",
              "              ('come', 0.007083939),\n",
              "              ('photographi', 0.006991364),\n",
              "              ('world', 0.006793096),\n",
              "              ('comic', 0.006141786),\n",
              "              ('support', 0.005842983),\n",
              "              ('artist', 0.005726262),\n",
              "              ('publish', 0.0057017026),\n",
              "              ('dream', 0.005563031),\n",
              "              ('product', 0.005322657),\n",
              "              ('year', 0.0052237897),\n",
              "              ('love', 0.0052226917),\n",
              "              ('photo', 0.005159032),\n",
              "              ('bring', 0.005155322),\n",
              "              ('need', 0.0048999335),\n",
              "              ('collect', 0.0048838626)]),\n",
              " 4: OrderedDict([('camera', 0.015750427),\n",
              "              ('sound', 0.011216495),\n",
              "              ('qualiti', 0.009783182),\n",
              "              ('wireless', 0.009726313),\n",
              "              ('audio', 0.008843721),\n",
              "              ('world', 0.008663042),\n",
              "              ('time', 0.00839754),\n",
              "              ('control', 0.008306507),\n",
              "              ('bluetooth', 0.007986418),\n",
              "              ('smart', 0.0073277545),\n",
              "              ('music', 0.007314631),\n",
              "              ('devic', 0.0071988157),\n",
              "              ('speaker', 0.00705627),\n",
              "              ('video', 0.0067008557),\n",
              "              ('design', 0.006433462),\n",
              "              ('mobil', 0.0058572385),\n",
              "              ('secur', 0.0057541234),\n",
              "              ('phone', 0.0057310266),\n",
              "              ('light', 0.0055719027),\n",
              "              ('high', 0.005540195),\n",
              "              ('smartphon', 0.0055068606),\n",
              "              ('work', 0.0052227937),\n",
              "              ('need', 0.0051450734),\n",
              "              ('equip', 0.0050345766),\n",
              "              ('connect', 0.004388905)])}"
            ]
          },
          "metadata": {
            "tags": []
          },
          "execution_count": 16
        }
      ]
    },
    {
      "cell_type": "code",
      "metadata": {
        "id": "vhUsvKwzrRj9",
        "outputId": "8efea9c2-335c-4df4-a682-1d149bc898ca",
        "colab": {
          "base_uri": "https://localhost:8080/"
        }
      },
      "source": [
        "df_lda = pd.DataFrame(data_lda)\n",
        "df_lda = df_lda.fillna(0).T\n",
        "print(df_lda.shape)\n"
      ],
      "execution_count": 17,
      "outputs": [
        {
          "output_type": "stream",
          "text": [
            "(5, 102)\n"
          ],
          "name": "stdout"
        }
      ]
    },
    {
      "cell_type": "code",
      "metadata": {
        "id": "1QVeoh2Erqkl",
        "outputId": "9fdcc968-3fde-40f8-c72c-42ad2c71a796",
        "colab": {
          "base_uri": "https://localhost:8080/",
          "height": 1000
        }
      },
      "source": [
        "import seaborn as sns\r\n",
        "g=sns.clustermap(df_lda.corr(), center=0, standard_scale=1, cmap=\"RdBu\", metric='cosine', linewidths=.75, figsize=(15, 15))\r\n",
        "plt.setp(g.ax_heatmap.yaxis.get_majorticklabels(), rotation=0)\r\n",
        "plt.show()"
      ],
      "execution_count": 19,
      "outputs": [
        {
          "output_type": "stream",
          "text": [
            "/usr/local/lib/python3.6/dist-packages/seaborn/matrix.py:659: UserWarning: Clustering large matrix with scipy. Installing `fastcluster` may give better performance.\n",
            "  warnings.warn(msg)\n"
          ],
          "name": "stderr"
        },
        {
          "output_type": "display_data",
          "data": {
            "image/png": "[encoded data removed]",
            "text/plain": [
              "<Figure size 1080x1080 with 4 Axes>"
            ]
          },
          "metadata": {
            "tags": [],
            "needs_background": "light"
          }
        }
      ]
    },
    {
      "cell_type": "code",
      "metadata": {
        "id": "jyhUmWhi4VYc"
      },
      "source": [
        "topics = lda_model.show_topics()\n",
        "for topic in topics:\n",
        "  terms = lda_model.get_topic_terms(topic[0])\n",
        "  print(f\"Topic:{topic[0]} Terms,\")\n",
        "  for term in terms:\n",
        "    print(common_dictionary[term[0]])\n",
        "# for tuple in out:\n",
        "\n",
        "# lda_model.print_topics()\n",
        "# lda_model.top_topics(corpus=common_corpus, dictionary=common_dictionary)"
      ],
      "execution_count": null,
      "outputs": []
    },
    {
      "cell_type": "code",
      "metadata": {
        "id": "_YeQKOSIIMf7",
        "colab": {
          "base_uri": "https://localhost:8080/"
        },
        "outputId": "0b9f272e-d6f2-4e58-c324-290559238d8f"
      },
      "source": [
        "for idx, topic in lda_model.print_topics(-1):\n",
        "    print(\"Topic: {} \\nWords: {}\".format(idx, topic ))\n",
        "    print(\"\\n\")"
      ],
      "execution_count": null,
      "outputs": [
        {
          "output_type": "stream",
          "text": [
            "Topic: 0 \n",
            "Words: 0.021*\"book\" + 0.014*\"stori\" + 0.013*\"seri\" + 0.013*\"film\" + 0.012*\"love\" + 0.011*\"life\" + 0.010*\"children\" + 0.008*\"bring\" + 0.008*\"come\" + 0.007*\"support\"\n",
            "\n",
            "\n",
            "Topic: 1 \n",
            "Words: 0.019*\"power\" + 0.016*\"design\" + 0.012*\"world\" + 0.011*\"smart\" + 0.010*\"light\" + 0.009*\"devic\" + 0.009*\"bike\" + 0.008*\"charg\" + 0.008*\"portabl\" + 0.008*\"wireless\"\n",
            "\n",
            "\n",
            "Topic: 2 \n",
            "Words: 0.012*\"album\" + 0.012*\"food\" + 0.011*\"support\" + 0.011*\"communiti\" + 0.008*\"creat\" + 0.008*\"festiv\" + 0.008*\"build\" + 0.008*\"need\" + 0.007*\"product\" + 0.007*\"music\"\n",
            "\n",
            "\n",
            "Topic: 3 \n",
            "Words: 0.019*\"rais\" + 0.018*\"fund\" + 0.016*\"need\" + 0.011*\"support\" + 0.010*\"music\" + 0.010*\"educ\" + 0.009*\"money\" + 0.009*\"video\" + 0.008*\"peopl\" + 0.007*\"communiti\"\n",
            "\n",
            "\n",
            "Topic: 4 \n",
            "Words: 0.044*\"game\" + 0.018*\"play\" + 0.015*\"world\" + 0.012*\"card\" + 0.010*\"real\" + 0.009*\"adventur\" + 0.008*\"action\" + 0.007*\"base\" + 0.006*\"board\" + 0.006*\"time\"\n",
            "\n",
            "\n"
          ],
          "name": "stdout"
        }
      ]
    },
    {
      "cell_type": "code",
      "metadata": {
        "id": "wUITFqi7-JGg",
        "colab": {
          "base_uri": "https://localhost:8080/",
          "height": 421
        },
        "outputId": "f02f3ade-9332-4a64-ab7c-6dfc35a6bfb1"
      },
      "source": [
        "from sklearn.metrics.pairwise import cosine_similarity\n",
        "from scipy.cluster.hierarchy import ward, dendrogram\n",
        "dist = 1 - cosine_similarity(common_corpus)"
      ],
      "execution_count": null,
      "outputs": [
        {
          "output_type": "error",
          "ename": "ValueError",
          "evalue": "ignored",
          "traceback": [
            "\u001b[0;31m---------------------------------------------------------------------------\u001b[0m",
            "\u001b[0;31mTypeError\u001b[0m                                 Traceback (most recent call last)",
            "\u001b[0;31mTypeError\u001b[0m: float() argument must be a string or a number, not 'list'",
            "\nThe above exception was the direct cause of the following exception:\n",
            "\u001b[0;31mValueError\u001b[0m                                Traceback (most recent call last)",
            "\u001b[0;32m<ipython-input-54-8a39acb32299>\u001b[0m in \u001b[0;36m<module>\u001b[0;34m()\u001b[0m\n\u001b[1;32m      1\u001b[0m \u001b[0;32mfrom\u001b[0m \u001b[0msklearn\u001b[0m\u001b[0;34m.\u001b[0m\u001b[0mmetrics\u001b[0m\u001b[0;34m.\u001b[0m\u001b[0mpairwise\u001b[0m \u001b[0;32mimport\u001b[0m \u001b[0mcosine_similarity\u001b[0m\u001b[0;34m\u001b[0m\u001b[0;34m\u001b[0m\u001b[0m\n\u001b[1;32m      2\u001b[0m \u001b[0;32mfrom\u001b[0m \u001b[0mscipy\u001b[0m\u001b[0;34m.\u001b[0m\u001b[0mcluster\u001b[0m\u001b[0;34m.\u001b[0m\u001b[0mhierarchy\u001b[0m \u001b[0;32mimport\u001b[0m \u001b[0mward\u001b[0m\u001b[0;34m,\u001b[0m \u001b[0mdendrogram\u001b[0m\u001b[0;34m\u001b[0m\u001b[0;34m\u001b[0m\u001b[0m\n\u001b[0;32m----> 3\u001b[0;31m \u001b[0mdist\u001b[0m \u001b[0;34m=\u001b[0m \u001b[0;36m1\u001b[0m \u001b[0;34m-\u001b[0m \u001b[0mcosine_similarity\u001b[0m\u001b[0;34m(\u001b[0m\u001b[0mcommon_corpus\u001b[0m\u001b[0;34m)\u001b[0m\u001b[0;34m\u001b[0m\u001b[0;34m\u001b[0m\u001b[0m\n\u001b[0m",
            "\u001b[0;32m/usr/local/lib/python3.6/dist-packages/sklearn/metrics/pairwise.py\u001b[0m in \u001b[0;36mcosine_similarity\u001b[0;34m(X, Y, dense_output)\u001b[0m\n\u001b[1;32m   1165\u001b[0m     \u001b[0;31m# to avoid recursive import\u001b[0m\u001b[0;34m\u001b[0m\u001b[0;34m\u001b[0m\u001b[0;34m\u001b[0m\u001b[0m\n\u001b[1;32m   1166\u001b[0m \u001b[0;34m\u001b[0m\u001b[0m\n\u001b[0;32m-> 1167\u001b[0;31m     \u001b[0mX\u001b[0m\u001b[0;34m,\u001b[0m \u001b[0mY\u001b[0m \u001b[0;34m=\u001b[0m \u001b[0mcheck_pairwise_arrays\u001b[0m\u001b[0;34m(\u001b[0m\u001b[0mX\u001b[0m\u001b[0;34m,\u001b[0m \u001b[0mY\u001b[0m\u001b[0;34m)\u001b[0m\u001b[0;34m\u001b[0m\u001b[0;34m\u001b[0m\u001b[0m\n\u001b[0m\u001b[1;32m   1168\u001b[0m \u001b[0;34m\u001b[0m\u001b[0m\n\u001b[1;32m   1169\u001b[0m     \u001b[0mX_normalized\u001b[0m \u001b[0;34m=\u001b[0m \u001b[0mnormalize\u001b[0m\u001b[0;34m(\u001b[0m\u001b[0mX\u001b[0m\u001b[0;34m,\u001b[0m \u001b[0mcopy\u001b[0m\u001b[0;34m=\u001b[0m\u001b[0;32mTrue\u001b[0m\u001b[0;34m)\u001b[0m\u001b[0;34m\u001b[0m\u001b[0;34m\u001b[0m\u001b[0m\n",
            "\u001b[0;32m/usr/local/lib/python3.6/dist-packages/sklearn/metrics/pairwise.py\u001b[0m in \u001b[0;36mcheck_pairwise_arrays\u001b[0;34m(X, Y, precomputed, dtype, accept_sparse, force_all_finite, copy)\u001b[0m\n\u001b[1;32m    135\u001b[0m         X = Y = check_array(X, accept_sparse=accept_sparse, dtype=dtype,\n\u001b[1;32m    136\u001b[0m                             \u001b[0mcopy\u001b[0m\u001b[0;34m=\u001b[0m\u001b[0mcopy\u001b[0m\u001b[0;34m,\u001b[0m \u001b[0mforce_all_finite\u001b[0m\u001b[0;34m=\u001b[0m\u001b[0mforce_all_finite\u001b[0m\u001b[0;34m,\u001b[0m\u001b[0;34m\u001b[0m\u001b[0;34m\u001b[0m\u001b[0m\n\u001b[0;32m--> 137\u001b[0;31m                             estimator=estimator)\n\u001b[0m\u001b[1;32m    138\u001b[0m     \u001b[0;32melse\u001b[0m\u001b[0;34m:\u001b[0m\u001b[0;34m\u001b[0m\u001b[0;34m\u001b[0m\u001b[0m\n\u001b[1;32m    139\u001b[0m         X = check_array(X, accept_sparse=accept_sparse, dtype=dtype,\n",
            "\u001b[0;32m/usr/local/lib/python3.6/dist-packages/sklearn/utils/validation.py\u001b[0m in \u001b[0;36mcheck_array\u001b[0;34m(array, accept_sparse, accept_large_sparse, dtype, order, copy, force_all_finite, ensure_2d, allow_nd, ensure_min_samples, ensure_min_features, warn_on_dtype, estimator)\u001b[0m\n\u001b[1;32m    529\u001b[0m                     \u001b[0marray\u001b[0m \u001b[0;34m=\u001b[0m \u001b[0marray\u001b[0m\u001b[0;34m.\u001b[0m\u001b[0mastype\u001b[0m\u001b[0;34m(\u001b[0m\u001b[0mdtype\u001b[0m\u001b[0;34m,\u001b[0m \u001b[0mcasting\u001b[0m\u001b[0;34m=\u001b[0m\u001b[0;34m\"unsafe\"\u001b[0m\u001b[0;34m,\u001b[0m \u001b[0mcopy\u001b[0m\u001b[0;34m=\u001b[0m\u001b[0;32mFalse\u001b[0m\u001b[0;34m)\u001b[0m\u001b[0;34m\u001b[0m\u001b[0;34m\u001b[0m\u001b[0m\n\u001b[1;32m    530\u001b[0m                 \u001b[0;32melse\u001b[0m\u001b[0;34m:\u001b[0m\u001b[0;34m\u001b[0m\u001b[0;34m\u001b[0m\u001b[0m\n\u001b[0;32m--> 531\u001b[0;31m                     \u001b[0marray\u001b[0m \u001b[0;34m=\u001b[0m \u001b[0mnp\u001b[0m\u001b[0;34m.\u001b[0m\u001b[0masarray\u001b[0m\u001b[0;34m(\u001b[0m\u001b[0marray\u001b[0m\u001b[0;34m,\u001b[0m \u001b[0morder\u001b[0m\u001b[0;34m=\u001b[0m\u001b[0morder\u001b[0m\u001b[0;34m,\u001b[0m \u001b[0mdtype\u001b[0m\u001b[0;34m=\u001b[0m\u001b[0mdtype\u001b[0m\u001b[0;34m)\u001b[0m\u001b[0;34m\u001b[0m\u001b[0;34m\u001b[0m\u001b[0m\n\u001b[0m\u001b[1;32m    532\u001b[0m             \u001b[0;32mexcept\u001b[0m \u001b[0mComplexWarning\u001b[0m\u001b[0;34m:\u001b[0m\u001b[0;34m\u001b[0m\u001b[0;34m\u001b[0m\u001b[0m\n\u001b[1;32m    533\u001b[0m                 raise ValueError(\"Complex data not supported\\n\"\n",
            "\u001b[0;32m/usr/local/lib/python3.6/dist-packages/numpy/core/_asarray.py\u001b[0m in \u001b[0;36masarray\u001b[0;34m(a, dtype, order)\u001b[0m\n\u001b[1;32m     83\u001b[0m \u001b[0;34m\u001b[0m\u001b[0m\n\u001b[1;32m     84\u001b[0m     \"\"\"\n\u001b[0;32m---> 85\u001b[0;31m     \u001b[0;32mreturn\u001b[0m \u001b[0marray\u001b[0m\u001b[0;34m(\u001b[0m\u001b[0ma\u001b[0m\u001b[0;34m,\u001b[0m \u001b[0mdtype\u001b[0m\u001b[0;34m,\u001b[0m \u001b[0mcopy\u001b[0m\u001b[0;34m=\u001b[0m\u001b[0;32mFalse\u001b[0m\u001b[0;34m,\u001b[0m \u001b[0morder\u001b[0m\u001b[0;34m=\u001b[0m\u001b[0morder\u001b[0m\u001b[0;34m)\u001b[0m\u001b[0;34m\u001b[0m\u001b[0;34m\u001b[0m\u001b[0m\n\u001b[0m\u001b[1;32m     86\u001b[0m \u001b[0;34m\u001b[0m\u001b[0m\n\u001b[1;32m     87\u001b[0m \u001b[0;34m\u001b[0m\u001b[0m\n",
            "\u001b[0;31mValueError\u001b[0m: setting an array element with a sequence."
          ]
        }
      ]
    },
    {
      "cell_type": "code",
      "metadata": {
        "id": "KeaEvXjYNr0l",
        "colab": {
          "base_uri": "https://localhost:8080/"
        },
        "outputId": "a5a6749e-d12b-467a-ba13-c9f00bcc9d29"
      },
      "source": [
        "import pandas as pd\n",
        "import numpy as np\n",
        "topicWordProbMat = lda_model.print_topics(-1)\n",
        "columns = ['1','2','3','4','5']\n",
        "\n",
        "df = pd.DataFrame(columns = columns)\n",
        "pd.set_option('display.width', 1000)\n",
        "\n",
        "# 40 will be resized later to match number of words in DC\n",
        "zz = np.zeros(shape=(50,5))\n",
        "\n",
        "last_number=0\n",
        "DC={}\n",
        "\n",
        "for x in range (10):\n",
        "  data = pd.DataFrame({columns[0]:\"\",\n",
        "                     columns[1]:\"\",\n",
        "                     columns[2]:\"\",\n",
        "                     columns[3]:\"\",\n",
        "                     columns[4]:\"\",\n",
        "                                                                                       \n",
        "                     \n",
        "                    },index=[0])\n",
        "  df=df.append(data,ignore_index=True)  \n",
        "\n",
        "distances = []    \n",
        "for line in topicWordProbMat:\n",
        "    print(line)\n",
        "    tp, w = line\n",
        "    probs=w.split(\"+\")\n",
        "    y=0\n",
        "    for pr in probs:\n",
        "               \n",
        "        a=pr.split(\"*\")\n",
        "        df.iloc[y,tp] = a[1]\n",
        "        distances.append(float(a[0]))\n",
        "        if a[1] in DC:\n",
        "           zz[DC[a[1]]][tp]=a[0]\n",
        "        else:\n",
        "           zz[last_number][tp]=a[0]\n",
        "           DC[a[1]]=last_number\n",
        "           last_number=last_number+1\n",
        "        y=y+1\n",
        "\n",
        "print (df)\n",
        "print (zz)\n",
        "print(distances)"
      ],
      "execution_count": null,
      "outputs": [
        {
          "output_type": "stream",
          "text": [
            "(0, '0.021*\"book\" + 0.014*\"stori\" + 0.013*\"seri\" + 0.013*\"film\" + 0.012*\"love\" + 0.011*\"life\" + 0.010*\"children\" + 0.008*\"bring\" + 0.008*\"come\" + 0.007*\"support\"')\n",
            "(1, '0.019*\"power\" + 0.016*\"design\" + 0.012*\"world\" + 0.011*\"smart\" + 0.010*\"light\" + 0.009*\"devic\" + 0.009*\"bike\" + 0.008*\"charg\" + 0.008*\"portabl\" + 0.008*\"wireless\"')\n",
            "(2, '0.012*\"album\" + 0.012*\"food\" + 0.011*\"support\" + 0.011*\"communiti\" + 0.008*\"creat\" + 0.008*\"festiv\" + 0.008*\"build\" + 0.008*\"need\" + 0.007*\"product\" + 0.007*\"music\"')\n",
            "(3, '0.019*\"rais\" + 0.018*\"fund\" + 0.016*\"need\" + 0.011*\"support\" + 0.010*\"music\" + 0.010*\"educ\" + 0.009*\"money\" + 0.009*\"video\" + 0.008*\"peopl\" + 0.007*\"communiti\"')\n",
            "(4, '0.044*\"game\" + 0.018*\"play\" + 0.015*\"world\" + 0.012*\"card\" + 0.010*\"real\" + 0.009*\"adventur\" + 0.008*\"action\" + 0.007*\"base\" + 0.006*\"board\" + 0.006*\"time\"')\n",
            "             1           2             3            4            5\n",
            "0      \"book\"     \"power\"       \"album\"       \"rais\"       \"game\" \n",
            "1     \"stori\"    \"design\"        \"food\"       \"fund\"       \"play\" \n",
            "2      \"seri\"     \"world\"     \"support\"       \"need\"      \"world\" \n",
            "3      \"film\"     \"smart\"   \"communiti\"    \"support\"       \"card\" \n",
            "4      \"love\"     \"light\"       \"creat\"      \"music\"       \"real\" \n",
            "5      \"life\"     \"devic\"      \"festiv\"       \"educ\"   \"adventur\" \n",
            "6  \"children\"      \"bike\"       \"build\"      \"money\"     \"action\" \n",
            "7     \"bring\"     \"charg\"        \"need\"      \"video\"       \"base\" \n",
            "8      \"come\"   \"portabl\"     \"product\"      \"peopl\"      \"board\" \n",
            "9    \"support\"  \"wireless\"       \"music\"  \"communiti\"       \"time\"\n",
            "[[0.021 0.    0.    0.    0.   ]\n",
            " [0.014 0.    0.    0.    0.   ]\n",
            " [0.013 0.    0.    0.    0.   ]\n",
            " [0.013 0.    0.    0.    0.   ]\n",
            " [0.012 0.    0.    0.    0.   ]\n",
            " [0.011 0.    0.    0.    0.   ]\n",
            " [0.01  0.    0.    0.    0.   ]\n",
            " [0.008 0.    0.    0.    0.   ]\n",
            " [0.008 0.    0.    0.    0.   ]\n",
            " [0.007 0.    0.    0.    0.   ]\n",
            " [0.    0.019 0.    0.    0.   ]\n",
            " [0.    0.016 0.    0.    0.   ]\n",
            " [0.    0.012 0.    0.    0.015]\n",
            " [0.    0.011 0.    0.    0.   ]\n",
            " [0.    0.01  0.    0.    0.   ]\n",
            " [0.    0.009 0.    0.    0.   ]\n",
            " [0.    0.009 0.    0.    0.   ]\n",
            " [0.    0.008 0.    0.    0.   ]\n",
            " [0.    0.008 0.    0.    0.   ]\n",
            " [0.    0.008 0.    0.    0.   ]\n",
            " [0.    0.    0.012 0.    0.   ]\n",
            " [0.    0.    0.012 0.    0.   ]\n",
            " [0.    0.    0.011 0.011 0.   ]\n",
            " [0.    0.    0.011 0.    0.   ]\n",
            " [0.    0.    0.008 0.    0.   ]\n",
            " [0.    0.    0.008 0.    0.   ]\n",
            " [0.    0.    0.008 0.    0.   ]\n",
            " [0.    0.    0.008 0.016 0.   ]\n",
            " [0.    0.    0.007 0.    0.   ]\n",
            " [0.    0.    0.007 0.    0.   ]\n",
            " [0.    0.    0.    0.019 0.   ]\n",
            " [0.    0.    0.    0.018 0.   ]\n",
            " [0.    0.    0.    0.01  0.   ]\n",
            " [0.    0.    0.    0.01  0.   ]\n",
            " [0.    0.    0.    0.009 0.   ]\n",
            " [0.    0.    0.    0.009 0.   ]\n",
            " [0.    0.    0.    0.008 0.   ]\n",
            " [0.    0.    0.    0.007 0.   ]\n",
            " [0.    0.    0.    0.    0.044]\n",
            " [0.    0.    0.    0.    0.018]\n",
            " [0.    0.    0.    0.    0.012]\n",
            " [0.    0.    0.    0.    0.01 ]\n",
            " [0.    0.    0.    0.    0.009]\n",
            " [0.    0.    0.    0.    0.008]\n",
            " [0.    0.    0.    0.    0.007]\n",
            " [0.    0.    0.    0.    0.006]\n",
            " [0.    0.    0.    0.    0.006]\n",
            " [0.    0.    0.    0.    0.   ]\n",
            " [0.    0.    0.    0.    0.   ]\n",
            " [0.    0.    0.    0.    0.   ]]\n",
            "[0.021, 0.014, 0.013, 0.013, 0.012, 0.011, 0.01, 0.008, 0.008, 0.007, 0.019, 0.016, 0.012, 0.011, 0.01, 0.009, 0.009, 0.008, 0.008, 0.008, 0.012, 0.012, 0.011, 0.011, 0.008, 0.008, 0.008, 0.008, 0.007, 0.007, 0.019, 0.018, 0.016, 0.011, 0.01, 0.01, 0.009, 0.009, 0.008, 0.007, 0.044, 0.018, 0.015, 0.012, 0.01, 0.009, 0.008, 0.007, 0.006, 0.006]\n"
          ],
          "name": "stdout"
        }
      ]
    },
    {
      "cell_type": "code",
      "metadata": {
        "id": "DUALL4ZKrUuR",
        "colab": {
          "base_uri": "https://localhost:8080/",
          "height": 592
        },
        "outputId": "98a19560-fe26-4996-d9ba-4549337935f0"
      },
      "source": [
        "import matplotlib.pyplot as plt\n",
        "import seaborn as sns\n",
        "fig, ax = plt.subplots(figsize=(10,10)) \n",
        "ax.set_ylabel(\"Median Population\", fontname=\"Arial\", fontsize=12)\n",
        "ax = sns.heatmap(zz, yticklabels=DC.keys(), ax=ax)\n"
      ],
      "execution_count": null,
      "outputs": [
        {
          "output_type": "display_data",
          "data": {
            "image/png": "[encoded data removed]",
            "text/plain": [
              "<Figure size 720x720 with 2 Axes>"
            ]
          },
          "metadata": {
            "tags": [],
            "needs_background": "light"
          }
        }
      ]
    }
  ]
}