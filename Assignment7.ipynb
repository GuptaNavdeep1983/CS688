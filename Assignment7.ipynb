{
  "nbformat": 4,
  "nbformat_minor": 0,
  "metadata": {
    "colab": {
      "name": "Assignment7.ipynb",
      "provenance": [],
      "private_outputs": true,
      "collapsed_sections": [],
      "authorship_tag": "ABX9TyMdoRXLF2jecFgbO3vQpj8D",
      "include_colab_link": true
    },
    "kernelspec": {
      "display_name": "R",
      "name": "ir"
    }
  },
  "cells": [
    {
      "cell_type": "markdown",
      "metadata": {
        "id": "view-in-github",
        "colab_type": "text"
      },
      "source": [
        "<a href=\"https://colab.research.google.com/github/GuptaNavdeep1983/CS688/blob/main/Assignment7.ipynb\" target=\"_parent\"><img src=\"https://colab.research.google.com/assets/colab-badge.svg\" alt=\"Open In Colab\"/></a>"
      ]
    },
    {
      "cell_type": "markdown",
      "metadata": {
        "id": "1-mxbiGbxBxL"
      },
      "source": [
        "http://rstudio-pubs-static.s3.amazonaws.com/256588_57b585da6c054349825cba46685d8464.html\n",
        "\n",
        "https://cran.r-project.org/web/packages/easyPubMed/vignettes/getting_started_with_easyPubMed.html\n",
        "\n",
        "http://r-statistics.co/Association-Mining-With-R.html\n",
        "\n",
        "https://blog.revolutionanalytics.com/2019/02/sequential-pattern-mining-in-r.html"
      ]
    },
    {
      "cell_type": "code",
      "metadata": {
        "id": "VymrbU7L2et9"
      },
      "source": [
        "version"
      ],
      "execution_count": null,
      "outputs": []
    },
    {
      "cell_type": "code",
      "metadata": {
        "id": "tN8xbJwz2CRn"
      },
      "source": [
        "install.packages(\"easyPubMed\")\n",
        "install.packages(\"tm\")\n",
        "install.packages(\"qdap\")"
      ],
      "execution_count": null,
      "outputs": []
    },
    {
      "cell_type": "code",
      "metadata": {
        "id": "lY0rbrFW6M1S"
      },
      "source": [
        "install.packages(\"arules\")"
      ],
      "execution_count": null,
      "outputs": []
    },
    {
      "cell_type": "code",
      "metadata": {
        "id": "FLWqs5on3KXY"
      },
      "source": [
        "library(easyPubMed)\n",
        "my_query <- '((\"2020\"[Date - Create]))'\n",
        "my_entrez_id <- get_pubmed_ids(my_query)\n",
        "my_abstracts_xml <- fetch_pubmed_data(my_entrez_id,retstart = 0,  format = \"xml\", retmax = 500)\n",
        "my_PM_list <- articles_to_list(pubmed_data = my_abstracts_xml)"
      ],
      "execution_count": null,
      "outputs": []
    },
    {
      "cell_type": "code",
      "metadata": {
        "id": "LvxMcEryQq8k"
      },
      "source": [
        "xx <- lapply(my_PM_list, article_to_df, autofill = TRUE, max_chars = 50)\n",
        "full_df <- do.call(rbind, xx)"
      ],
      "execution_count": null,
      "outputs": []
    },
    {
      "cell_type": "code",
      "metadata": {
        "id": "2S17F21bRnZE"
      },
      "source": [
        "by_year_month<-full_df[seq(1, 500, by = 1), c(\"year\", \"month\", \"title\")] \n",
        "by_year<-full_df[seq(1, 500, by = 1), c(\"year\", \"title\")] "
      ],
      "execution_count": null,
      "outputs": []
    },
    {
      "cell_type": "code",
      "metadata": {
        "id": "xt4NNtTqULrB"
      },
      "source": [
        "head(by_year)\n",
        "head(by_year_month)"
      ],
      "execution_count": null,
      "outputs": []
    },
    {
      "cell_type": "code",
      "metadata": {
        "id": "ErPWEtYOVebA"
      },
      "source": [
        "library(tm)\n",
        "text_vec <- VectorSource(by_year$title)\n",
        "vec_corpus <- VCorpus(text_vec)\n"
      ],
      "execution_count": null,
      "outputs": []
    },
    {
      "cell_type": "code",
      "metadata": {
        "id": "mCsPeJFyYC-m"
      },
      "source": [
        "str(vec_corpus)"
      ],
      "execution_count": null,
      "outputs": []
    },
    {
      "cell_type": "code",
      "metadata": {
        "id": "ve0yS2ipYXvV"
      },
      "source": [
        "library(qdap)\n",
        "frequent_terms <- freq_terms(by_year$title, 30)\n",
        "plot(frequent_terms)"
      ],
      "execution_count": null,
      "outputs": []
    },
    {
      "cell_type": "code",
      "metadata": {
        "id": "wkdM82BUYFij"
      },
      "source": [
        "clean_corpus <- function(corpus){\n",
        "  corpus <- tm_map(corpus, stripWhitespace)\n",
        "  corpus <- tm_map(corpus, removePunctuation)\n",
        "  corpus <- tm_map(corpus, removeNumbers)\n",
        "  corpus <- tm_map(corpus, content_transformer(tolower))\n",
        "  corpus <- tm_map(corpus, removeWords, stopwords(\"en\"))\n",
        "    return(corpus)\n",
        "}\n",
        "# Apply your customized function to the tweet_corp: clean_corp\n",
        "clean_corp <- clean_corpus(vec_corpus)\n",
        "clean_corp"
      ],
      "execution_count": null,
      "outputs": []
    },
    {
      "cell_type": "code",
      "metadata": {
        "id": "V8b60Q1kat-P"
      },
      "source": [
        "clean_corp[[227]][1]\n",
        "by_year$title[227]"
      ],
      "execution_count": null,
      "outputs": []
    },
    {
      "cell_type": "code",
      "metadata": {
        "id": "C9Dw13W8bALS"
      },
      "source": [
        "# Create the dtm from the corpus: \n",
        "pubmed_dtm <- DocumentTermMatrix(clean_corp)\n",
        "# Print out tweets_dtm data\n",
        "pubmed_dtm"
      ],
      "execution_count": null,
      "outputs": []
    },
    {
      "cell_type": "code",
      "metadata": {
        "id": "LRwsy7fgbJWT"
      },
      "source": [
        "\n",
        "\n",
        "# Since the sparsity is so high, i.e. a proportion of cells with 0s/ cells with other values is too large,\n",
        "# let's remove some of these low frequency terms\n",
        "pubmed_dtm_rm_sparse <- removeSparseTerms(pubmed_dtm, 0.98)\n",
        "\n",
        "# Convert tweets_dtm to a matrix: tweets_m\n",
        "pubmed_m <- as.matrix(pubmed_dtm_rm_sparse)\n",
        "# Print the dimensions of tweets_m\n",
        "dim(pubmed_m)\n",
        "# Review a portion of the matrix\n",
        "pubmed_m[0:10, 0:100]"
      ],
      "execution_count": null,
      "outputs": []
    },
    {
      "cell_type": "code",
      "metadata": {
        "id": "dnrrHxQA53OL"
      },
      "source": [
        "library(arules)\n",
        "\n",
        "rules <- apriori (pubmed_m, parameter = list(supp = 0.001, conf = 0.5))"
      ],
      "execution_count": null,
      "outputs": []
    },
    {
      "cell_type": "code",
      "metadata": {
        "id": "XJrWn3K07AXM"
      },
      "source": [
        "\n",
        "rules_conf <- sort (rules, by=\"confidence\", decreasing=TRUE) # 'high-confidence' rules.\n",
        "rules_conf\n",
        "inspect(head(rules_conf))"
      ],
      "execution_count": null,
      "outputs": []
    },
    {
      "cell_type": "code",
      "metadata": {
        "id": "2G9Jjf5V7q54"
      },
      "source": [
        "rules_lift <- sort (rules, by=\"lift\", decreasing=TRUE) # 'high-lift' rules.\n",
        "inspect(head(rules_lift))"
      ],
      "execution_count": null,
      "outputs": []
    }
  ]
}