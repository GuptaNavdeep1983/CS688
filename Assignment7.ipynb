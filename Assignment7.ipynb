{
  "nbformat": 4,
  "nbformat_minor": 0,
  "metadata": {
    "colab": {
      "name": "Assignment7.ipynb",
      "provenance": [],
      "private_outputs": true,
      "collapsed_sections": [],
      "authorship_tag": "ABX9TyOI24Iup5ulikgrIN3DhmvR",
      "include_colab_link": true
    },
    "kernelspec": {
      "display_name": "R",
      "name": "ir"
    }
  },
  "cells": [
    {
      "cell_type": "markdown",
      "metadata": {
        "id": "view-in-github",
        "colab_type": "text"
      },
      "source": [
        "<a href=\"https://colab.research.google.com/github/GuptaNavdeep1983/CS688/blob/main/Assignment7.ipynb\" target=\"_parent\"><img src=\"https://colab.research.google.com/assets/colab-badge.svg\" alt=\"Open In Colab\"/></a>"
      ]
    },
    {
      "cell_type": "code",
      "metadata": {
        "id": "VymrbU7L2et9"
      },
      "source": [
        "version"
      ],
      "execution_count": null,
      "outputs": []
    },
    {
      "cell_type": "code",
      "metadata": {
        "id": "tN8xbJwz2CRn"
      },
      "source": [
        "install.packages(\"easyPubMed\")"
      ],
      "execution_count": null,
      "outputs": []
    },
    {
      "cell_type": "code",
      "metadata": {
        "id": "Tzo8zFbaNDXl"
      },
      "source": [
        "install.packages(\"XML\")"
      ],
      "execution_count": null,
      "outputs": []
    },
    {
      "cell_type": "code",
      "metadata": {
        "id": "FLWqs5on3KXY"
      },
      "source": [
        "library(easyPubMed)\n",
        "my_query <- '((\"2020\"[Date - Create]))'\n",
        "my_entrez_id <- get_pubmed_ids(my_query)\n",
        "my_abstracts_xml <- fetch_pubmed_data(my_entrez_id,retstart = 0,  format = \"xml\", retmax = 500)\n",
        "my_PM_list <- articles_to_list(pubmed_data = my_abstracts_xml)"
      ],
      "execution_count": null,
      "outputs": []
    },
    {
      "cell_type": "code",
      "metadata": {
        "id": "LvxMcEryQq8k"
      },
      "source": [
        "xx <- lapply(my_PM_list, article_to_df, autofill = TRUE, max_chars = 50)\n",
        "full_df <- do.call(rbind, xx)"
      ],
      "execution_count": null,
      "outputs": []
    },
    {
      "cell_type": "code",
      "metadata": {
        "id": "2S17F21bRnZE"
      },
      "source": [
        "full_df[seq(1, 500, by = 1), c(\"title\", \"year\", \"month\")] "
      ],
      "execution_count": null,
      "outputs": []
    }
  ]
}